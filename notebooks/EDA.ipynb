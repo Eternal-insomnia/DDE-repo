{
 "cells": [
  {
   "cell_type": "markdown",
   "id": "e3601c46",
   "metadata": {},
   "source": [
    "### 1. Библиотеки"
   ]
  },
  {
   "cell_type": "code",
   "execution_count": 1,
   "id": "24ffc405",
   "metadata": {},
   "outputs": [],
   "source": [
    "import pandas as pd\n",
    "import matplotlib.pyplot as plt\n",
    "import seaborn as sns\n",
    "import plotly.express as px"
   ]
  },
  {
   "cell_type": "markdown",
   "id": "99679577",
   "metadata": {},
   "source": [
    "### 2. Загрузка датасета + его осмотр"
   ]
  },
  {
   "cell_type": "code",
   "execution_count": 2,
   "id": "69523fb0",
   "metadata": {},
   "outputs": [
    {
     "name": "stderr",
     "output_type": "stream",
     "text": [
      "c:\\Users\\GOYDA\\.conda\\envs\\dde_env\\Lib\\site-packages\\pandas\\io\\formats\\format.py:1458: RuntimeWarning: overflow encountered in cast\n",
      "  has_large_values = (abs_vals > 1e6).any()\n",
      "c:\\Users\\GOYDA\\.conda\\envs\\dde_env\\Lib\\site-packages\\pandas\\io\\formats\\format.py:1458: RuntimeWarning: overflow encountered in cast\n",
      "  has_large_values = (abs_vals > 1e6).any()\n"
     ]
    },
    {
     "data": {
      "text/html": [
       "<div>\n",
       "<style scoped>\n",
       "    .dataframe tbody tr th:only-of-type {\n",
       "        vertical-align: middle;\n",
       "    }\n",
       "\n",
       "    .dataframe tbody tr th {\n",
       "        vertical-align: top;\n",
       "    }\n",
       "\n",
       "    .dataframe thead th {\n",
       "        text-align: right;\n",
       "    }\n",
       "</style>\n",
       "<table border=\"1\" class=\"dataframe\">\n",
       "  <thead>\n",
       "    <tr style=\"text-align: right;\">\n",
       "      <th></th>\n",
       "      <th>Compound ID</th>\n",
       "      <th>Compound name</th>\n",
       "      <th>InChI</th>\n",
       "      <th>Retention index type</th>\n",
       "      <th>Active phase</th>\n",
       "      <th>Carrier gas</th>\n",
       "      <th>Temperature regime</th>\n",
       "      <th>I</th>\n",
       "      <th>Temperature</th>\n",
       "      <th>Tstart</th>\n",
       "      <th>...</th>\n",
       "      <th>Final hold</th>\n",
       "      <th>Program</th>\n",
       "      <th>Column type</th>\n",
       "      <th>Column length</th>\n",
       "      <th>Column diameter</th>\n",
       "      <th>Phase thickness</th>\n",
       "      <th>Substrate</th>\n",
       "      <th>Reference</th>\n",
       "      <th>Comment</th>\n",
       "      <th>Is column polar</th>\n",
       "    </tr>\n",
       "  </thead>\n",
       "  <tbody>\n",
       "    <tr>\n",
       "      <th>0</th>\n",
       "      <td>C100005</td>\n",
       "      <td>Benzene, 1-chloro-4-nitro-</td>\n",
       "      <td>InChI=1S/C6H4ClNO2/c7-5-1-3-6(4-2-5)8(9)10/h1-4H</td>\n",
       "      <td>Lee's RI</td>\n",
       "      <td>HP5-MS</td>\n",
       "      <td>Helium</td>\n",
       "      <td>temperature ramp</td>\n",
       "      <td>212.0</td>\n",
       "      <td>NaN</td>\n",
       "      <td>50.0</td>\n",
       "      <td>...</td>\n",
       "      <td>10.0</td>\n",
       "      <td>None</td>\n",
       "      <td>Capillary</td>\n",
       "      <td>30.0</td>\n",
       "      <td>0.250000</td>\n",
       "      <td>0.25</td>\n",
       "      <td>None</td>\n",
       "      <td>Vrana, B.</td>\n",
       "      <td>None</td>\n",
       "      <td>False</td>\n",
       "    </tr>\n",
       "    <tr>\n",
       "      <th>1</th>\n",
       "      <td>C100005</td>\n",
       "      <td>Benzene, 1-chloro-4-nitro-</td>\n",
       "      <td>InChI=1S/C6H4ClNO2/c7-5-1-3-6(4-2-5)8(9)10/h1-4H</td>\n",
       "      <td>Normal alkane RI</td>\n",
       "      <td>OV-1</td>\n",
       "      <td>Hydrogen</td>\n",
       "      <td>custom temperature program</td>\n",
       "      <td>1193.0</td>\n",
       "      <td>NaN</td>\n",
       "      <td>NaN</td>\n",
       "      <td>...</td>\n",
       "      <td>NaN</td>\n",
       "      <td>not specified</td>\n",
       "      <td>Capillary</td>\n",
       "      <td>50.0</td>\n",
       "      <td>0.320068</td>\n",
       "      <td>NaN</td>\n",
       "      <td>None</td>\n",
       "      <td>Waggott, A.</td>\n",
       "      <td>None</td>\n",
       "      <td>False</td>\n",
       "    </tr>\n",
       "    <tr>\n",
       "      <th>2</th>\n",
       "      <td>C100005</td>\n",
       "      <td>Benzene, 1-chloro-4-nitro-</td>\n",
       "      <td>InChI=1S/C6H4ClNO2/c7-5-1-3-6(4-2-5)8(9)10/h1-4H</td>\n",
       "      <td>Normal alkane RI</td>\n",
       "      <td>SPB-1</td>\n",
       "      <td>NaN</td>\n",
       "      <td>custom temperature program</td>\n",
       "      <td>1187.0</td>\n",
       "      <td>NaN</td>\n",
       "      <td>NaN</td>\n",
       "      <td>...</td>\n",
       "      <td>NaN</td>\n",
       "      <td>not specified</td>\n",
       "      <td>Capillary</td>\n",
       "      <td>30.0</td>\n",
       "      <td>0.320068</td>\n",
       "      <td>NaN</td>\n",
       "      <td>None</td>\n",
       "      <td>Vezzani, S.</td>\n",
       "      <td>None</td>\n",
       "      <td>False</td>\n",
       "    </tr>\n",
       "    <tr>\n",
       "      <th>3</th>\n",
       "      <td>C100005</td>\n",
       "      <td>Benzene, 1-chloro-4-nitro-</td>\n",
       "      <td>InChI=1S/C6H4ClNO2/c7-5-1-3-6(4-2-5)8(9)10/h1-4H</td>\n",
       "      <td>Normal alkane RI</td>\n",
       "      <td>Ultra-1</td>\n",
       "      <td>Helium</td>\n",
       "      <td>temperature ramp</td>\n",
       "      <td>1189.0</td>\n",
       "      <td>NaN</td>\n",
       "      <td>80.0</td>\n",
       "      <td>...</td>\n",
       "      <td>NaN</td>\n",
       "      <td>None</td>\n",
       "      <td>Capillary</td>\n",
       "      <td>25.0</td>\n",
       "      <td>0.320068</td>\n",
       "      <td>0.25</td>\n",
       "      <td>None</td>\n",
       "      <td>Okumura, T., retention indices of environmenta...</td>\n",
       "      <td>MSDC-RI</td>\n",
       "      <td>False</td>\n",
       "    </tr>\n",
       "    <tr>\n",
       "      <th>4</th>\n",
       "      <td>C100005</td>\n",
       "      <td>Benzene, 1-chloro-4-nitro-</td>\n",
       "      <td>InChI=1S/C6H4ClNO2/c7-5-1-3-6(4-2-5)8(9)10/h1-4H</td>\n",
       "      <td>Normal alkane RI</td>\n",
       "      <td>Carbowax 400, Carbowax 20M, Carbowax 1540, Car...</td>\n",
       "      <td>Hydrogen</td>\n",
       "      <td>custom temperature program</td>\n",
       "      <td>1887.0</td>\n",
       "      <td>NaN</td>\n",
       "      <td>NaN</td>\n",
       "      <td>...</td>\n",
       "      <td>NaN</td>\n",
       "      <td>not specified</td>\n",
       "      <td>Capillary</td>\n",
       "      <td>50.0</td>\n",
       "      <td>0.320068</td>\n",
       "      <td>NaN</td>\n",
       "      <td>None</td>\n",
       "      <td>Waggott, A.</td>\n",
       "      <td>None</td>\n",
       "      <td>True</td>\n",
       "    </tr>\n",
       "  </tbody>\n",
       "</table>\n",
       "<p>5 rows × 23 columns</p>\n",
       "</div>"
      ],
      "text/plain": [
       "  Compound ID               Compound name  \\\n",
       "0     C100005  Benzene, 1-chloro-4-nitro-   \n",
       "1     C100005  Benzene, 1-chloro-4-nitro-   \n",
       "2     C100005  Benzene, 1-chloro-4-nitro-   \n",
       "3     C100005  Benzene, 1-chloro-4-nitro-   \n",
       "4     C100005  Benzene, 1-chloro-4-nitro-   \n",
       "\n",
       "                                              InChI Retention index type  \\\n",
       "0  InChI=1S/C6H4ClNO2/c7-5-1-3-6(4-2-5)8(9)10/h1-4H             Lee's RI   \n",
       "1  InChI=1S/C6H4ClNO2/c7-5-1-3-6(4-2-5)8(9)10/h1-4H     Normal alkane RI   \n",
       "2  InChI=1S/C6H4ClNO2/c7-5-1-3-6(4-2-5)8(9)10/h1-4H     Normal alkane RI   \n",
       "3  InChI=1S/C6H4ClNO2/c7-5-1-3-6(4-2-5)8(9)10/h1-4H     Normal alkane RI   \n",
       "4  InChI=1S/C6H4ClNO2/c7-5-1-3-6(4-2-5)8(9)10/h1-4H     Normal alkane RI   \n",
       "\n",
       "                                        Active phase Carrier gas  \\\n",
       "0                                             HP5-MS      Helium   \n",
       "1                                               OV-1    Hydrogen   \n",
       "2                                              SPB-1         NaN   \n",
       "3                                            Ultra-1      Helium   \n",
       "4  Carbowax 400, Carbowax 20M, Carbowax 1540, Car...    Hydrogen   \n",
       "\n",
       "           Temperature regime       I  Temperature  Tstart  ...  Final hold  \\\n",
       "0            temperature ramp   212.0          NaN    50.0  ...        10.0   \n",
       "1  custom temperature program  1193.0          NaN     NaN  ...         NaN   \n",
       "2  custom temperature program  1187.0          NaN     NaN  ...         NaN   \n",
       "3            temperature ramp  1189.0          NaN    80.0  ...         NaN   \n",
       "4  custom temperature program  1887.0          NaN     NaN  ...         NaN   \n",
       "\n",
       "         Program  Column type  Column length Column diameter Phase thickness  \\\n",
       "0           None    Capillary           30.0        0.250000            0.25   \n",
       "1  not specified    Capillary           50.0        0.320068             NaN   \n",
       "2  not specified    Capillary           30.0        0.320068             NaN   \n",
       "3           None    Capillary           25.0        0.320068            0.25   \n",
       "4  not specified    Capillary           50.0        0.320068             NaN   \n",
       "\n",
       "   Substrate                                          Reference  Comment  \\\n",
       "0       None                                          Vrana, B.     None   \n",
       "1       None                                        Waggott, A.     None   \n",
       "2       None                                        Vezzani, S.     None   \n",
       "3       None  Okumura, T., retention indices of environmenta...  MSDC-RI   \n",
       "4       None                                        Waggott, A.     None   \n",
       "\n",
       "  Is column polar  \n",
       "0           False  \n",
       "1           False  \n",
       "2           False  \n",
       "3           False  \n",
       "4            True  \n",
       "\n",
       "[5 rows x 23 columns]"
      ]
     },
     "execution_count": 2,
     "metadata": {},
     "output_type": "execute_result"
    }
   ],
   "source": [
    "df = pd.read_parquet('../data/gas_chromatography.parquet')\n",
    "df.head()"
   ]
  },
  {
   "cell_type": "code",
   "execution_count": 3,
   "id": "4cbba4c8",
   "metadata": {},
   "outputs": [
    {
     "name": "stderr",
     "output_type": "stream",
     "text": [
      "c:\\Users\\GOYDA\\.conda\\envs\\dde_env\\Lib\\site-packages\\pandas\\io\\formats\\format.py:1458: RuntimeWarning: overflow encountered in cast\n",
      "  has_large_values = (abs_vals > 1e6).any()\n",
      "c:\\Users\\GOYDA\\.conda\\envs\\dde_env\\Lib\\site-packages\\pandas\\io\\formats\\format.py:1458: RuntimeWarning: overflow encountered in cast\n",
      "  has_large_values = (abs_vals > 1e6).any()\n"
     ]
    },
    {
     "data": {
      "text/html": [
       "<div>\n",
       "<style scoped>\n",
       "    .dataframe tbody tr th:only-of-type {\n",
       "        vertical-align: middle;\n",
       "    }\n",
       "\n",
       "    .dataframe tbody tr th {\n",
       "        vertical-align: top;\n",
       "    }\n",
       "\n",
       "    .dataframe thead th {\n",
       "        text-align: right;\n",
       "    }\n",
       "</style>\n",
       "<table border=\"1\" class=\"dataframe\">\n",
       "  <thead>\n",
       "    <tr style=\"text-align: right;\">\n",
       "      <th></th>\n",
       "      <th>Compound ID</th>\n",
       "      <th>Compound name</th>\n",
       "      <th>InChI</th>\n",
       "      <th>Retention index type</th>\n",
       "      <th>Active phase</th>\n",
       "      <th>Carrier gas</th>\n",
       "      <th>Temperature regime</th>\n",
       "      <th>I</th>\n",
       "      <th>Temperature</th>\n",
       "      <th>Tstart</th>\n",
       "      <th>...</th>\n",
       "      <th>Final hold</th>\n",
       "      <th>Program</th>\n",
       "      <th>Column type</th>\n",
       "      <th>Column length</th>\n",
       "      <th>Column diameter</th>\n",
       "      <th>Phase thickness</th>\n",
       "      <th>Substrate</th>\n",
       "      <th>Reference</th>\n",
       "      <th>Comment</th>\n",
       "      <th>Is column polar</th>\n",
       "    </tr>\n",
       "  </thead>\n",
       "  <tbody>\n",
       "    <tr>\n",
       "      <th>1276</th>\n",
       "      <td>C100414</td>\n",
       "      <td>Ethylbenzene</td>\n",
       "      <td>InChI=1S/C8H10/c1-2-8-6-4-3-5-7-8/h3-7H,2H2,1H3</td>\n",
       "      <td>Normal alkane RI</td>\n",
       "      <td>Supelko CO Wax</td>\n",
       "      <td>Helium</td>\n",
       "      <td>custom temperature program</td>\n",
       "      <td>1127.0</td>\n",
       "      <td>NaN</td>\n",
       "      <td>NaN</td>\n",
       "      <td>...</td>\n",
       "      <td>NaN</td>\n",
       "      <td>None</td>\n",
       "      <td>Capillary</td>\n",
       "      <td>60.0</td>\n",
       "      <td>0.320068</td>\n",
       "      <td>0.25</td>\n",
       "      <td>None</td>\n",
       "      <td>Vekiari, S.A.</td>\n",
       "      <td>None</td>\n",
       "      <td>True</td>\n",
       "    </tr>\n",
       "    <tr>\n",
       "      <th>1277</th>\n",
       "      <td>C100414</td>\n",
       "      <td>Ethylbenzene</td>\n",
       "      <td>InChI=1S/C8H10/c1-2-8-6-4-3-5-7-8/h3-7H,2H2,1H3</td>\n",
       "      <td>Normal alkane RI</td>\n",
       "      <td>Supelko CO Wax</td>\n",
       "      <td>Helium</td>\n",
       "      <td>custom temperature program</td>\n",
       "      <td>1122.0</td>\n",
       "      <td>NaN</td>\n",
       "      <td>NaN</td>\n",
       "      <td>...</td>\n",
       "      <td>NaN</td>\n",
       "      <td>40 0C (5 min)  4 0C/min -&gt; 75 0C  5 0C/min -&gt; ...</td>\n",
       "      <td>Capillary</td>\n",
       "      <td>60.0</td>\n",
       "      <td>0.320068</td>\n",
       "      <td>0.25</td>\n",
       "      <td>None</td>\n",
       "      <td>Vekiari, S.A.</td>\n",
       "      <td>None</td>\n",
       "      <td>True</td>\n",
       "    </tr>\n",
       "    <tr>\n",
       "      <th>1278</th>\n",
       "      <td>C100414</td>\n",
       "      <td>Ethylbenzene</td>\n",
       "      <td>InChI=1S/C8H10/c1-2-8-6-4-3-5-7-8/h3-7H,2H2,1H3</td>\n",
       "      <td>Normal alkane RI</td>\n",
       "      <td>Supelko CO Wax</td>\n",
       "      <td>Helium</td>\n",
       "      <td>custom temperature program</td>\n",
       "      <td>1119.0</td>\n",
       "      <td>NaN</td>\n",
       "      <td>NaN</td>\n",
       "      <td>...</td>\n",
       "      <td>NaN</td>\n",
       "      <td>not specified</td>\n",
       "      <td>Capillary</td>\n",
       "      <td>60.0</td>\n",
       "      <td>0.320068</td>\n",
       "      <td>0.25</td>\n",
       "      <td>None</td>\n",
       "      <td>Vekiari, S.A.</td>\n",
       "      <td>None</td>\n",
       "      <td>True</td>\n",
       "    </tr>\n",
       "    <tr>\n",
       "      <th>1279</th>\n",
       "      <td>C100414</td>\n",
       "      <td>Ethylbenzene</td>\n",
       "      <td>InChI=1S/C8H10/c1-2-8-6-4-3-5-7-8/h3-7H,2H2,1H3</td>\n",
       "      <td>Normal alkane RI</td>\n",
       "      <td>Superox 0.6</td>\n",
       "      <td>NaN</td>\n",
       "      <td>NaN</td>\n",
       "      <td>NaN</td>\n",
       "      <td>NaN</td>\n",
       "      <td>NaN</td>\n",
       "      <td>...</td>\n",
       "      <td>NaN</td>\n",
       "      <td>None</td>\n",
       "      <td>NaN</td>\n",
       "      <td>NaN</td>\n",
       "      <td>NaN</td>\n",
       "      <td>NaN</td>\n",
       "      <td>None</td>\n",
       "      <td>None</td>\n",
       "      <td>None</td>\n",
       "      <td>True</td>\n",
       "    </tr>\n",
       "    <tr>\n",
       "      <th>1280</th>\n",
       "      <td>C100414</td>\n",
       "      <td>Ethylbenzene</td>\n",
       "      <td>InChI=1S/C8H10/c1-2-8-6-4-3-5-7-8/h3-7H,2H2,1H3</td>\n",
       "      <td>Normal alkane RI</td>\n",
       "      <td>ZB-Wax</td>\n",
       "      <td>Helium</td>\n",
       "      <td>temperature ramp</td>\n",
       "      <td>1139.0</td>\n",
       "      <td>NaN</td>\n",
       "      <td>40.0</td>\n",
       "      <td>...</td>\n",
       "      <td>10.0</td>\n",
       "      <td>None</td>\n",
       "      <td>Capillary</td>\n",
       "      <td>60.0</td>\n",
       "      <td>0.320068</td>\n",
       "      <td>0.50</td>\n",
       "      <td>None</td>\n",
       "      <td>Wierda R.L.</td>\n",
       "      <td>None</td>\n",
       "      <td>True</td>\n",
       "    </tr>\n",
       "  </tbody>\n",
       "</table>\n",
       "<p>5 rows × 23 columns</p>\n",
       "</div>"
      ],
      "text/plain": [
       "     Compound ID Compound name  \\\n",
       "1276     C100414  Ethylbenzene   \n",
       "1277     C100414  Ethylbenzene   \n",
       "1278     C100414  Ethylbenzene   \n",
       "1279     C100414  Ethylbenzene   \n",
       "1280     C100414  Ethylbenzene   \n",
       "\n",
       "                                                InChI Retention index type  \\\n",
       "1276  InChI=1S/C8H10/c1-2-8-6-4-3-5-7-8/h3-7H,2H2,1H3     Normal alkane RI   \n",
       "1277  InChI=1S/C8H10/c1-2-8-6-4-3-5-7-8/h3-7H,2H2,1H3     Normal alkane RI   \n",
       "1278  InChI=1S/C8H10/c1-2-8-6-4-3-5-7-8/h3-7H,2H2,1H3     Normal alkane RI   \n",
       "1279  InChI=1S/C8H10/c1-2-8-6-4-3-5-7-8/h3-7H,2H2,1H3     Normal alkane RI   \n",
       "1280  InChI=1S/C8H10/c1-2-8-6-4-3-5-7-8/h3-7H,2H2,1H3     Normal alkane RI   \n",
       "\n",
       "        Active phase Carrier gas          Temperature regime       I  \\\n",
       "1276  Supelko CO Wax      Helium  custom temperature program  1127.0   \n",
       "1277  Supelko CO Wax      Helium  custom temperature program  1122.0   \n",
       "1278  Supelko CO Wax      Helium  custom temperature program  1119.0   \n",
       "1279     Superox 0.6         NaN                         NaN     NaN   \n",
       "1280          ZB-Wax      Helium            temperature ramp  1139.0   \n",
       "\n",
       "      Temperature  Tstart  ...  Final hold  \\\n",
       "1276          NaN     NaN  ...         NaN   \n",
       "1277          NaN     NaN  ...         NaN   \n",
       "1278          NaN     NaN  ...         NaN   \n",
       "1279          NaN     NaN  ...         NaN   \n",
       "1280          NaN    40.0  ...        10.0   \n",
       "\n",
       "                                                Program  Column type  \\\n",
       "1276                                               None    Capillary   \n",
       "1277  40 0C (5 min)  4 0C/min -> 75 0C  5 0C/min -> ...    Capillary   \n",
       "1278                                      not specified    Capillary   \n",
       "1279                                               None          NaN   \n",
       "1280                                               None    Capillary   \n",
       "\n",
       "      Column length Column diameter Phase thickness  Substrate      Reference  \\\n",
       "1276           60.0        0.320068            0.25       None  Vekiari, S.A.   \n",
       "1277           60.0        0.320068            0.25       None  Vekiari, S.A.   \n",
       "1278           60.0        0.320068            0.25       None  Vekiari, S.A.   \n",
       "1279            NaN             NaN             NaN       None           None   \n",
       "1280           60.0        0.320068            0.50       None    Wierda R.L.   \n",
       "\n",
       "      Comment Is column polar  \n",
       "1276     None            True  \n",
       "1277     None            True  \n",
       "1278     None            True  \n",
       "1279     None            True  \n",
       "1280     None            True  \n",
       "\n",
       "[5 rows x 23 columns]"
      ]
     },
     "execution_count": 3,
     "metadata": {},
     "output_type": "execute_result"
    }
   ],
   "source": [
    "df.tail()"
   ]
  },
  {
   "cell_type": "code",
   "execution_count": 4,
   "id": "3dbbeea9",
   "metadata": {},
   "outputs": [],
   "source": [
    "plt.style.use('ggplot')\n",
    "colors = sns.color_palette('Accent')"
   ]
  },
  {
   "cell_type": "code",
   "execution_count": 5,
   "id": "de2db455",
   "metadata": {},
   "outputs": [
    {
     "data": {
      "image/png": "[encoded data removed]",
      "text/plain": [
       "<Figure size 2000x500 with 10 Axes>"
      ]
     },
     "metadata": {},
     "output_type": "display_data"
    }
   ],
   "source": [
    "# Plots the histogram for each numerical feature in a separate subplot\n",
    "df.hist(bins=10, figsize=(20, 5), layout=(-1, 5), color=colors[0], edgecolor=\"black\")\n",
    "plt.tight_layout()"
   ]
  },
  {
   "cell_type": "markdown",
   "id": "579b9898",
   "metadata": {},
   "source": [
    "### 3. Проверка типов данных\n",
    "Так как данные загружены после приведения типов. Проверку не проводим"
   ]
  },
  {
   "cell_type": "code",
   "execution_count": 6,
   "id": "fcd2aadc",
   "metadata": {},
   "outputs": [
    {
     "name": "stdout",
     "output_type": "stream",
     "text": [
      "<class 'pandas.core.frame.DataFrame'>\n",
      "RangeIndex: 1281 entries, 0 to 1280\n",
      "Data columns (total 23 columns):\n",
      " #   Column                Non-Null Count  Dtype   \n",
      "---  ------                --------------  -----   \n",
      " 0   Compound ID           1281 non-null   object  \n",
      " 1   Compound name         1281 non-null   object  \n",
      " 2   InChI                 1281 non-null   object  \n",
      " 3   Retention index type  1281 non-null   category\n",
      " 4   Active phase          1281 non-null   object  \n",
      " 5   Carrier gas           834 non-null    category\n",
      " 6   Temperature regime    1278 non-null   category\n",
      " 7   I                     1278 non-null   float32 \n",
      " 8   Temperature           396 non-null    float32 \n",
      " 9   Tstart                548 non-null    float16 \n",
      " 10  Tend                  531 non-null    float16 \n",
      " 11  Heat rate             547 non-null    float16 \n",
      " 12  Initial hold          305 non-null    float16 \n",
      " 13  Final hold            242 non-null    float16 \n",
      " 14  Program               326 non-null    object  \n",
      " 15  Column type           1270 non-null   category\n",
      " 16  Column length         1096 non-null   float16 \n",
      " 17  Column diameter       986 non-null    float16 \n",
      " 18  Phase thickness       658 non-null    float16 \n",
      " 19  Substrate             101 non-null    object  \n",
      " 20  Reference             1265 non-null   object  \n",
      " 21  Comment               137 non-null    object  \n",
      " 22  Is column polar       1281 non-null   bool    \n",
      "dtypes: bool(1), category(4), float16(8), float32(2), object(8)\n",
      "memory usage: 117.1+ KB\n"
     ]
    }
   ],
   "source": [
    "df.info()"
   ]
  },
  {
   "cell_type": "markdown",
   "id": "dcd8f000",
   "metadata": {},
   "source": [
    "### 4. Удаление нерелевантных значений\n",
    "Нерелевантными значениями являются:\n",
    "- Compound name. Название компаунда закодировано в Compound ID\n",
    "- Carrier gas. Нет необходимости знать название транспортирующего газа, так как других параметров этого газа в датасете нет\n",
    "- Initial Hold и Final Hold. Они дублируют Tstart и Tend по смыслу\n",
    "- Program. Нам нет необходимости знать программу изменения температуры. Она прослеживается через параметры температуры\n",
    "- Reference. Имена исполнителей эксперимента. Также не имеют смысла и являются чувствительной информацией\n",
    "- Comment. Комментариев не много. Они не особо важны при работе с датасетом"
   ]
  },
  {
   "cell_type": "code",
   "execution_count": 7,
   "id": "8fa8eb91",
   "metadata": {},
   "outputs": [
    {
     "name": "stdout",
     "output_type": "stream",
     "text": [
      "<class 'pandas.core.frame.DataFrame'>\n",
      "RangeIndex: 1281 entries, 0 to 1280\n",
      "Data columns (total 16 columns):\n",
      " #   Column                Non-Null Count  Dtype   \n",
      "---  ------                --------------  -----   \n",
      " 0   Compound ID           1281 non-null   object  \n",
      " 1   InChI                 1281 non-null   object  \n",
      " 2   Retention index type  1281 non-null   category\n",
      " 3   Active phase          1281 non-null   object  \n",
      " 4   Temperature regime    1278 non-null   category\n",
      " 5   I                     1278 non-null   float32 \n",
      " 6   Temperature           396 non-null    float32 \n",
      " 7   Tstart                548 non-null    float16 \n",
      " 8   Tend                  531 non-null    float16 \n",
      " 9   Heat rate             547 non-null    float16 \n",
      " 10  Column type           1270 non-null   category\n",
      " 11  Column length         1096 non-null   float16 \n",
      " 12  Column diameter       986 non-null    float16 \n",
      " 13  Phase thickness       658 non-null    float16 \n",
      " 14  Substrate             101 non-null    object  \n",
      " 15  Is column polar       1281 non-null   bool    \n",
      "dtypes: bool(1), category(3), float16(6), float32(2), object(4)\n",
      "memory usage: 70.6+ KB\n"
     ]
    }
   ],
   "source": [
    "# Удаляем признаки\n",
    "df.drop(['Compound name', 'Carrier gas', 'Initial hold', 'Final hold', 'Program', 'Reference', 'Comment'], axis=1, inplace=True)\n",
    "df.info()"
   ]
  },
  {
   "cell_type": "markdown",
   "id": "13e4c73b",
   "metadata": {},
   "source": [
    "### 5. Оценка целостности и полноты данных"
   ]
  },
  {
   "cell_type": "code",
   "execution_count": 8,
   "id": "3aef89b1",
   "metadata": {},
   "outputs": [
    {
     "data": {
      "text/plain": [
       "Text(0, 0.5, 'Sample Number')"
      ]
     },
     "execution_count": 8,
     "metadata": {},
     "output_type": "execute_result"
    },
    {
     "data": {
      "image/png": "[encoded data removed]",
      "text/plain": [
       "<Figure size 1000x800 with 1 Axes>"
      ]
     },
     "metadata": {},
     "output_type": "display_data"
    }
   ],
   "source": [
    "# Подсчёт проопущенных значений по столбцам\n",
    "df.isna().sum()\n",
    "plt.figure(figsize=(10, 8))\n",
    "plt.imshow(df.isna(), aspect=\"auto\", interpolation=\"nearest\", cmap='Accent')\n",
    "plt.xticks(ticks=range(len(df.columns)), labels=list(df.columns), rotation=90)\n",
    "plt.ylabel(\"Sample Number\")"
   ]
  },
  {
   "cell_type": "markdown",
   "id": "015e8f64",
   "metadata": {},
   "source": [
    "Из результатов выполненных команд видно, что большинство столбцов имеет незаполненные данные. Особенно выделяется Substrate.  \n",
    "  \n",
    "Substrate: малая заполненность связана с тем, что не во всех экспериментах неподвижная фаза газового хроматографа жидкая, а значит, Substrate не всегда есть.  "
   ]
  },
  {
   "cell_type": "code",
   "execution_count": 9,
   "id": "74f7309c",
   "metadata": {},
   "outputs": [],
   "source": [
    "# Заменим столбец на булевую фичу\n",
    "# Какой именно субстрат использовался в колонке нам не сильно важно\n",
    "df['has_substrate'] = df['Substrate'].notna()\n",
    "df.drop('Substrate', axis=1, inplace=True)"
   ]
  },
  {
   "cell_type": "markdown",
   "id": "4df34d2f",
   "metadata": {},
   "source": [
    "Также, заметны и колонки Temperature regime, I и Column type. В них пропущено мало значений. Так как условия проведения эксперимента можгут сильно отличаться друг от друга, то строки с пропущенными значениями отбрасываются"
   ]
  },
  {
   "cell_type": "code",
   "execution_count": 10,
   "id": "f6116aab",
   "metadata": {},
   "outputs": [],
   "source": [
    "df.dropna(subset=['Temperature regime', 'I', 'Column type'], how='any', inplace=True)"
   ]
  },
  {
   "cell_type": "markdown",
   "id": "99ba215d",
   "metadata": {},
   "source": [
    "Параметры Column length, Column diameter и Phase thickness заполняются медианными значениями"
   ]
  },
  {
   "cell_type": "code",
   "execution_count": 11,
   "id": "76675687",
   "metadata": {},
   "outputs": [],
   "source": [
    "df['Column length'] = df['Column length'].fillna(value=df['Column length'].median())\n",
    "df['Column diameter'] = df['Column diameter'].fillna(value=df['Column diameter'].median())\n",
    "df['Phase thickness'] = df['Phase thickness'].fillna(value=df['Phase thickness'].median())"
   ]
  },
  {
   "cell_type": "markdown",
   "id": "abb4ef09",
   "metadata": {},
   "source": [
    "Параметры Tempereture, Tstart, Tend являются не обязательными для заполнения. Для заполнения некоторых пропусков мы введём правила. Если в столбце Temperature есть данные, а в Tstart и Tend нет - заполнить их значением из Temperature. Если наоборот - заполнить средним между Tstart и Tend"
   ]
  },
  {
   "cell_type": "code",
   "execution_count": 12,
   "id": "04f36da5",
   "metadata": {},
   "outputs": [],
   "source": [
    "df['Temperature'] = df['Temperature'].fillna(value=(df['Tstart'] + df['Tend']) / 2)\n",
    "df['Tstart'] = df['Tstart'].fillna(value=df['Temperature'])\n",
    "df['Tend'] = df['Tend'].fillna(value=df['Temperature'])"
   ]
  },
  {
   "cell_type": "markdown",
   "id": "f0c7c50f",
   "metadata": {},
   "source": [
    "Так как некоторые значения температур изменились, то необходимо значения колонки Heat rate"
   ]
  },
  {
   "cell_type": "code",
   "execution_count": 13,
   "id": "8c164aca",
   "metadata": {},
   "outputs": [],
   "source": [
    "df['Heat rate'] = df['Heat rate'].fillna(value=(df['Tend'] / df['Tstart']))"
   ]
  },
  {
   "cell_type": "markdown",
   "id": "572242e3",
   "metadata": {},
   "source": [
    "Проверим количество пропущенных значений после проделанной работы"
   ]
  },
  {
   "cell_type": "code",
   "execution_count": 14,
   "id": "d68a4f27",
   "metadata": {},
   "outputs": [
    {
     "data": {
      "text/plain": [
       "Compound ID             0.000000\n",
       "InChI                   0.000000\n",
       "Retention index type    0.000000\n",
       "Active phase            0.000000\n",
       "Temperature regime      0.000000\n",
       "I                       0.000000\n",
       "Temperature             0.270079\n",
       "Tstart                  0.256693\n",
       "Tend                    0.270079\n",
       "Heat rate               0.252756\n",
       "Column type             0.000000\n",
       "Column length           0.000000\n",
       "Column diameter         0.000000\n",
       "Phase thickness         0.000000\n",
       "Is column polar         0.000000\n",
       "has_substrate           0.000000\n",
       "dtype: float64"
      ]
     },
     "execution_count": 14,
     "metadata": {},
     "output_type": "execute_result"
    }
   ],
   "source": [
    "df.isna().mean()"
   ]
  },
  {
   "cell_type": "markdown",
   "id": "d8f7234e",
   "metadata": {},
   "source": [
    "Видно, что остались пропущенные значения, которые, в виду уникальности экспериментов, невозможно заполнить, будут отброшены"
   ]
  },
  {
   "cell_type": "code",
   "execution_count": 15,
   "id": "fe50e14c",
   "metadata": {},
   "outputs": [
    {
     "data": {
      "text/plain": [
       "Compound ID             0\n",
       "InChI                   0\n",
       "Retention index type    0\n",
       "Active phase            0\n",
       "Temperature regime      0\n",
       "I                       0\n",
       "Temperature             0\n",
       "Tstart                  0\n",
       "Tend                    0\n",
       "Heat rate               0\n",
       "Column type             0\n",
       "Column length           0\n",
       "Column diameter         0\n",
       "Phase thickness         0\n",
       "Is column polar         0\n",
       "has_substrate           0\n",
       "dtype: int64"
      ]
     },
     "execution_count": 15,
     "metadata": {},
     "output_type": "execute_result"
    }
   ],
   "source": [
    "df.dropna(subset=['Temperature', 'Tstart', 'Tend', 'Heat rate'], how='any', inplace=True)\n",
    "df.isna().sum()"
   ]
  },
  {
   "cell_type": "markdown",
   "id": "56100a86",
   "metadata": {},
   "source": [
    "### 6. Поиск выбросов и аномалий\n",
    "Для поиска выбросов и аномалий буду использовать межквартильный размах (IQR)"
   ]
  },
  {
   "cell_type": "code",
   "execution_count": 16,
   "id": "df7fef87",
   "metadata": {},
   "outputs": [],
   "source": [
    "# Функция поиска выбросов IQR\n",
    "def iqr_outlier_search(df: pd.DataFrame, cols: list):\n",
    "    for col in cols:\n",
    "        Q1 = df[col].quantile(0.25)\n",
    "        Q3 = df[col].quantile(0.75)\n",
    "        IQR = Q3 - Q1\n",
    "        df = df[(df[col] >= Q1 - 1.5 * IQR) & (df[col] <= Q3 + 1.5 * IQR)]"
   ]
  },
  {
   "cell_type": "markdown",
   "id": "d4f9bb40",
   "metadata": {},
   "source": [
    "Построим boxplot для каждого параметра"
   ]
  },
  {
   "cell_type": "code",
   "execution_count": 17,
   "id": "2ddfcb0d",
   "metadata": {},
   "outputs": [
    {
     "data": {
      "application/vnd.plotly.v1+json": {
       "config": {
        "plotlyServerURL": "https://plot.ly"
       },
       "data": [
        {
         "alignmentgroup": "True",
         "hovertemplate": "I=%{y}<extra></extra>",
         "legendgroup": "",
         "marker": {
          "color": "#636efa"
         },
         "name": "",
         "notched": false,
         "offsetgroup": "",
         "orientation": "v",
         "showlegend": false,
         "type": "box",
         "x0": " ",
         "xaxis": "x",
         "y": {
          "bdata": "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",
          "dtype": "f4"
         },
         "y0": " ",
         "yaxis": "y"
        }
       ],
       "layout": {
        "boxmode": "group",
        "legend": {
         "tracegroupgap": 0
        },
        "template": {
         "data": {
          "bar": [
           {
            "error_x": {
             "color": "#2a3f5f"
            },
            "error_y": {
             "color": "#2a3f5f"
            },
            "marker": {
             "line": {
              "color": "#E5ECF6",
              "width": 0.5
             },
             "pattern": {
              "fillmode": "overlay",
              "size": 10,
              "solidity": 0.2
             }
            },
            "type": "bar"
           }
          ],
          "barpolar": [
           {
            "marker": {
             "line": {
              "color": "#E5ECF6",
              "width": 0.5
             },
             "pattern": {
              "fillmode": "overlay",
              "size": 10,
              "solidity": 0.2
             }
            },
            "type": "barpolar"
           }
          ],
          "carpet": [
           {
            "aaxis": {
             "endlinecolor": "#2a3f5f",
             "gridcolor": "white",
             "linecolor": "white",
             "minorgridcolor": "white",
             "startlinecolor": "#2a3f5f"
            },
            "baxis": {
             "endlinecolor": "#2a3f5f",
             "gridcolor": "white",
             "linecolor": "white",
             "minorgridcolor": "white",
             "startlinecolor": "#2a3f5f"
            },
            "type": "carpet"
           }
          ],
          "choropleth": [
           {
            "colorbar": {
             "outlinewidth": 0,
             "ticks": ""
            },
            "type": "choropleth"
           }
          ],
          "contour": [
           {
            "colorbar": {
             "outlinewidth": 0,
             "ticks": ""
            },
            "colorscale": [
             [
              0,
              "#0d0887"
             ],
             [
              0.1111111111111111,
              "#46039f"
             ],
             [
              0.2222222222222222,
              "#7201a8"
             ],
             [
              0.3333333333333333,
              "#9c179e"
             ],
             [
              0.4444444444444444,
              "#bd3786"
             ],
             [
              0.5555555555555556,
              "#d8576b"
             ],
             [
              0.6666666666666666,
              "#ed7953"
             ],
             [
              0.7777777777777778,
              "#fb9f3a"
             ],
             [
              0.8888888888888888,
              "#fdca26"
             ],
             [
              1,
              "#f0f921"
             ]
            ],
            "type": "contour"
           }
          ],
          "contourcarpet": [
           {
            "colorbar": {
             "outlinewidth": 0,
             "ticks": ""
            },
            "type": "contourcarpet"
           }
          ],
          "heatmap": [
           {
            "colorbar": {
             "outlinewidth": 0,
             "ticks": ""
            },
            "colorscale": [
             [
              0,
              "#0d0887"
             ],
             [
              0.1111111111111111,
              "#46039f"
             ],
             [
              0.2222222222222222,
              "#7201a8"
             ],
             [
              0.3333333333333333,
              "#9c179e"
             ],
             [
              0.4444444444444444,
              "#bd3786"
             ],
             [
              0.5555555555555556,
              "#d8576b"
             ],
             [
              0.6666666666666666,
              "#ed7953"
             ],
             [
              0.7777777777777778,
              "#fb9f3a"
             ],
             [
              0.8888888888888888,
              "#fdca26"
             ],
             [
              1,
              "#f0f921"
             ]
            ],
            "type": "heatmap"
           }
          ],
          "histogram": [
           {
            "marker": {
             "pattern": {
              "fillmode": "overlay",
              "size": 10,
              "solidity": 0.2
             }
            },
            "type": "histogram"
           }
          ],
          "histogram2d": [
           {
            "colorbar": {
             "outlinewidth": 0,
             "ticks": ""
            },
            "colorscale": [
             [
              0,
              "#0d0887"
             ],
             [
              0.1111111111111111,
              "#46039f"
             ],
             [
              0.2222222222222222,
              "#7201a8"
             ],
             [
              0.3333333333333333,
              "#9c179e"
             ],
             [
              0.4444444444444444,
              "#bd3786"
             ],
             [
              0.5555555555555556,
              "#d8576b"
             ],
             [
              0.6666666666666666,
              "#ed7953"
             ],
             [
              0.7777777777777778,
              "#fb9f3a"
             ],
             [
              0.8888888888888888,
              "#fdca26"
             ],
             [
              1,
              "#f0f921"
             ]
            ],
            "type": "histogram2d"
           }
          ],
          "histogram2dcontour": [
           {
            "colorbar": {
             "outlinewidth": 0,
             "ticks": ""
            },
            "colorscale": [
             [
              0,
              "#0d0887"
             ],
             [
              0.1111111111111111,
              "#46039f"
             ],
             [
              0.2222222222222222,
              "#7201a8"
             ],
             [
              0.3333333333333333,
              "#9c179e"
             ],
             [
              0.4444444444444444,
              "#bd3786"
             ],
             [
              0.5555555555555556,
              "#d8576b"
             ],
             [
              0.6666666666666666,
              "#ed7953"
             ],
             [
              0.7777777777777778,
              "#fb9f3a"
             ],
             [
              0.8888888888888888,
              "#fdca26"
             ],
             [
              1,
              "#f0f921"
             ]
            ],
            "type": "histogram2dcontour"
           }
          ],
          "mesh3d": [
           {
            "colorbar": {
             "outlinewidth": 0,
             "ticks": ""
            },
            "type": "mesh3d"
           }
          ],
          "parcoords": [
           {
            "line": {
             "colorbar": {
              "outlinewidth": 0,
              "ticks": ""
             }
            },
            "type": "parcoords"
           }
          ],
          "pie": [
           {
            "automargin": true,
            "type": "pie"
           }
          ],
          "scatter": [
           {
            "fillpattern": {
             "fillmode": "overlay",
             "size": 10,
             "solidity": 0.2
            },
            "type": "scatter"
           }
          ],
          "scatter3d": [
           {
            "line": {
             "colorbar": {
              "outlinewidth": 0,
              "ticks": ""
             }
            },
            "marker": {
             "colorbar": {
              "outlinewidth": 0,
              "ticks": ""
             }
            },
            "type": "scatter3d"
           }
          ],
          "scattercarpet": [
           {
            "marker": {
             "colorbar": {
              "outlinewidth": 0,
              "ticks": ""
             }
            },
            "type": "scattercarpet"
           }
          ],
          "scattergeo": [
           {
            "marker": {
             "colorbar": {
              "outlinewidth": 0,
              "ticks": ""
             }
            },
            "type": "scattergeo"
           }
          ],
          "scattergl": [
           {
            "marker": {
             "colorbar": {
              "outlinewidth": 0,
              "ticks": ""
             }
            },
            "type": "scattergl"
           }
          ],
          "scattermap": [
           {
            "marker": {
             "colorbar": {
              "outlinewidth": 0,
              "ticks": ""
             }
            },
            "type": "scattermap"
           }
          ],
          "scattermapbox": [
           {
            "marker": {
             "colorbar": {
              "outlinewidth": 0,
              "ticks": ""
             }
            },
            "type": "scattermapbox"
           }
          ],
          "scatterpolar": [
           {
            "marker": {
             "colorbar": {
              "outlinewidth": 0,
              "ticks": ""
             }
            },
            "type": "scatterpolar"
           }
          ],
          "scatterpolargl": [
           {
            "marker": {
             "colorbar": {
              "outlinewidth": 0,
              "ticks": ""
             }
            },
            "type": "scatterpolargl"
           }
          ],
          "scatterternary": [
           {
            "marker": {
             "colorbar": {
              "outlinewidth": 0,
              "ticks": ""
             }
            },
            "type": "scatterternary"
           }
          ],
          "surface": [
           {
            "colorbar": {
             "outlinewidth": 0,
             "ticks": ""
            },
            "colorscale": [
             [
              0,
              "#0d0887"
             ],
             [
              0.1111111111111111,
              "#46039f"
             ],
             [
              0.2222222222222222,
              "#7201a8"
             ],
             [
              0.3333333333333333,
              "#9c179e"
             ],
             [
              0.4444444444444444,
              "#bd3786"
             ],
             [
              0.5555555555555556,
              "#d8576b"
             ],
             [
              0.6666666666666666,
              "#ed7953"
             ],
             [
              0.7777777777777778,
              "#fb9f3a"
             ],
             [
              0.8888888888888888,
              "#fdca26"
             ],
             [
              1,
              "#f0f921"
             ]
            ],
            "type": "surface"
           }
          ],
          "table": [
           {
            "cells": {
             "fill": {
              "color": "#EBF0F8"
             },
             "line": {
              "color": "white"
             }
            },
            "header": {
             "fill": {
              "color": "#C8D4E3"
             },
             "line": {
              "color": "white"
             }
            },
            "type": "table"
           }
          ]
         },
         "layout": {
          "annotationdefaults": {
           "arrowcolor": "#2a3f5f",
           "arrowhead": 0,
           "arrowwidth": 1
          },
          "autotypenumbers": "strict",
          "coloraxis": {
           "colorbar": {
            "outlinewidth": 0,
            "ticks": ""
           }
          },
          "colorscale": {
           "diverging": [
            [
             0,
             "#8e0152"
            ],
            [
             0.1,
             "#c51b7d"
            ],
            [
             0.2,
             "#de77ae"
            ],
            [
             0.3,
             "#f1b6da"
            ],
            [
             0.4,
             "#fde0ef"
            ],
            [
             0.5,
             "#f7f7f7"
            ],
            [
             0.6,
             "#e6f5d0"
            ],
            [
             0.7,
             "#b8e186"
            ],
            [
             0.8,
             "#7fbc41"
            ],
            [
             0.9,
             "#4d9221"
            ],
            [
             1,
             "#276419"
            ]
           ],
           "sequential": [
            [
             0,
             "#0d0887"
            ],
            [
             0.1111111111111111,
             "#46039f"
            ],
            [
             0.2222222222222222,
             "#7201a8"
            ],
            [
             0.3333333333333333,
             "#9c179e"
            ],
            [
             0.4444444444444444,
             "#bd3786"
            ],
            [
             0.5555555555555556,
             "#d8576b"
            ],
            [
             0.6666666666666666,
             "#ed7953"
            ],
            [
             0.7777777777777778,
             "#fb9f3a"
            ],
            [
             0.8888888888888888,
             "#fdca26"
            ],
            [
             1,
             "#f0f921"
            ]
           ],
           "sequentialminus": [
            [
             0,
             "#0d0887"
            ],
            [
             0.1111111111111111,
             "#46039f"
            ],
            [
             0.2222222222222222,
             "#7201a8"
            ],
            [
             0.3333333333333333,
             "#9c179e"
            ],
            [
             0.4444444444444444,
             "#bd3786"
            ],
            [
             0.5555555555555556,
             "#d8576b"
            ],
            [
             0.6666666666666666,
             "#ed7953"
            ],
            [
             0.7777777777777778,
             "#fb9f3a"
            ],
            [
             0.8888888888888888,
             "#fdca26"
            ],
            [
             1,
             "#f0f921"
            ]
           ]
          },
          "colorway": [
           "#636efa",
           "#EF553B",
           "#00cc96",
           "#ab63fa",
           "#FFA15A",
           "#19d3f3",
           "#FF6692",
           "#B6E880",
           "#FF97FF",
           "#FECB52"
          ],
          "font": {
           "color": "#2a3f5f"
          },
          "geo": {
           "bgcolor": "white",
           "lakecolor": "white",
           "landcolor": "#E5ECF6",
           "showlakes": true,
           "showland": true,
           "subunitcolor": "white"
          },
          "hoverlabel": {
           "align": "left"
          },
          "hovermode": "closest",
          "mapbox": {
           "style": "light"
          },
          "paper_bgcolor": "white",
          "plot_bgcolor": "#E5ECF6",
          "polar": {
           "angularaxis": {
            "gridcolor": "white",
            "linecolor": "white",
            "ticks": ""
           },
           "bgcolor": "#E5ECF6",
           "radialaxis": {
            "gridcolor": "white",
            "linecolor": "white",
            "ticks": ""
           }
          },
          "scene": {
           "xaxis": {
            "backgroundcolor": "#E5ECF6",
            "gridcolor": "white",
            "gridwidth": 2,
            "linecolor": "white",
            "showbackground": true,
            "ticks": "",
            "zerolinecolor": "white"
           },
           "yaxis": {
            "backgroundcolor": "#E5ECF6",
            "gridcolor": "white",
            "gridwidth": 2,
            "linecolor": "white",
            "showbackground": true,
            "ticks": "",
            "zerolinecolor": "white"
           },
           "zaxis": {
            "backgroundcolor": "#E5ECF6",
            "gridcolor": "white",
            "gridwidth": 2,
            "linecolor": "white",
            "showbackground": true,
            "ticks": "",
            "zerolinecolor": "white"
           }
          },
          "shapedefaults": {
           "line": {
            "color": "#2a3f5f"
           }
          },
          "ternary": {
           "aaxis": {
            "gridcolor": "white",
            "linecolor": "white",
            "ticks": ""
           },
           "baxis": {
            "gridcolor": "white",
            "linecolor": "white",
            "ticks": ""
           },
           "bgcolor": "#E5ECF6",
           "caxis": {
            "gridcolor": "white",
            "linecolor": "white",
            "ticks": ""
           }
          },
          "title": {
           "x": 0.05
          },
          "xaxis": {
           "automargin": true,
           "gridcolor": "white",
           "linecolor": "white",
           "ticks": "",
           "title": {
            "standoff": 15
           },
           "zerolinecolor": "white",
           "zerolinewidth": 2
          },
          "yaxis": {
           "automargin": true,
           "gridcolor": "white",
           "linecolor": "white",
           "ticks": "",
           "title": {
            "standoff": 15
           },
           "zerolinecolor": "white",
           "zerolinewidth": 2
          }
         }
        },
        "title": {
         "text": "I"
        },
        "xaxis": {
         "anchor": "y",
         "domain": [
          0,
          1
         ]
        },
        "yaxis": {
         "anchor": "x",
         "domain": [
          0,
          1
         ],
         "title": {
          "text": "I"
         }
        }
       }
      }
     },
     "metadata": {},
     "output_type": "display_data"
    },
    {
     "data": {
      "application/vnd.plotly.v1+json": {
       "config": {
        "plotlyServerURL": "https://plot.ly"
       },
       "data": [
        {
         "alignmentgroup": "True",
         "hovertemplate": "Temperature=%{y}<extra></extra>",
         "legendgroup": "",
         "marker": {
          "color": "#636efa"
         },
         "name": "",
         "notched": false,
         "offsetgroup": "",
         "orientation": "v",
         "showlegend": false,
         "type": "box",
         "x0": " ",
         "xaxis": "x",
         "y": {
          "bdata": "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",
          "dtype": "f4"
         },
         "y0": " ",
         "yaxis": "y"
        }
       ],
       "layout": {
        "boxmode": "group",
        "legend": {
         "tracegroupgap": 0
        },
        "template": {
         "data": {
          "bar": [
           {
            "error_x": {
             "color": "#2a3f5f"
            },
            "error_y": {
             "color": "#2a3f5f"
            },
            "marker": {
             "line": {
              "color": "#E5ECF6",
              "width": 0.5
             },
             "pattern": {
              "fillmode": "overlay",
              "size": 10,
              "solidity": 0.2
             }
            },
            "type": "bar"
           }
          ],
          "barpolar": [
           {
            "marker": {
             "line": {
              "color": "#E5ECF6",
              "width": 0.5
             },
             "pattern": {
              "fillmode": "overlay",
              "size": 10,
              "solidity": 0.2
             }
            },
            "type": "barpolar"
           }
          ],
          "carpet": [
           {
            "aaxis": {
             "endlinecolor": "#2a3f5f",
             "gridcolor": "white",
             "linecolor": "white",
             "minorgridcolor": "white",
             "startlinecolor": "#2a3f5f"
            },
            "baxis": {
             "endlinecolor": "#2a3f5f",
             "gridcolor": "white",
             "linecolor": "white",
             "minorgridcolor": "white",
             "startlinecolor": "#2a3f5f"
            },
            "type": "carpet"
           }
          ],
          "choropleth": [
           {
            "colorbar": {
             "outlinewidth": 0,
             "ticks": ""
            },
            "type": "choropleth"
           }
          ],
          "contour": [
           {
            "colorbar": {
             "outlinewidth": 0,
             "ticks": ""
            },
            "colorscale": [
             [
              0,
              "#0d0887"
             ],
             [
              0.1111111111111111,
              "#46039f"
             ],
             [
              0.2222222222222222,
              "#7201a8"
             ],
             [
              0.3333333333333333,
              "#9c179e"
             ],
             [
              0.4444444444444444,
              "#bd3786"
             ],
             [
              0.5555555555555556,
              "#d8576b"
             ],
             [
              0.6666666666666666,
              "#ed7953"
             ],
             [
              0.7777777777777778,
              "#fb9f3a"
             ],
             [
              0.8888888888888888,
              "#fdca26"
             ],
             [
              1,
              "#f0f921"
             ]
            ],
            "type": "contour"
           }
          ],
          "contourcarpet": [
           {
            "colorbar": {
             "outlinewidth": 0,
             "ticks": ""
            },
            "type": "contourcarpet"
           }
          ],
          "heatmap": [
           {
            "colorbar": {
             "outlinewidth": 0,
             "ticks": ""
            },
            "colorscale": [
             [
              0,
              "#0d0887"
             ],
             [
              0.1111111111111111,
              "#46039f"
             ],
             [
              0.2222222222222222,
              "#7201a8"
             ],
             [
              0.3333333333333333,
              "#9c179e"
             ],
             [
              0.4444444444444444,
              "#bd3786"
             ],
             [
              0.5555555555555556,
              "#d8576b"
             ],
             [
              0.6666666666666666,
              "#ed7953"
             ],
             [
              0.7777777777777778,
              "#fb9f3a"
             ],
             [
              0.8888888888888888,
              "#fdca26"
             ],
             [
              1,
              "#f0f921"
             ]
            ],
            "type": "heatmap"
           }
          ],
          "histogram": [
           {
            "marker": {
             "pattern": {
              "fillmode": "overlay",
              "size": 10,
              "solidity": 0.2
             }
            },
            "type": "histogram"
           }
          ],
          "histogram2d": [
           {
            "colorbar": {
             "outlinewidth": 0,
             "ticks": ""
            },
            "colorscale": [
             [
              0,
              "#0d0887"
             ],
             [
              0.1111111111111111,
              "#46039f"
             ],
             [
              0.2222222222222222,
              "#7201a8"
             ],
             [
              0.3333333333333333,
              "#9c179e"
             ],
             [
              0.4444444444444444,
              "#bd3786"
             ],
             [
              0.5555555555555556,
              "#d8576b"
             ],
             [
              0.6666666666666666,
              "#ed7953"
             ],
             [
              0.7777777777777778,
              "#fb9f3a"
             ],
             [
              0.8888888888888888,
              "#fdca26"
             ],
             [
              1,
              "#f0f921"
             ]
            ],
            "type": "histogram2d"
           }
          ],
          "histogram2dcontour": [
           {
            "colorbar": {
             "outlinewidth": 0,
             "ticks": ""
            },
            "colorscale": [
             [
              0,
              "#0d0887"
             ],
             [
              0.1111111111111111,
              "#46039f"
             ],
             [
              0.2222222222222222,
              "#7201a8"
             ],
             [
              0.3333333333333333,
              "#9c179e"
             ],
             [
              0.4444444444444444,
              "#bd3786"
             ],
             [
              0.5555555555555556,
              "#d8576b"
             ],
             [
              0.6666666666666666,
              "#ed7953"
             ],
             [
              0.7777777777777778,
              "#fb9f3a"
             ],
             [
              0.8888888888888888,
              "#fdca26"
             ],
             [
              1,
              "#f0f921"
             ]
            ],
            "type": "histogram2dcontour"
           }
          ],
          "mesh3d": [
           {
            "colorbar": {
             "outlinewidth": 0,
             "ticks": ""
            },
            "type": "mesh3d"
           }
          ],
          "parcoords": [
           {
            "line": {
             "colorbar": {
              "outlinewidth": 0,
              "ticks": ""
             }
            },
            "type": "parcoords"
           }
          ],
          "pie": [
           {
            "automargin": true,
            "type": "pie"
           }
          ],
          "scatter": [
           {
            "fillpattern": {
             "fillmode": "overlay",
             "size": 10,
             "solidity": 0.2
            },
            "type": "scatter"
           }
          ],
          "scatter3d": [
           {
            "line": {
             "colorbar": {
              "outlinewidth": 0,
              "ticks": ""
             }
            },
            "marker": {
             "colorbar": {
              "outlinewidth": 0,
              "ticks": ""
             }
            },
            "type": "scatter3d"
           }
          ],
          "scattercarpet": [
           {
            "marker": {
             "colorbar": {
              "outlinewidth": 0,
              "ticks": ""
             }
            },
            "type": "scattercarpet"
           }
          ],
          "scattergeo": [
           {
            "marker": {
             "colorbar": {
              "outlinewidth": 0,
              "ticks": ""
             }
            },
            "type": "scattergeo"
           }
          ],
          "scattergl": [
           {
            "marker": {
             "colorbar": {
              "outlinewidth": 0,
              "ticks": ""
             }
            },
            "type": "scattergl"
           }
          ],
          "scattermap": [
           {
            "marker": {
             "colorbar": {
              "outlinewidth": 0,
              "ticks": ""
             }
            },
            "type": "scattermap"
           }
          ],
          "scattermapbox": [
           {
            "marker": {
             "colorbar": {
              "outlinewidth": 0,
              "ticks": ""
             }
            },
            "type": "scattermapbox"
           }
          ],
          "scatterpolar": [
           {
            "marker": {
             "colorbar": {
              "outlinewidth": 0,
              "ticks": ""
             }
            },
            "type": "scatterpolar"
           }
          ],
          "scatterpolargl": [
           {
            "marker": {
             "colorbar": {
              "outlinewidth": 0,
              "ticks": ""
             }
            },
            "type": "scatterpolargl"
           }
          ],
          "scatterternary": [
           {
            "marker": {
             "colorbar": {
              "outlinewidth": 0,
              "ticks": ""
             }
            },
            "type": "scatterternary"
           }
          ],
          "surface": [
           {
            "colorbar": {
             "outlinewidth": 0,
             "ticks": ""
            },
            "colorscale": [
             [
              0,
              "#0d0887"
             ],
             [
              0.1111111111111111,
              "#46039f"
             ],
             [
              0.2222222222222222,
              "#7201a8"
             ],
             [
              0.3333333333333333,
              "#9c179e"
             ],
             [
              0.4444444444444444,
              "#bd3786"
             ],
             [
              0.5555555555555556,
              "#d8576b"
             ],
             [
              0.6666666666666666,
              "#ed7953"
             ],
             [
              0.7777777777777778,
              "#fb9f3a"
             ],
             [
              0.8888888888888888,
              "#fdca26"
             ],
             [
              1,
              "#f0f921"
             ]
            ],
            "type": "surface"
           }
          ],
          "table": [
           {
            "cells": {
             "fill": {
              "color": "#EBF0F8"
             },
             "line": {
              "color": "white"
             }
            },
            "header": {
             "fill": {
              "color": "#C8D4E3"
             },
             "line": {
              "color": "white"
             }
            },
            "type": "table"
           }
          ]
         },
         "layout": {
          "annotationdefaults": {
           "arrowcolor": "#2a3f5f",
           "arrowhead": 0,
           "arrowwidth": 1
          },
          "autotypenumbers": "strict",
          "coloraxis": {
           "colorbar": {
            "outlinewidth": 0,
            "ticks": ""
           }
          },
          "colorscale": {
           "diverging": [
            [
             0,
             "#8e0152"
            ],
            [
             0.1,
             "#c51b7d"
            ],
            [
             0.2,
             "#de77ae"
            ],
            [
             0.3,
             "#f1b6da"
            ],
            [
             0.4,
             "#fde0ef"
            ],
            [
             0.5,
             "#f7f7f7"
            ],
            [
             0.6,
             "#e6f5d0"
            ],
            [
             0.7,
             "#b8e186"
            ],
            [
             0.8,
             "#7fbc41"
            ],
            [
             0.9,
             "#4d9221"
            ],
            [
             1,
             "#276419"
            ]
           ],
           "sequential": [
            [
             0,
             "#0d0887"
            ],
            [
             0.1111111111111111,
             "#46039f"
            ],
            [
             0.2222222222222222,
             "#7201a8"
            ],
            [
             0.3333333333333333,
             "#9c179e"
            ],
            [
             0.4444444444444444,
             "#bd3786"
            ],
            [
             0.5555555555555556,
             "#d8576b"
            ],
            [
             0.6666666666666666,
             "#ed7953"
            ],
            [
             0.7777777777777778,
             "#fb9f3a"
            ],
            [
             0.8888888888888888,
             "#fdca26"
            ],
            [
             1,
             "#f0f921"
            ]
           ],
           "sequentialminus": [
            [
             0,
             "#0d0887"
            ],
            [
             0.1111111111111111,
             "#46039f"
            ],
            [
             0.2222222222222222,
             "#7201a8"
            ],
            [
             0.3333333333333333,
             "#9c179e"
            ],
            [
             0.4444444444444444,
             "#bd3786"
            ],
            [
             0.5555555555555556,
             "#d8576b"
            ],
            [
             0.6666666666666666,
             "#ed7953"
            ],
            [
             0.7777777777777778,
             "#fb9f3a"
            ],
            [
             0.8888888888888888,
             "#fdca26"
            ],
            [
             1,
             "#f0f921"
            ]
           ]
          },
          "colorway": [
           "#636efa",
           "#EF553B",
           "#00cc96",
           "#ab63fa",
           "#FFA15A",
           "#19d3f3",
           "#FF6692",
           "#B6E880",
           "#FF97FF",
           "#FECB52"
          ],
          "font": {
           "color": "#2a3f5f"
          },
          "geo": {
           "bgcolor": "white",
           "lakecolor": "white",
           "landcolor": "#E5ECF6",
           "showlakes": true,
           "showland": true,
           "subunitcolor": "white"
          },
          "hoverlabel": {
           "align": "left"
          },
          "hovermode": "closest",
          "mapbox": {
           "style": "light"
          },
          "paper_bgcolor": "white",
          "plot_bgcolor": "#E5ECF6",
          "polar": {
           "angularaxis": {
            "gridcolor": "white",
            "linecolor": "white",
            "ticks": ""
           },
           "bgcolor": "#E5ECF6",
           "radialaxis": {
            "gridcolor": "white",
            "linecolor": "white",
            "ticks": ""
           }
          },
          "scene": {
           "xaxis": {
            "backgroundcolor": "#E5ECF6",
            "gridcolor": "white",
            "gridwidth": 2,
            "linecolor": "white",
            "showbackground": true,
            "ticks": "",
            "zerolinecolor": "white"
           },
           "yaxis": {
            "backgroundcolor": "#E5ECF6",
            "gridcolor": "white",
            "gridwidth": 2,
            "linecolor": "white",
            "showbackground": true,
            "ticks": "",
            "zerolinecolor": "white"
           },
           "zaxis": {
            "backgroundcolor": "#E5ECF6",
            "gridcolor": "white",
            "gridwidth": 2,
            "linecolor": "white",
            "showbackground": true,
            "ticks": "",
            "zerolinecolor": "white"
           }
          },
          "shapedefaults": {
           "line": {
            "color": "#2a3f5f"
           }
          },
          "ternary": {
           "aaxis": {
            "gridcolor": "white",
            "linecolor": "white",
            "ticks": ""
           },
           "baxis": {
            "gridcolor": "white",
            "linecolor": "white",
            "ticks": ""
           },
           "bgcolor": "#E5ECF6",
           "caxis": {
            "gridcolor": "white",
            "linecolor": "white",
            "ticks": ""
           }
          },
          "title": {
           "x": 0.05
          },
          "xaxis": {
           "automargin": true,
           "gridcolor": "white",
           "linecolor": "white",
           "ticks": "",
           "title": {
            "standoff": 15
           },
           "zerolinecolor": "white",
           "zerolinewidth": 2
          },
          "yaxis": {
           "automargin": true,
           "gridcolor": "white",
           "linecolor": "white",
           "ticks": "",
           "title": {
            "standoff": 15
           },
           "zerolinecolor": "white",
           "zerolinewidth": 2
          }
         }
        },
        "title": {
         "text": "Temperature"
        },
        "xaxis": {
         "anchor": "y",
         "domain": [
          0,
          1
         ]
        },
        "yaxis": {
         "anchor": "x",
         "domain": [
          0,
          1
         ],
         "title": {
          "text": "Temperature"
         }
        }
       }
      }
     },
     "metadata": {},
     "output_type": "display_data"
    },
    {
     "data": {
      "application/vnd.plotly.v1+json": {
       "config": {
        "plotlyServerURL": "https://plot.ly"
       },
       "data": [
        {
         "alignmentgroup": "True",
         "hovertemplate": "Tstart=%{y}<extra></extra>",
         "legendgroup": "",
         "marker": {
          "color": "#636efa"
         },
         "name": "",
         "notched": false,
         "offsetgroup": "",
         "orientation": "v",
         "showlegend": false,
         "type": "box",
         "x0": " ",
         "xaxis": "x",
         "y": {
          "bdata": "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",
          "dtype": "f4"
         },
         "y0": " ",
         "yaxis": "y"
        }
       ],
       "layout": {
        "boxmode": "group",
        "legend": {
         "tracegroupgap": 0
        },
        "template": {
         "data": {
          "bar": [
           {
            "error_x": {
             "color": "#2a3f5f"
            },
            "error_y": {
             "color": "#2a3f5f"
            },
            "marker": {
             "line": {
              "color": "#E5ECF6",
              "width": 0.5
             },
             "pattern": {
              "fillmode": "overlay",
              "size": 10,
              "solidity": 0.2
             }
            },
            "type": "bar"
           }
          ],
          "barpolar": [
           {
            "marker": {
             "line": {
              "color": "#E5ECF6",
              "width": 0.5
             },
             "pattern": {
              "fillmode": "overlay",
              "size": 10,
              "solidity": 0.2
             }
            },
            "type": "barpolar"
           }
          ],
          "carpet": [
           {
            "aaxis": {
             "endlinecolor": "#2a3f5f",
             "gridcolor": "white",
             "linecolor": "white",
             "minorgridcolor": "white",
             "startlinecolor": "#2a3f5f"
            },
            "baxis": {
             "endlinecolor": "#2a3f5f",
             "gridcolor": "white",
             "linecolor": "white",
             "minorgridcolor": "white",
             "startlinecolor": "#2a3f5f"
            },
            "type": "carpet"
           }
          ],
          "choropleth": [
           {
            "colorbar": {
             "outlinewidth": 0,
             "ticks": ""
            },
            "type": "choropleth"
           }
          ],
          "contour": [
           {
            "colorbar": {
             "outlinewidth": 0,
             "ticks": ""
            },
            "colorscale": [
             [
              0,
              "#0d0887"
             ],
             [
              0.1111111111111111,
              "#46039f"
             ],
             [
              0.2222222222222222,
              "#7201a8"
             ],
             [
              0.3333333333333333,
              "#9c179e"
             ],
             [
              0.4444444444444444,
              "#bd3786"
             ],
             [
              0.5555555555555556,
              "#d8576b"
             ],
             [
              0.6666666666666666,
              "#ed7953"
             ],
             [
              0.7777777777777778,
              "#fb9f3a"
             ],
             [
              0.8888888888888888,
              "#fdca26"
             ],
             [
              1,
              "#f0f921"
             ]
            ],
            "type": "contour"
           }
          ],
          "contourcarpet": [
           {
            "colorbar": {
             "outlinewidth": 0,
             "ticks": ""
            },
            "type": "contourcarpet"
           }
          ],
          "heatmap": [
           {
            "colorbar": {
             "outlinewidth": 0,
             "ticks": ""
            },
            "colorscale": [
             [
              0,
              "#0d0887"
             ],
             [
              0.1111111111111111,
              "#46039f"
             ],
             [
              0.2222222222222222,
              "#7201a8"
             ],
             [
              0.3333333333333333,
              "#9c179e"
             ],
             [
              0.4444444444444444,
              "#bd3786"
             ],
             [
              0.5555555555555556,
              "#d8576b"
             ],
             [
              0.6666666666666666,
              "#ed7953"
             ],
             [
              0.7777777777777778,
              "#fb9f3a"
             ],
             [
              0.8888888888888888,
              "#fdca26"
             ],
             [
              1,
              "#f0f921"
             ]
            ],
            "type": "heatmap"
           }
          ],
          "histogram": [
           {
            "marker": {
             "pattern": {
              "fillmode": "overlay",
              "size": 10,
              "solidity": 0.2
             }
            },
            "type": "histogram"
           }
          ],
          "histogram2d": [
           {
            "colorbar": {
             "outlinewidth": 0,
             "ticks": ""
            },
            "colorscale": [
             [
              0,
              "#0d0887"
             ],
             [
              0.1111111111111111,
              "#46039f"
             ],
             [
              0.2222222222222222,
              "#7201a8"
             ],
             [
              0.3333333333333333,
              "#9c179e"
             ],
             [
              0.4444444444444444,
              "#bd3786"
             ],
             [
              0.5555555555555556,
              "#d8576b"
             ],
             [
              0.6666666666666666,
              "#ed7953"
             ],
             [
              0.7777777777777778,
              "#fb9f3a"
             ],
             [
              0.8888888888888888,
              "#fdca26"
             ],
             [
              1,
              "#f0f921"
             ]
            ],
            "type": "histogram2d"
           }
          ],
          "histogram2dcontour": [
           {
            "colorbar": {
             "outlinewidth": 0,
             "ticks": ""
            },
            "colorscale": [
             [
              0,
              "#0d0887"
             ],
             [
              0.1111111111111111,
              "#46039f"
             ],
             [
              0.2222222222222222,
              "#7201a8"
             ],
             [
              0.3333333333333333,
              "#9c179e"
             ],
             [
              0.4444444444444444,
              "#bd3786"
             ],
             [
              0.5555555555555556,
              "#d8576b"
             ],
             [
              0.6666666666666666,
              "#ed7953"
             ],
             [
              0.7777777777777778,
              "#fb9f3a"
             ],
             [
              0.8888888888888888,
              "#fdca26"
             ],
             [
              1,
              "#f0f921"
             ]
            ],
            "type": "histogram2dcontour"
           }
          ],
          "mesh3d": [
           {
            "colorbar": {
             "outlinewidth": 0,
             "ticks": ""
            },
            "type": "mesh3d"
           }
          ],
          "parcoords": [
           {
            "line": {
             "colorbar": {
              "outlinewidth": 0,
              "ticks": ""
             }
            },
            "type": "parcoords"
           }
          ],
          "pie": [
           {
            "automargin": true,
            "type": "pie"
           }
          ],
          "scatter": [
           {
            "fillpattern": {
             "fillmode": "overlay",
             "size": 10,
             "solidity": 0.2
            },
            "type": "scatter"
           }
          ],
          "scatter3d": [
           {
            "line": {
             "colorbar": {
              "outlinewidth": 0,
              "ticks": ""
             }
            },
            "marker": {
             "colorbar": {
              "outlinewidth": 0,
              "ticks": ""
             }
            },
            "type": "scatter3d"
           }
          ],
          "scattercarpet": [
           {
            "marker": {
             "colorbar": {
              "outlinewidth": 0,
              "ticks": ""
             }
            },
            "type": "scattercarpet"
           }
          ],
          "scattergeo": [
           {
            "marker": {
             "colorbar": {
              "outlinewidth": 0,
              "ticks": ""
             }
            },
            "type": "scattergeo"
           }
          ],
          "scattergl": [
           {
            "marker": {
             "colorbar": {
              "outlinewidth": 0,
              "ticks": ""
             }
            },
            "type": "scattergl"
           }
          ],
          "scattermap": [
           {
            "marker": {
             "colorbar": {
              "outlinewidth": 0,
              "ticks": ""
             }
            },
            "type": "scattermap"
           }
          ],
          "scattermapbox": [
           {
            "marker": {
             "colorbar": {
              "outlinewidth": 0,
              "ticks": ""
             }
            },
            "type": "scattermapbox"
           }
          ],
          "scatterpolar": [
           {
            "marker": {
             "colorbar": {
              "outlinewidth": 0,
              "ticks": ""
             }
            },
            "type": "scatterpolar"
           }
          ],
          "scatterpolargl": [
           {
            "marker": {
             "colorbar": {
              "outlinewidth": 0,
              "ticks": ""
             }
            },
            "type": "scatterpolargl"
           }
          ],
          "scatterternary": [
           {
            "marker": {
             "colorbar": {
              "outlinewidth": 0,
              "ticks": ""
             }
            },
            "type": "scatterternary"
           }
          ],
          "surface": [
           {
            "colorbar": {
             "outlinewidth": 0,
             "ticks": ""
            },
            "colorscale": [
             [
              0,
              "#0d0887"
             ],
             [
              0.1111111111111111,
              "#46039f"
             ],
             [
              0.2222222222222222,
              "#7201a8"
             ],
             [
              0.3333333333333333,
              "#9c179e"
             ],
             [
              0.4444444444444444,
              "#bd3786"
             ],
             [
              0.5555555555555556,
              "#d8576b"
             ],
             [
              0.6666666666666666,
              "#ed7953"
             ],
             [
              0.7777777777777778,
              "#fb9f3a"
             ],
             [
              0.8888888888888888,
              "#fdca26"
             ],
             [
              1,
              "#f0f921"
             ]
            ],
            "type": "surface"
           }
          ],
          "table": [
           {
            "cells": {
             "fill": {
              "color": "#EBF0F8"
             },
             "line": {
              "color": "white"
             }
            },
            "header": {
             "fill": {
              "color": "#C8D4E3"
             },
             "line": {
              "color": "white"
             }
            },
            "type": "table"
           }
          ]
         },
         "layout": {
          "annotationdefaults": {
           "arrowcolor": "#2a3f5f",
           "arrowhead": 0,
           "arrowwidth": 1
          },
          "autotypenumbers": "strict",
          "coloraxis": {
           "colorbar": {
            "outlinewidth": 0,
            "ticks": ""
           }
          },
          "colorscale": {
           "diverging": [
            [
             0,
             "#8e0152"
            ],
            [
             0.1,
             "#c51b7d"
            ],
            [
             0.2,
             "#de77ae"
            ],
            [
             0.3,
             "#f1b6da"
            ],
            [
             0.4,
             "#fde0ef"
            ],
            [
             0.5,
             "#f7f7f7"
            ],
            [
             0.6,
             "#e6f5d0"
            ],
            [
             0.7,
             "#b8e186"
            ],
            [
             0.8,
             "#7fbc41"
            ],
            [
             0.9,
             "#4d9221"
            ],
            [
             1,
             "#276419"
            ]
           ],
           "sequential": [
            [
             0,
             "#0d0887"
            ],
            [
             0.1111111111111111,
             "#46039f"
            ],
            [
             0.2222222222222222,
             "#7201a8"
            ],
            [
             0.3333333333333333,
             "#9c179e"
            ],
            [
             0.4444444444444444,
             "#bd3786"
            ],
            [
             0.5555555555555556,
             "#d8576b"
            ],
            [
             0.6666666666666666,
             "#ed7953"
            ],
            [
             0.7777777777777778,
             "#fb9f3a"
            ],
            [
             0.8888888888888888,
             "#fdca26"
            ],
            [
             1,
             "#f0f921"
            ]
           ],
           "sequentialminus": [
            [
             0,
             "#0d0887"
            ],
            [
             0.1111111111111111,
             "#46039f"
            ],
            [
             0.2222222222222222,
             "#7201a8"
            ],
            [
             0.3333333333333333,
             "#9c179e"
            ],
            [
             0.4444444444444444,
             "#bd3786"
            ],
            [
             0.5555555555555556,
             "#d8576b"
            ],
            [
             0.6666666666666666,
             "#ed7953"
            ],
            [
             0.7777777777777778,
             "#fb9f3a"
            ],
            [
             0.8888888888888888,
             "#fdca26"
            ],
            [
             1,
             "#f0f921"
            ]
           ]
          },
          "colorway": [
           "#636efa",
           "#EF553B",
           "#00cc96",
           "#ab63fa",
           "#FFA15A",
           "#19d3f3",
           "#FF6692",
           "#B6E880",
           "#FF97FF",
           "#FECB52"
          ],
          "font": {
           "color": "#2a3f5f"
          },
          "geo": {
           "bgcolor": "white",
           "lakecolor": "white",
           "landcolor": "#E5ECF6",
           "showlakes": true,
           "showland": true,
           "subunitcolor": "white"
          },
          "hoverlabel": {
           "align": "left"
          },
          "hovermode": "closest",
          "mapbox": {
           "style": "light"
          },
          "paper_bgcolor": "white",
          "plot_bgcolor": "#E5ECF6",
          "polar": {
           "angularaxis": {
            "gridcolor": "white",
            "linecolor": "white",
            "ticks": ""
           },
           "bgcolor": "#E5ECF6",
           "radialaxis": {
            "gridcolor": "white",
            "linecolor": "white",
            "ticks": ""
           }
          },
          "scene": {
           "xaxis": {
            "backgroundcolor": "#E5ECF6",
            "gridcolor": "white",
            "gridwidth": 2,
            "linecolor": "white",
            "showbackground": true,
            "ticks": "",
            "zerolinecolor": "white"
           },
           "yaxis": {
            "backgroundcolor": "#E5ECF6",
            "gridcolor": "white",
            "gridwidth": 2,
            "linecolor": "white",
            "showbackground": true,
            "ticks": "",
            "zerolinecolor": "white"
           },
           "zaxis": {
            "backgroundcolor": "#E5ECF6",
            "gridcolor": "white",
            "gridwidth": 2,
            "linecolor": "white",
            "showbackground": true,
            "ticks": "",
            "zerolinecolor": "white"
           }
          },
          "shapedefaults": {
           "line": {
            "color": "#2a3f5f"
           }
          },
          "ternary": {
           "aaxis": {
            "gridcolor": "white",
            "linecolor": "white",
            "ticks": ""
           },
           "baxis": {
            "gridcolor": "white",
            "linecolor": "white",
            "ticks": ""
           },
           "bgcolor": "#E5ECF6",
           "caxis": {
            "gridcolor": "white",
            "linecolor": "white",
            "ticks": ""
           }
          },
          "title": {
           "x": 0.05
          },
          "xaxis": {
           "automargin": true,
           "gridcolor": "white",
           "linecolor": "white",
           "ticks": "",
           "title": {
            "standoff": 15
           },
           "zerolinecolor": "white",
           "zerolinewidth": 2
          },
          "yaxis": {
           "automargin": true,
           "gridcolor": "white",
           "linecolor": "white",
           "ticks": "",
           "title": {
            "standoff": 15
           },
           "zerolinecolor": "white",
           "zerolinewidth": 2
          }
         }
        },
        "title": {
         "text": "Tstart"
        },
        "xaxis": {
         "anchor": "y",
         "domain": [
          0,
          1
         ]
        },
        "yaxis": {
         "anchor": "x",
         "domain": [
          0,
          1
         ],
         "title": {
          "text": "Tstart"
         }
        }
       }
      }
     },
     "metadata": {},
     "output_type": "display_data"
    },
    {
     "data": {
      "application/vnd.plotly.v1+json": {
       "config": {
        "plotlyServerURL": "https://plot.ly"
       },
       "data": [
        {
         "alignmentgroup": "True",
         "hovertemplate": "Tend=%{y}<extra></extra>",
         "legendgroup": "",
         "marker": {
          "color": "#636efa"
         },
         "name": "",
         "notched": false,
         "offsetgroup": "",
         "orientation": "v",
         "showlegend": false,
         "type": "box",
         "x0": " ",
         "xaxis": "x",
         "y": {
          "bdata": "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",
          "dtype": "f4"
         },
         "y0": " ",
         "yaxis": "y"
        }
       ],
       "layout": {
        "boxmode": "group",
        "legend": {
         "tracegroupgap": 0
        },
        "template": {
         "data": {
          "bar": [
           {
            "error_x": {
             "color": "#2a3f5f"
            },
            "error_y": {
             "color": "#2a3f5f"
            },
            "marker": {
             "line": {
              "color": "#E5ECF6",
              "width": 0.5
             },
             "pattern": {
              "fillmode": "overlay",
              "size": 10,
              "solidity": 0.2
             }
            },
            "type": "bar"
           }
          ],
          "barpolar": [
           {
            "marker": {
             "line": {
              "color": "#E5ECF6",
              "width": 0.5
             },
             "pattern": {
              "fillmode": "overlay",
              "size": 10,
              "solidity": 0.2
             }
            },
            "type": "barpolar"
           }
          ],
          "carpet": [
           {
            "aaxis": {
             "endlinecolor": "#2a3f5f",
             "gridcolor": "white",
             "linecolor": "white",
             "minorgridcolor": "white",
             "startlinecolor": "#2a3f5f"
            },
            "baxis": {
             "endlinecolor": "#2a3f5f",
             "gridcolor": "white",
             "linecolor": "white",
             "minorgridcolor": "white",
             "startlinecolor": "#2a3f5f"
            },
            "type": "carpet"
           }
          ],
          "choropleth": [
           {
            "colorbar": {
             "outlinewidth": 0,
             "ticks": ""
            },
            "type": "choropleth"
           }
          ],
          "contour": [
           {
            "colorbar": {
             "outlinewidth": 0,
             "ticks": ""
            },
            "colorscale": [
             [
              0,
              "#0d0887"
             ],
             [
              0.1111111111111111,
              "#46039f"
             ],
             [
              0.2222222222222222,
              "#7201a8"
             ],
             [
              0.3333333333333333,
              "#9c179e"
             ],
             [
              0.4444444444444444,
              "#bd3786"
             ],
             [
              0.5555555555555556,
              "#d8576b"
             ],
             [
              0.6666666666666666,
              "#ed7953"
             ],
             [
              0.7777777777777778,
              "#fb9f3a"
             ],
             [
              0.8888888888888888,
              "#fdca26"
             ],
             [
              1,
              "#f0f921"
             ]
            ],
            "type": "contour"
           }
          ],
          "contourcarpet": [
           {
            "colorbar": {
             "outlinewidth": 0,
             "ticks": ""
            },
            "type": "contourcarpet"
           }
          ],
          "heatmap": [
           {
            "colorbar": {
             "outlinewidth": 0,
             "ticks": ""
            },
            "colorscale": [
             [
              0,
              "#0d0887"
             ],
             [
              0.1111111111111111,
              "#46039f"
             ],
             [
              0.2222222222222222,
              "#7201a8"
             ],
             [
              0.3333333333333333,
              "#9c179e"
             ],
             [
              0.4444444444444444,
              "#bd3786"
             ],
             [
              0.5555555555555556,
              "#d8576b"
             ],
             [
              0.6666666666666666,
              "#ed7953"
             ],
             [
              0.7777777777777778,
              "#fb9f3a"
             ],
             [
              0.8888888888888888,
              "#fdca26"
             ],
             [
              1,
              "#f0f921"
             ]
            ],
            "type": "heatmap"
           }
          ],
          "histogram": [
           {
            "marker": {
             "pattern": {
              "fillmode": "overlay",
              "size": 10,
              "solidity": 0.2
             }
            },
            "type": "histogram"
           }
          ],
          "histogram2d": [
           {
            "colorbar": {
             "outlinewidth": 0,
             "ticks": ""
            },
            "colorscale": [
             [
              0,
              "#0d0887"
             ],
             [
              0.1111111111111111,
              "#46039f"
             ],
             [
              0.2222222222222222,
              "#7201a8"
             ],
             [
              0.3333333333333333,
              "#9c179e"
             ],
             [
              0.4444444444444444,
              "#bd3786"
             ],
             [
              0.5555555555555556,
              "#d8576b"
             ],
             [
              0.6666666666666666,
              "#ed7953"
             ],
             [
              0.7777777777777778,
              "#fb9f3a"
             ],
             [
              0.8888888888888888,
              "#fdca26"
             ],
             [
              1,
              "#f0f921"
             ]
            ],
            "type": "histogram2d"
           }
          ],
          "histogram2dcontour": [
           {
            "colorbar": {
             "outlinewidth": 0,
             "ticks": ""
            },
            "colorscale": [
             [
              0,
              "#0d0887"
             ],
             [
              0.1111111111111111,
              "#46039f"
             ],
             [
              0.2222222222222222,
              "#7201a8"
             ],
             [
              0.3333333333333333,
              "#9c179e"
             ],
             [
              0.4444444444444444,
              "#bd3786"
             ],
             [
              0.5555555555555556,
              "#d8576b"
             ],
             [
              0.6666666666666666,
              "#ed7953"
             ],
             [
              0.7777777777777778,
              "#fb9f3a"
             ],
             [
              0.8888888888888888,
              "#fdca26"
             ],
             [
              1,
              "#f0f921"
             ]
            ],
            "type": "histogram2dcontour"
           }
          ],
          "mesh3d": [
           {
            "colorbar": {
             "outlinewidth": 0,
             "ticks": ""
            },
            "type": "mesh3d"
           }
          ],
          "parcoords": [
           {
            "line": {
             "colorbar": {
              "outlinewidth": 0,
              "ticks": ""
             }
            },
            "type": "parcoords"
           }
          ],
          "pie": [
           {
            "automargin": true,
            "type": "pie"
           }
          ],
          "scatter": [
           {
            "fillpattern": {
             "fillmode": "overlay",
             "size": 10,
             "solidity": 0.2
            },
            "type": "scatter"
           }
          ],
          "scatter3d": [
           {
            "line": {
             "colorbar": {
              "outlinewidth": 0,
              "ticks": ""
             }
            },
            "marker": {
             "colorbar": {
              "outlinewidth": 0,
              "ticks": ""
             }
            },
            "type": "scatter3d"
           }
          ],
          "scattercarpet": [
           {
            "marker": {
             "colorbar": {
              "outlinewidth": 0,
              "ticks": ""
             }
            },
            "type": "scattercarpet"
           }
          ],
          "scattergeo": [
           {
            "marker": {
             "colorbar": {
              "outlinewidth": 0,
              "ticks": ""
             }
            },
            "type": "scattergeo"
           }
          ],
          "scattergl": [
           {
            "marker": {
             "colorbar": {
              "outlinewidth": 0,
              "ticks": ""
             }
            },
            "type": "scattergl"
           }
          ],
          "scattermap": [
           {
            "marker": {
             "colorbar": {
              "outlinewidth": 0,
              "ticks": ""
             }
            },
            "type": "scattermap"
           }
          ],
          "scattermapbox": [
           {
            "marker": {
             "colorbar": {
              "outlinewidth": 0,
              "ticks": ""
             }
            },
            "type": "scattermapbox"
           }
          ],
          "scatterpolar": [
           {
            "marker": {
             "colorbar": {
              "outlinewidth": 0,
              "ticks": ""
             }
            },
            "type": "scatterpolar"
           }
          ],
          "scatterpolargl": [
           {
            "marker": {
             "colorbar": {
              "outlinewidth": 0,
              "ticks": ""
             }
            },
            "type": "scatterpolargl"
           }
          ],
          "scatterternary": [
           {
            "marker": {
             "colorbar": {
              "outlinewidth": 0,
              "ticks": ""
             }
            },
            "type": "scatterternary"
           }
          ],
          "surface": [
           {
            "colorbar": {
             "outlinewidth": 0,
             "ticks": ""
            },
            "colorscale": [
             [
              0,
              "#0d0887"
             ],
             [
              0.1111111111111111,
              "#46039f"
             ],
             [
              0.2222222222222222,
              "#7201a8"
             ],
             [
              0.3333333333333333,
              "#9c179e"
             ],
             [
              0.4444444444444444,
              "#bd3786"
             ],
             [
              0.5555555555555556,
              "#d8576b"
             ],
             [
              0.6666666666666666,
              "#ed7953"
             ],
             [
              0.7777777777777778,
              "#fb9f3a"
             ],
             [
              0.8888888888888888,
              "#fdca26"
             ],
             [
              1,
              "#f0f921"
             ]
            ],
            "type": "surface"
           }
          ],
          "table": [
           {
            "cells": {
             "fill": {
              "color": "#EBF0F8"
             },
             "line": {
              "color": "white"
             }
            },
            "header": {
             "fill": {
              "color": "#C8D4E3"
             },
             "line": {
              "color": "white"
             }
            },
            "type": "table"
           }
          ]
         },
         "layout": {
          "annotationdefaults": {
           "arrowcolor": "#2a3f5f",
           "arrowhead": 0,
           "arrowwidth": 1
          },
          "autotypenumbers": "strict",
          "coloraxis": {
           "colorbar": {
            "outlinewidth": 0,
            "ticks": ""
           }
          },
          "colorscale": {
           "diverging": [
            [
             0,
             "#8e0152"
            ],
            [
             0.1,
             "#c51b7d"
            ],
            [
             0.2,
             "#de77ae"
            ],
            [
             0.3,
             "#f1b6da"
            ],
            [
             0.4,
             "#fde0ef"
            ],
            [
             0.5,
             "#f7f7f7"
            ],
            [
             0.6,
             "#e6f5d0"
            ],
            [
             0.7,
             "#b8e186"
            ],
            [
             0.8,
             "#7fbc41"
            ],
            [
             0.9,
             "#4d9221"
            ],
            [
             1,
             "#276419"
            ]
           ],
           "sequential": [
            [
             0,
             "#0d0887"
            ],
            [
             0.1111111111111111,
             "#46039f"
            ],
            [
             0.2222222222222222,
             "#7201a8"
            ],
            [
             0.3333333333333333,
             "#9c179e"
            ],
            [
             0.4444444444444444,
             "#bd3786"
            ],
            [
             0.5555555555555556,
             "#d8576b"
            ],
            [
             0.6666666666666666,
             "#ed7953"
            ],
            [
             0.7777777777777778,
             "#fb9f3a"
            ],
            [
             0.8888888888888888,
             "#fdca26"
            ],
            [
             1,
             "#f0f921"
            ]
           ],
           "sequentialminus": [
            [
             0,
             "#0d0887"
            ],
            [
             0.1111111111111111,
             "#46039f"
            ],
            [
             0.2222222222222222,
             "#7201a8"
            ],
            [
             0.3333333333333333,
             "#9c179e"
            ],
            [
             0.4444444444444444,
             "#bd3786"
            ],
            [
             0.5555555555555556,
             "#d8576b"
            ],
            [
             0.6666666666666666,
             "#ed7953"
            ],
            [
             0.7777777777777778,
             "#fb9f3a"
            ],
            [
             0.8888888888888888,
             "#fdca26"
            ],
            [
             1,
             "#f0f921"
            ]
           ]
          },
          "colorway": [
           "#636efa",
           "#EF553B",
           "#00cc96",
           "#ab63fa",
           "#FFA15A",
           "#19d3f3",
           "#FF6692",
           "#B6E880",
           "#FF97FF",
           "#FECB52"
          ],
          "font": {
           "color": "#2a3f5f"
          },
          "geo": {
           "bgcolor": "white",
           "lakecolor": "white",
           "landcolor": "#E5ECF6",
           "showlakes": true,
           "showland": true,
           "subunitcolor": "white"
          },
          "hoverlabel": {
           "align": "left"
          },
          "hovermode": "closest",
          "mapbox": {
           "style": "light"
          },
          "paper_bgcolor": "white",
          "plot_bgcolor": "#E5ECF6",
          "polar": {
           "angularaxis": {
            "gridcolor": "white",
            "linecolor": "white",
            "ticks": ""
           },
           "bgcolor": "#E5ECF6",
           "radialaxis": {
            "gridcolor": "white",
            "linecolor": "white",
            "ticks": ""
           }
          },
          "scene": {
           "xaxis": {
            "backgroundcolor": "#E5ECF6",
            "gridcolor": "white",
            "gridwidth": 2,
            "linecolor": "white",
            "showbackground": true,
            "ticks": "",
            "zerolinecolor": "white"
           },
           "yaxis": {
            "backgroundcolor": "#E5ECF6",
            "gridcolor": "white",
            "gridwidth": 2,
            "linecolor": "white",
            "showbackground": true,
            "ticks": "",
            "zerolinecolor": "white"
           },
           "zaxis": {
            "backgroundcolor": "#E5ECF6",
            "gridcolor": "white",
            "gridwidth": 2,
            "linecolor": "white",
            "showbackground": true,
            "ticks": "",
            "zerolinecolor": "white"
           }
          },
          "shapedefaults": {
           "line": {
            "color": "#2a3f5f"
           }
          },
          "ternary": {
           "aaxis": {
            "gridcolor": "white",
            "linecolor": "white",
            "ticks": ""
           },
           "baxis": {
            "gridcolor": "white",
            "linecolor": "white",
            "ticks": ""
           },
           "bgcolor": "#E5ECF6",
           "caxis": {
            "gridcolor": "white",
            "linecolor": "white",
            "ticks": ""
           }
          },
          "title": {
           "x": 0.05
          },
          "xaxis": {
           "automargin": true,
           "gridcolor": "white",
           "linecolor": "white",
           "ticks": "",
           "title": {
            "standoff": 15
           },
           "zerolinecolor": "white",
           "zerolinewidth": 2
          },
          "yaxis": {
           "automargin": true,
           "gridcolor": "white",
           "linecolor": "white",
           "ticks": "",
           "title": {
            "standoff": 15
           },
           "zerolinecolor": "white",
           "zerolinewidth": 2
          }
         }
        },
        "title": {
         "text": "Tend"
        },
        "xaxis": {
         "anchor": "y",
         "domain": [
          0,
          1
         ]
        },
        "yaxis": {
         "anchor": "x",
         "domain": [
          0,
          1
         ],
         "title": {
          "text": "Tend"
         }
        }
       }
      }
     },
     "metadata": {},
     "output_type": "display_data"
    },
    {
     "data": {
      "application/vnd.plotly.v1+json": {
       "config": {
        "plotlyServerURL": "https://plot.ly"
       },
       "data": [
        {
         "alignmentgroup": "True",
         "hovertemplate": "Heat rate=%{y}<extra></extra>",
         "legendgroup": "",
         "marker": {
          "color": "#636efa"
         },
         "name": "",
         "notched": false,
         "offsetgroup": "",
         "orientation": "v",
         "showlegend": false,
         "type": "box",
         "x0": " ",
         "xaxis": "x",
         "y": {
          "bdata": "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",
          "dtype": "f4"
         },
         "y0": " ",
         "yaxis": "y"
        }
       ],
       "layout": {
        "boxmode": "group",
        "legend": {
         "tracegroupgap": 0
        },
        "template": {
         "data": {
          "bar": [
           {
            "error_x": {
             "color": "#2a3f5f"
            },
            "error_y": {
             "color": "#2a3f5f"
            },
            "marker": {
             "line": {
              "color": "#E5ECF6",
              "width": 0.5
             },
             "pattern": {
              "fillmode": "overlay",
              "size": 10,
              "solidity": 0.2
             }
            },
            "type": "bar"
           }
          ],
          "barpolar": [
           {
            "marker": {
             "line": {
              "color": "#E5ECF6",
              "width": 0.5
             },
             "pattern": {
              "fillmode": "overlay",
              "size": 10,
              "solidity": 0.2
             }
            },
            "type": "barpolar"
           }
          ],
          "carpet": [
           {
            "aaxis": {
             "endlinecolor": "#2a3f5f",
             "gridcolor": "white",
             "linecolor": "white",
             "minorgridcolor": "white",
             "startlinecolor": "#2a3f5f"
            },
            "baxis": {
             "endlinecolor": "#2a3f5f",
             "gridcolor": "white",
             "linecolor": "white",
             "minorgridcolor": "white",
             "startlinecolor": "#2a3f5f"
            },
            "type": "carpet"
           }
          ],
          "choropleth": [
           {
            "colorbar": {
             "outlinewidth": 0,
             "ticks": ""
            },
            "type": "choropleth"
           }
          ],
          "contour": [
           {
            "colorbar": {
             "outlinewidth": 0,
             "ticks": ""
            },
            "colorscale": [
             [
              0,
              "#0d0887"
             ],
             [
              0.1111111111111111,
              "#46039f"
             ],
             [
              0.2222222222222222,
              "#7201a8"
             ],
             [
              0.3333333333333333,
              "#9c179e"
             ],
             [
              0.4444444444444444,
              "#bd3786"
             ],
             [
              0.5555555555555556,
              "#d8576b"
             ],
             [
              0.6666666666666666,
              "#ed7953"
             ],
             [
              0.7777777777777778,
              "#fb9f3a"
             ],
             [
              0.8888888888888888,
              "#fdca26"
             ],
             [
              1,
              "#f0f921"
             ]
            ],
            "type": "contour"
           }
          ],
          "contourcarpet": [
           {
            "colorbar": {
             "outlinewidth": 0,
             "ticks": ""
            },
            "type": "contourcarpet"
           }
          ],
          "heatmap": [
           {
            "colorbar": {
             "outlinewidth": 0,
             "ticks": ""
            },
            "colorscale": [
             [
              0,
              "#0d0887"
             ],
             [
              0.1111111111111111,
              "#46039f"
             ],
             [
              0.2222222222222222,
              "#7201a8"
             ],
             [
              0.3333333333333333,
              "#9c179e"
             ],
             [
              0.4444444444444444,
              "#bd3786"
             ],
             [
              0.5555555555555556,
              "#d8576b"
             ],
             [
              0.6666666666666666,
              "#ed7953"
             ],
             [
              0.7777777777777778,
              "#fb9f3a"
             ],
             [
              0.8888888888888888,
              "#fdca26"
             ],
             [
              1,
              "#f0f921"
             ]
            ],
            "type": "heatmap"
           }
          ],
          "histogram": [
           {
            "marker": {
             "pattern": {
              "fillmode": "overlay",
              "size": 10,
              "solidity": 0.2
             }
            },
            "type": "histogram"
           }
          ],
          "histogram2d": [
           {
            "colorbar": {
             "outlinewidth": 0,
             "ticks": ""
            },
            "colorscale": [
             [
              0,
              "#0d0887"
             ],
             [
              0.1111111111111111,
              "#46039f"
             ],
             [
              0.2222222222222222,
              "#7201a8"
             ],
             [
              0.3333333333333333,
              "#9c179e"
             ],
             [
              0.4444444444444444,
              "#bd3786"
             ],
             [
              0.5555555555555556,
              "#d8576b"
             ],
             [
              0.6666666666666666,
              "#ed7953"
             ],
             [
              0.7777777777777778,
              "#fb9f3a"
             ],
             [
              0.8888888888888888,
              "#fdca26"
             ],
             [
              1,
              "#f0f921"
             ]
            ],
            "type": "histogram2d"
           }
          ],
          "histogram2dcontour": [
           {
            "colorbar": {
             "outlinewidth": 0,
             "ticks": ""
            },
            "colorscale": [
             [
              0,
              "#0d0887"
             ],
             [
              0.1111111111111111,
              "#46039f"
             ],
             [
              0.2222222222222222,
              "#7201a8"
             ],
             [
              0.3333333333333333,
              "#9c179e"
             ],
             [
              0.4444444444444444,
              "#bd3786"
             ],
             [
              0.5555555555555556,
              "#d8576b"
             ],
             [
              0.6666666666666666,
              "#ed7953"
             ],
             [
              0.7777777777777778,
              "#fb9f3a"
             ],
             [
              0.8888888888888888,
              "#fdca26"
             ],
             [
              1,
              "#f0f921"
             ]
            ],
            "type": "histogram2dcontour"
           }
          ],
          "mesh3d": [
           {
            "colorbar": {
             "outlinewidth": 0,
             "ticks": ""
            },
            "type": "mesh3d"
           }
          ],
          "parcoords": [
           {
            "line": {
             "colorbar": {
              "outlinewidth": 0,
              "ticks": ""
             }
            },
            "type": "parcoords"
           }
          ],
          "pie": [
           {
            "automargin": true,
            "type": "pie"
           }
          ],
          "scatter": [
           {
            "fillpattern": {
             "fillmode": "overlay",
             "size": 10,
             "solidity": 0.2
            },
            "type": "scatter"
           }
          ],
          "scatter3d": [
           {
            "line": {
             "colorbar": {
              "outlinewidth": 0,
              "ticks": ""
             }
            },
            "marker": {
             "colorbar": {
              "outlinewidth": 0,
              "ticks": ""
             }
            },
            "type": "scatter3d"
           }
          ],
          "scattercarpet": [
           {
            "marker": {
             "colorbar": {
              "outlinewidth": 0,
              "ticks": ""
             }
            },
            "type": "scattercarpet"
           }
          ],
          "scattergeo": [
           {
            "marker": {
             "colorbar": {
              "outlinewidth": 0,
              "ticks": ""
             }
            },
            "type": "scattergeo"
           }
          ],
          "scattergl": [
           {
            "marker": {
             "colorbar": {
              "outlinewidth": 0,
              "ticks": ""
             }
            },
            "type": "scattergl"
           }
          ],
          "scattermap": [
           {
            "marker": {
             "colorbar": {
              "outlinewidth": 0,
              "ticks": ""
             }
            },
            "type": "scattermap"
           }
          ],
          "scattermapbox": [
           {
            "marker": {
             "colorbar": {
              "outlinewidth": 0,
              "ticks": ""
             }
            },
            "type": "scattermapbox"
           }
          ],
          "scatterpolar": [
           {
            "marker": {
             "colorbar": {
              "outlinewidth": 0,
              "ticks": ""
             }
            },
            "type": "scatterpolar"
           }
          ],
          "scatterpolargl": [
           {
            "marker": {
             "colorbar": {
              "outlinewidth": 0,
              "ticks": ""
             }
            },
            "type": "scatterpolargl"
           }
          ],
          "scatterternary": [
           {
            "marker": {
             "colorbar": {
              "outlinewidth": 0,
              "ticks": ""
             }
            },
            "type": "scatterternary"
           }
          ],
          "surface": [
           {
            "colorbar": {
             "outlinewidth": 0,
             "ticks": ""
            },
            "colorscale": [
             [
              0,
              "#0d0887"
             ],
             [
              0.1111111111111111,
              "#46039f"
             ],
             [
              0.2222222222222222,
              "#7201a8"
             ],
             [
              0.3333333333333333,
              "#9c179e"
             ],
             [
              0.4444444444444444,
              "#bd3786"
             ],
             [
              0.5555555555555556,
              "#d8576b"
             ],
             [
              0.6666666666666666,
              "#ed7953"
             ],
             [
              0.7777777777777778,
              "#fb9f3a"
             ],
             [
              0.8888888888888888,
              "#fdca26"
             ],
             [
              1,
              "#f0f921"
             ]
            ],
            "type": "surface"
           }
          ],
          "table": [
           {
            "cells": {
             "fill": {
              "color": "#EBF0F8"
             },
             "line": {
              "color": "white"
             }
            },
            "header": {
             "fill": {
              "color": "#C8D4E3"
             },
             "line": {
              "color": "white"
             }
            },
            "type": "table"
           }
          ]
         },
         "layout": {
          "annotationdefaults": {
           "arrowcolor": "#2a3f5f",
           "arrowhead": 0,
           "arrowwidth": 1
          },
          "autotypenumbers": "strict",
          "coloraxis": {
           "colorbar": {
            "outlinewidth": 0,
            "ticks": ""
           }
          },
          "colorscale": {
           "diverging": [
            [
             0,
             "#8e0152"
            ],
            [
             0.1,
             "#c51b7d"
            ],
            [
             0.2,
             "#de77ae"
            ],
            [
             0.3,
             "#f1b6da"
            ],
            [
             0.4,
             "#fde0ef"
            ],
            [
             0.5,
             "#f7f7f7"
            ],
            [
             0.6,
             "#e6f5d0"
            ],
            [
             0.7,
             "#b8e186"
            ],
            [
             0.8,
             "#7fbc41"
            ],
            [
             0.9,
             "#4d9221"
            ],
            [
             1,
             "#276419"
            ]
           ],
           "sequential": [
            [
             0,
             "#0d0887"
            ],
            [
             0.1111111111111111,
             "#46039f"
            ],
            [
             0.2222222222222222,
             "#7201a8"
            ],
            [
             0.3333333333333333,
             "#9c179e"
            ],
            [
             0.4444444444444444,
             "#bd3786"
            ],
            [
             0.5555555555555556,
             "#d8576b"
            ],
            [
             0.6666666666666666,
             "#ed7953"
            ],
            [
             0.7777777777777778,
             "#fb9f3a"
            ],
            [
             0.8888888888888888,
             "#fdca26"
            ],
            [
             1,
             "#f0f921"
            ]
           ],
           "sequentialminus": [
            [
             0,
             "#0d0887"
            ],
            [
             0.1111111111111111,
             "#46039f"
            ],
            [
             0.2222222222222222,
             "#7201a8"
            ],
            [
             0.3333333333333333,
             "#9c179e"
            ],
            [
             0.4444444444444444,
             "#bd3786"
            ],
            [
             0.5555555555555556,
             "#d8576b"
            ],
            [
             0.6666666666666666,
             "#ed7953"
            ],
            [
             0.7777777777777778,
             "#fb9f3a"
            ],
            [
             0.8888888888888888,
             "#fdca26"
            ],
            [
             1,
             "#f0f921"
            ]
           ]
          },
          "colorway": [
           "#636efa",
           "#EF553B",
           "#00cc96",
           "#ab63fa",
           "#FFA15A",
           "#19d3f3",
           "#FF6692",
           "#B6E880",
           "#FF97FF",
           "#FECB52"
          ],
          "font": {
           "color": "#2a3f5f"
          },
          "geo": {
           "bgcolor": "white",
           "lakecolor": "white",
           "landcolor": "#E5ECF6",
           "showlakes": true,
           "showland": true,
           "subunitcolor": "white"
          },
          "hoverlabel": {
           "align": "left"
          },
          "hovermode": "closest",
          "mapbox": {
           "style": "light"
          },
          "paper_bgcolor": "white",
          "plot_bgcolor": "#E5ECF6",
          "polar": {
           "angularaxis": {
            "gridcolor": "white",
            "linecolor": "white",
            "ticks": ""
           },
           "bgcolor": "#E5ECF6",
           "radialaxis": {
            "gridcolor": "white",
            "linecolor": "white",
            "ticks": ""
           }
          },
          "scene": {
           "xaxis": {
            "backgroundcolor": "#E5ECF6",
            "gridcolor": "white",
            "gridwidth": 2,
            "linecolor": "white",
            "showbackground": true,
            "ticks": "",
            "zerolinecolor": "white"
           },
           "yaxis": {
            "backgroundcolor": "#E5ECF6",
            "gridcolor": "white",
            "gridwidth": 2,
            "linecolor": "white",
            "showbackground": true,
            "ticks": "",
            "zerolinecolor": "white"
           },
           "zaxis": {
            "backgroundcolor": "#E5ECF6",
            "gridcolor": "white",
            "gridwidth": 2,
            "linecolor": "white",
            "showbackground": true,
            "ticks": "",
            "zerolinecolor": "white"
           }
          },
          "shapedefaults": {
           "line": {
            "color": "#2a3f5f"
           }
          },
          "ternary": {
           "aaxis": {
            "gridcolor": "white",
            "linecolor": "white",
            "ticks": ""
           },
           "baxis": {
            "gridcolor": "white",
            "linecolor": "white",
            "ticks": ""
           },
           "bgcolor": "#E5ECF6",
           "caxis": {
            "gridcolor": "white",
            "linecolor": "white",
            "ticks": ""
           }
          },
          "title": {
           "x": 0.05
          },
          "xaxis": {
           "automargin": true,
           "gridcolor": "white",
           "linecolor": "white",
           "ticks": "",
           "title": {
            "standoff": 15
           },
           "zerolinecolor": "white",
           "zerolinewidth": 2
          },
          "yaxis": {
           "automargin": true,
           "gridcolor": "white",
           "linecolor": "white",
           "ticks": "",
           "title": {
            "standoff": 15
           },
           "zerolinecolor": "white",
           "zerolinewidth": 2
          }
         }
        },
        "title": {
         "text": "Heat rate"
        },
        "xaxis": {
         "anchor": "y",
         "domain": [
          0,
          1
         ]
        },
        "yaxis": {
         "anchor": "x",
         "domain": [
          0,
          1
         ],
         "title": {
          "text": "Heat rate"
         }
        }
       }
      }
     },
     "metadata": {},
     "output_type": "display_data"
    },
    {
     "data": {
      "application/vnd.plotly.v1+json": {
       "config": {
        "plotlyServerURL": "https://plot.ly"
       },
       "data": [
        {
         "alignmentgroup": "True",
         "hovertemplate": "Column length=%{y}<extra></extra>",
         "legendgroup": "",
         "marker": {
          "color": "#636efa"
         },
         "name": "",
         "notched": false,
         "offsetgroup": "",
         "orientation": "v",
         "showlegend": false,
         "type": "box",
         "x0": " ",
         "xaxis": "x",
         "y": [
          30,
          25,
          30,
          3,
          3,
          30,
          30,
          30,
          1,
          30,
          25,
          30,
          25,
          30,
          30,
          60,
          30,
          30,
          30,
          30,
          30,
          30,
          50,
          30,
          30,
          30,
          30,
          25,
          5,
          5,
          5,
          5,
          5,
          5,
          40,
          50,
          30,
          60,
          60,
          60,
          50,
          50,
          100,
          100,
          100,
          100,
          2,
          15,
          15,
          15,
          15,
          30,
          30,
          25,
          2,
          30,
          60,
          30,
          30,
          30,
          30,
          30,
          30,
          30,
          30,
          30,
          30,
          30,
          30,
          30,
          30,
          30,
          50,
          278,
          50,
          50,
          50,
          50,
          50,
          50,
          110,
          50,
          50,
          50,
          50,
          108,
          100,
          100,
          25.5,
          50,
          50,
          50,
          50,
          100,
          100,
          30,
          100,
          100,
          100,
          30,
          10,
          60,
          50,
          50,
          50,
          50,
          50,
          50,
          45,
          30,
          100,
          3,
          3,
          3,
          75,
          1,
          30,
          2.80078125,
          30,
          2.80078125,
          30,
          15,
          15,
          15,
          30,
          40,
          25,
          2,
          60,
          60,
          30,
          30,
          30,
          30,
          50,
          50,
          100,
          60,
          100,
          100,
          15,
          15,
          30,
          15,
          15,
          30,
          15,
          15,
          30,
          30,
          30,
          100,
          30,
          150,
          100,
          108,
          50,
          100,
          60,
          6.1015625,
          6.1015625,
          6.1015625,
          30,
          30,
          50,
          100,
          30,
          2.80078125,
          30,
          2.80078125,
          2,
          2,
          1,
          1,
          2,
          1,
          1,
          2,
          45,
          50,
          54,
          100,
          30,
          30,
          30,
          30,
          30,
          30,
          60,
          60,
          30,
          30,
          30,
          30,
          80,
          80,
          80,
          30,
          30,
          30,
          30,
          30,
          80,
          80,
          80,
          30,
          30,
          30,
          30,
          100,
          60,
          1.599609375,
          15,
          15,
          2.80078125,
          2.80078125,
          30,
          2.80078125,
          2.80078125,
          25,
          30,
          30,
          25,
          25,
          60,
          50,
          50,
          50,
          25,
          60,
          60,
          30,
          30,
          30,
          30,
          30,
          30,
          30,
          30,
          30,
          60,
          30,
          30,
          25,
          30,
          30,
          30,
          25,
          25,
          30,
          30,
          60,
          30,
          30,
          30,
          30,
          30,
          30,
          30,
          30,
          30,
          30,
          30,
          30,
          30,
          30,
          50,
          30,
          25,
          25,
          50,
          25,
          30,
          30,
          30,
          30,
          30,
          30,
          25,
          60,
          60,
          50,
          60,
          30,
          60,
          60,
          60,
          60,
          60,
          60,
          60,
          60,
          60,
          30,
          50,
          50,
          60,
          60,
          60,
          60,
          30,
          30,
          50,
          50,
          30,
          30,
          60,
          60,
          50,
          30,
          60,
          30,
          60,
          60,
          30,
          30,
          30,
          1.5,
          30,
          30,
          2.099609375,
          2.099609375,
          60,
          60,
          30,
          30,
          30,
          100,
          100,
          100,
          5,
          5,
          2,
          30,
          30,
          30,
          30,
          30,
          100,
          30,
          30,
          25,
          25,
          30,
          25,
          30,
          30,
          60,
          60,
          60,
          60,
          25,
          50,
          30,
          30,
          60,
          25,
          60,
          30,
          50,
          25,
          30,
          30,
          30,
          30,
          60,
          30,
          30,
          30,
          30,
          30,
          30,
          30,
          3.69921875,
          30,
          30,
          30,
          60,
          30,
          30,
          60,
          60,
          30,
          30,
          30,
          30,
          25,
          60,
          60,
          60,
          60,
          60,
          60,
          60,
          60,
          30,
          30,
          30,
          30,
          30,
          30,
          30,
          30,
          30,
          30,
          30,
          30,
          30,
          30,
          30,
          30,
          30,
          50,
          50,
          20,
          30,
          30,
          30,
          150,
          50,
          30,
          30,
          60,
          80,
          30,
          60,
          30,
          30,
          30,
          60,
          60,
          90,
          60,
          60,
          60,
          30,
          50,
          50,
          30,
          30,
          30,
          10,
          60,
          50,
          50,
          60,
          30,
          60,
          60,
          30,
          60,
          25,
          25,
          50,
          50,
          30,
          60,
          30,
          60,
          60,
          60,
          25,
          30,
          30,
          30,
          50,
          12,
          12,
          25,
          25,
          25,
          25,
          100,
          100,
          25,
          25,
          50,
          45,
          45,
          30,
          60,
          25,
          25,
          25,
          25,
          25,
          25,
          25,
          25,
          25,
          25,
          25,
          12,
          12,
          30,
          30,
          25,
          25,
          25,
          25,
          100,
          100,
          2,
          100,
          100,
          1.5,
          25,
          25,
          45,
          45,
          15,
          15,
          15,
          15,
          30,
          15,
          30,
          2.30078125,
          10,
          10,
          10,
          10,
          3.69921875,
          2.400390625,
          25,
          50,
          25,
          50,
          50,
          50,
          50,
          50,
          3.30078125,
          3.30078125,
          100,
          100,
          25,
          60,
          50,
          60,
          50,
          25,
          0,
          60,
          10,
          10,
          30,
          30,
          30,
          60,
          60,
          60,
          60,
          60,
          30,
          30,
          60,
          60,
          60,
          60,
          30,
          60,
          50,
          30,
          10,
          30,
          60,
          30,
          30,
          25,
          30,
          30,
          30,
          60,
          60,
          30,
          30,
          30,
          30,
          30,
          30,
          60,
          30,
          30,
          30,
          30,
          30,
          15,
          30,
          30,
          30,
          30,
          30,
          30,
          30,
          25,
          25,
          25,
          25,
          25,
          25,
          50,
          50,
          50,
          50,
          30,
          30,
          60,
          30,
          30,
          50,
          50,
          25,
          30,
          30,
          30,
          15,
          30,
          30,
          30,
          30,
          30,
          74.625,
          60,
          50,
          60,
          60,
          50,
          25,
          25,
          30,
          30,
          50,
          20,
          20,
          30,
          50,
          50,
          278,
          278,
          50,
          85,
          85,
          85,
          85,
          85,
          50,
          50,
          50,
          50,
          50,
          50,
          50,
          110,
          70,
          70,
          50,
          50,
          50,
          50,
          50,
          50,
          50,
          50,
          50,
          23,
          23,
          23,
          23,
          23,
          23,
          23,
          30,
          30,
          20,
          20,
          50,
          54,
          50,
          50,
          50,
          80,
          108,
          2.5,
          30,
          30,
          50,
          50,
          50,
          100,
          50,
          100,
          100,
          100,
          100,
          100,
          30,
          30,
          30,
          30,
          60,
          30,
          3,
          15,
          2,
          100,
          100,
          6.1015625,
          6.1015625,
          6.1015625,
          6.1015625,
          6.1015625,
          6.1015625,
          6.1015625,
          6.1015625,
          6.1015625,
          25.5,
          25.5,
          25.5,
          25.5,
          25.5,
          25.5,
          50,
          50,
          50,
          1.5,
          30,
          23,
          23,
          23,
          23,
          23,
          23,
          23,
          50,
          25,
          25,
          25,
          25,
          25,
          30,
          60,
          50,
          30,
          60,
          60,
          30,
          60,
          60,
          30,
          30,
          3,
          50,
          50,
          2,
          50,
          50,
          30,
          180,
          100,
          100,
          50,
          50,
          1,
          100,
          100,
          50,
          50,
          50,
          50,
          50,
          50,
          10,
          10,
          50,
          50,
          100,
          120,
          120,
          50,
          50,
          100,
          50,
          100,
          100,
          10.5,
          50,
          50,
          100,
          3,
          100,
          200,
          200,
          15,
          15,
          15,
          15,
          6,
          6,
          6,
          6,
          30,
          30,
          30,
          180,
          180,
          180,
          30,
          100,
          30,
          50,
          50,
          50,
          50,
          50,
          50,
          50,
          50,
          60,
          60,
          30,
          30,
          30,
          30,
          30,
          30,
          60,
          30,
          60,
          30,
          50,
          50,
          60,
          50,
          50,
          60,
          15,
          15,
          2,
          2,
          2,
          2,
          2,
          30,
          30,
          30,
          100,
          100,
          50,
          30,
          30,
          30,
          30,
          30,
          30,
          50,
          50,
          25,
          30,
          50,
          25,
          25,
          60,
          60,
          60,
          50,
          30,
          60,
          30,
          30,
          30,
          60,
          60,
          60,
          60,
          60,
          60,
          60,
          60,
          15,
          60,
          60,
          60,
          60,
          60,
          60,
          60,
          60,
          60,
          30,
          30,
          30,
          30,
          30,
          50,
          50,
          15,
          3,
          30,
          50,
          50,
          50,
          50,
          50,
          50,
          6,
          6,
          6,
          6,
          30,
          60,
          30,
          30,
          60,
          60,
          60,
          60,
          60,
          60,
          60,
          60,
          60,
          60,
          60,
          60,
          60
         ],
         "y0": " ",
         "yaxis": "y"
        }
       ],
       "layout": {
        "boxmode": "group",
        "legend": {
         "tracegroupgap": 0
        },
        "template": {
         "data": {
          "bar": [
           {
            "error_x": {
             "color": "#2a3f5f"
            },
            "error_y": {
             "color": "#2a3f5f"
            },
            "marker": {
             "line": {
              "color": "#E5ECF6",
              "width": 0.5
             },
             "pattern": {
              "fillmode": "overlay",
              "size": 10,
              "solidity": 0.2
             }
            },
            "type": "bar"
           }
          ],
          "barpolar": [
           {
            "marker": {
             "line": {
              "color": "#E5ECF6",
              "width": 0.5
             },
             "pattern": {
              "fillmode": "overlay",
              "size": 10,
              "solidity": 0.2
             }
            },
            "type": "barpolar"
           }
          ],
          "carpet": [
           {
            "aaxis": {
             "endlinecolor": "#2a3f5f",
             "gridcolor": "white",
             "linecolor": "white",
             "minorgridcolor": "white",
             "startlinecolor": "#2a3f5f"
            },
            "baxis": {
             "endlinecolor": "#2a3f5f",
             "gridcolor": "white",
             "linecolor": "white",
             "minorgridcolor": "white",
             "startlinecolor": "#2a3f5f"
            },
            "type": "carpet"
           }
          ],
          "choropleth": [
           {
            "colorbar": {
             "outlinewidth": 0,
             "ticks": ""
            },
            "type": "choropleth"
           }
          ],
          "contour": [
           {
            "colorbar": {
             "outlinewidth": 0,
             "ticks": ""
            },
            "colorscale": [
             [
              0,
              "#0d0887"
             ],
             [
              0.1111111111111111,
              "#46039f"
             ],
             [
              0.2222222222222222,
              "#7201a8"
             ],
             [
              0.3333333333333333,
              "#9c179e"
             ],
             [
              0.4444444444444444,
              "#bd3786"
             ],
             [
              0.5555555555555556,
              "#d8576b"
             ],
             [
              0.6666666666666666,
              "#ed7953"
             ],
             [
              0.7777777777777778,
              "#fb9f3a"
             ],
             [
              0.8888888888888888,
              "#fdca26"
             ],
             [
              1,
              "#f0f921"
             ]
            ],
            "type": "contour"
           }
          ],
          "contourcarpet": [
           {
            "colorbar": {
             "outlinewidth": 0,
             "ticks": ""
            },
            "type": "contourcarpet"
           }
          ],
          "heatmap": [
           {
            "colorbar": {
             "outlinewidth": 0,
             "ticks": ""
            },
            "colorscale": [
             [
              0,
              "#0d0887"
             ],
             [
              0.1111111111111111,
              "#46039f"
             ],
             [
              0.2222222222222222,
              "#7201a8"
             ],
             [
              0.3333333333333333,
              "#9c179e"
             ],
             [
              0.4444444444444444,
              "#bd3786"
             ],
             [
              0.5555555555555556,
              "#d8576b"
             ],
             [
              0.6666666666666666,
              "#ed7953"
             ],
             [
              0.7777777777777778,
              "#fb9f3a"
             ],
             [
              0.8888888888888888,
              "#fdca26"
             ],
             [
              1,
              "#f0f921"
             ]
            ],
            "type": "heatmap"
           }
          ],
          "histogram": [
           {
            "marker": {
             "pattern": {
              "fillmode": "overlay",
              "size": 10,
              "solidity": 0.2
             }
            },
            "type": "histogram"
           }
          ],
          "histogram2d": [
           {
            "colorbar": {
             "outlinewidth": 0,
             "ticks": ""
            },
            "colorscale": [
             [
              0,
              "#0d0887"
             ],
             [
              0.1111111111111111,
              "#46039f"
             ],
             [
              0.2222222222222222,
              "#7201a8"
             ],
             [
              0.3333333333333333,
              "#9c179e"
             ],
             [
              0.4444444444444444,
              "#bd3786"
             ],
             [
              0.5555555555555556,
              "#d8576b"
             ],
             [
              0.6666666666666666,
              "#ed7953"
             ],
             [
              0.7777777777777778,
              "#fb9f3a"
             ],
             [
              0.8888888888888888,
              "#fdca26"
             ],
             [
              1,
              "#f0f921"
             ]
            ],
            "type": "histogram2d"
           }
          ],
          "histogram2dcontour": [
           {
            "colorbar": {
             "outlinewidth": 0,
             "ticks": ""
            },
            "colorscale": [
             [
              0,
              "#0d0887"
             ],
             [
              0.1111111111111111,
              "#46039f"
             ],
             [
              0.2222222222222222,
              "#7201a8"
             ],
             [
              0.3333333333333333,
              "#9c179e"
             ],
             [
              0.4444444444444444,
              "#bd3786"
             ],
             [
              0.5555555555555556,
              "#d8576b"
             ],
             [
              0.6666666666666666,
              "#ed7953"
             ],
             [
              0.7777777777777778,
              "#fb9f3a"
             ],
             [
              0.8888888888888888,
              "#fdca26"
             ],
             [
              1,
              "#f0f921"
             ]
            ],
            "type": "histogram2dcontour"
           }
          ],
          "mesh3d": [
           {
            "colorbar": {
             "outlinewidth": 0,
             "ticks": ""
            },
            "type": "mesh3d"
           }
          ],
          "parcoords": [
           {
            "line": {
             "colorbar": {
              "outlinewidth": 0,
              "ticks": ""
             }
            },
            "type": "parcoords"
           }
          ],
          "pie": [
           {
            "automargin": true,
            "type": "pie"
           }
          ],
          "scatter": [
           {
            "fillpattern": {
             "fillmode": "overlay",
             "size": 10,
             "solidity": 0.2
            },
            "type": "scatter"
           }
          ],
          "scatter3d": [
           {
            "line": {
             "colorbar": {
              "outlinewidth": 0,
              "ticks": ""
             }
            },
            "marker": {
             "colorbar": {
              "outlinewidth": 0,
              "ticks": ""
             }
            },
            "type": "scatter3d"
           }
          ],
          "scattercarpet": [
           {
            "marker": {
             "colorbar": {
              "outlinewidth": 0,
              "ticks": ""
             }
            },
            "type": "scattercarpet"
           }
          ],
          "scattergeo": [
           {
            "marker": {
             "colorbar": {
              "outlinewidth": 0,
              "ticks": ""
             }
            },
            "type": "scattergeo"
           }
          ],
          "scattergl": [
           {
            "marker": {
             "colorbar": {
              "outlinewidth": 0,
              "ticks": ""
             }
            },
            "type": "scattergl"
           }
          ],
          "scattermap": [
           {
            "marker": {
             "colorbar": {
              "outlinewidth": 0,
              "ticks": ""
             }
            },
            "type": "scattermap"
           }
          ],
          "scattermapbox": [
           {
            "marker": {
             "colorbar": {
              "outlinewidth": 0,
              "ticks": ""
             }
            },
            "type": "scattermapbox"
           }
          ],
          "scatterpolar": [
           {
            "marker": {
             "colorbar": {
              "outlinewidth": 0,
              "ticks": ""
             }
            },
            "type": "scatterpolar"
           }
          ],
          "scatterpolargl": [
           {
            "marker": {
             "colorbar": {
              "outlinewidth": 0,
              "ticks": ""
             }
            },
            "type": "scatterpolargl"
           }
          ],
          "scatterternary": [
           {
            "marker": {
             "colorbar": {
              "outlinewidth": 0,
              "ticks": ""
             }
            },
            "type": "scatterternary"
           }
          ],
          "surface": [
           {
            "colorbar": {
             "outlinewidth": 0,
             "ticks": ""
            },
            "colorscale": [
             [
              0,
              "#0d0887"
             ],
             [
              0.1111111111111111,
              "#46039f"
             ],
             [
              0.2222222222222222,
              "#7201a8"
             ],
             [
              0.3333333333333333,
              "#9c179e"
             ],
             [
              0.4444444444444444,
              "#bd3786"
             ],
             [
              0.5555555555555556,
              "#d8576b"
             ],
             [
              0.6666666666666666,
              "#ed7953"
             ],
             [
              0.7777777777777778,
              "#fb9f3a"
             ],
             [
              0.8888888888888888,
              "#fdca26"
             ],
             [
              1,
              "#f0f921"
             ]
            ],
            "type": "surface"
           }
          ],
          "table": [
           {
            "cells": {
             "fill": {
              "color": "#EBF0F8"
             },
             "line": {
              "color": "white"
             }
            },
            "header": {
             "fill": {
              "color": "#C8D4E3"
             },
             "line": {
              "color": "white"
             }
            },
            "type": "table"
           }
          ]
         },
         "layout": {
          "annotationdefaults": {
           "arrowcolor": "#2a3f5f",
           "arrowhead": 0,
           "arrowwidth": 1
          },
          "autotypenumbers": "strict",
          "coloraxis": {
           "colorbar": {
            "outlinewidth": 0,
            "ticks": ""
           }
          },
          "colorscale": {
           "diverging": [
            [
             0,
             "#8e0152"
            ],
            [
             0.1,
             "#c51b7d"
            ],
            [
             0.2,
             "#de77ae"
            ],
            [
             0.3,
             "#f1b6da"
            ],
            [
             0.4,
             "#fde0ef"
            ],
            [
             0.5,
             "#f7f7f7"
            ],
            [
             0.6,
             "#e6f5d0"
            ],
            [
             0.7,
             "#b8e186"
            ],
            [
             0.8,
             "#7fbc41"
            ],
            [
             0.9,
             "#4d9221"
            ],
            [
             1,
             "#276419"
            ]
           ],
           "sequential": [
            [
             0,
             "#0d0887"
            ],
            [
             0.1111111111111111,
             "#46039f"
            ],
            [
             0.2222222222222222,
             "#7201a8"
            ],
            [
             0.3333333333333333,
             "#9c179e"
            ],
            [
             0.4444444444444444,
             "#bd3786"
            ],
            [
             0.5555555555555556,
             "#d8576b"
            ],
            [
             0.6666666666666666,
             "#ed7953"
            ],
            [
             0.7777777777777778,
             "#fb9f3a"
            ],
            [
             0.8888888888888888,
             "#fdca26"
            ],
            [
             1,
             "#f0f921"
            ]
           ],
           "sequentialminus": [
            [
             0,
             "#0d0887"
            ],
            [
             0.1111111111111111,
             "#46039f"
            ],
            [
             0.2222222222222222,
             "#7201a8"
            ],
            [
             0.3333333333333333,
             "#9c179e"
            ],
            [
             0.4444444444444444,
             "#bd3786"
            ],
            [
             0.5555555555555556,
             "#d8576b"
            ],
            [
             0.6666666666666666,
             "#ed7953"
            ],
            [
             0.7777777777777778,
             "#fb9f3a"
            ],
            [
             0.8888888888888888,
             "#fdca26"
            ],
            [
             1,
             "#f0f921"
            ]
           ]
          },
          "colorway": [
           "#636efa",
           "#EF553B",
           "#00cc96",
           "#ab63fa",
           "#FFA15A",
           "#19d3f3",
           "#FF6692",
           "#B6E880",
           "#FF97FF",
           "#FECB52"
          ],
          "font": {
           "color": "#2a3f5f"
          },
          "geo": {
           "bgcolor": "white",
           "lakecolor": "white",
           "landcolor": "#E5ECF6",
           "showlakes": true,
           "showland": true,
           "subunitcolor": "white"
          },
          "hoverlabel": {
           "align": "left"
          },
          "hovermode": "closest",
          "mapbox": {
           "style": "light"
          },
          "paper_bgcolor": "white",
          "plot_bgcolor": "#E5ECF6",
          "polar": {
           "angularaxis": {
            "gridcolor": "white",
            "linecolor": "white",
            "ticks": ""
           },
           "bgcolor": "#E5ECF6",
           "radialaxis": {
            "gridcolor": "white",
            "linecolor": "white",
            "ticks": ""
           }
          },
          "scene": {
           "xaxis": {
            "backgroundcolor": "#E5ECF6",
            "gridcolor": "white",
            "gridwidth": 2,
            "linecolor": "white",
            "showbackground": true,
            "ticks": "",
            "zerolinecolor": "white"
           },
           "yaxis": {
            "backgroundcolor": "#E5ECF6",
            "gridcolor": "white",
            "gridwidth": 2,
            "linecolor": "white",
            "showbackground": true,
            "ticks": "",
            "zerolinecolor": "white"
           },
           "zaxis": {
            "backgroundcolor": "#E5ECF6",
            "gridcolor": "white",
            "gridwidth": 2,
            "linecolor": "white",
            "showbackground": true,
            "ticks": "",
            "zerolinecolor": "white"
           }
          },
          "shapedefaults": {
           "line": {
            "color": "#2a3f5f"
           }
          },
          "ternary": {
           "aaxis": {
            "gridcolor": "white",
            "linecolor": "white",
            "ticks": ""
           },
           "baxis": {
            "gridcolor": "white",
            "linecolor": "white",
            "ticks": ""
           },
           "bgcolor": "#E5ECF6",
           "caxis": {
            "gridcolor": "white",
            "linecolor": "white",
            "ticks": ""
           }
          },
          "title": {
           "x": 0.05
          },
          "xaxis": {
           "automargin": true,
           "gridcolor": "white",
           "linecolor": "white",
           "ticks": "",
           "title": {
            "standoff": 15
           },
           "zerolinecolor": "white",
           "zerolinewidth": 2
          },
          "yaxis": {
           "automargin": true,
           "gridcolor": "white",
           "linecolor": "white",
           "ticks": "",
           "title": {
            "standoff": 15
           },
           "zerolinecolor": "white",
           "zerolinewidth": 2
          }
         }
        },
        "title": {
         "text": "Column length"
        },
        "xaxis": {
         "anchor": "y",
         "domain": [
          0,
          1
         ]
        },
        "yaxis": {
         "anchor": "x",
         "domain": [
          0,
          1
         ],
         "title": {
          "text": "Column length"
         }
        }
       }
      }
     },
     "metadata": {},
     "output_type": "display_data"
    },
    {
     "data": {
      "application/vnd.plotly.v1+json": {
       "config": {
        "plotlyServerURL": "https://plot.ly"
       },
       "data": [
        {
         "alignmentgroup": "True",
         "hovertemplate": "Column diameter=%{y}<extra></extra>",
         "legendgroup": "",
         "marker": {
          "color": "#636efa"
         },
         "name": "",
         "notched": false,
         "offsetgroup": "",
         "orientation": "v",
         "showlegend": false,
         "type": "box",
         "x0": " ",
         "xaxis": "x",
         "y": [
          0.25,
          0.320068359375,
          0.320068359375,
          0.25,
          0.25,
          0.320068359375,
          0.260009765625,
          0.260009765625,
          0.25,
          0.25,
          0.199951171875,
          0.25,
          0.320068359375,
          0.25,
          0.25,
          0.25,
          0.25,
          0.25,
          0.25,
          0.25,
          0.320068359375,
          0.25,
          0.320068359375,
          0.25,
          0.25,
          0.25,
          0.25,
          0.25,
          0.25,
          0.25,
          0.25,
          0.25,
          0.25,
          0.25,
          0.35009765625,
          0.219970703125,
          0.25,
          0.25,
          0.25,
          0.320068359375,
          0.25,
          0.25,
          0.25,
          0.25,
          0.5,
          0.5,
          0.25,
          0.25,
          0.25,
          0.25,
          0.25,
          0.25,
          0.25,
          0.320068359375,
          0.25,
          0.25,
          0.25,
          0.25,
          0.25,
          0.25,
          0.25,
          0.25,
          0.25,
          0.25,
          0.25,
          0.25,
          0.25,
          0.25,
          0.25,
          0.25,
          0.25,
          0.25,
          0.199951171875,
          0.25,
          0.300048828125,
          0.300048828125,
          0.300048828125,
          0.300048828125,
          0.300048828125,
          0.300048828125,
          0.25,
          0.199951171875,
          0.199951171875,
          0.199951171875,
          0.199951171875,
          0.25,
          0.25,
          0.25,
          0.5,
          0.25,
          0.25,
          0.25,
          0.25,
          0.22998046875,
          0.25,
          0.25,
          0.25,
          0.25,
          0.22998046875,
          0.25,
          0.25,
          0.25,
          0.25,
          0.25,
          0.25,
          0.25,
          0.25,
          0.25,
          0.25,
          0.25,
          0.25,
          0.25,
          0.25,
          0.25,
          0.25,
          0.25,
          0.25,
          0.25,
          0.25,
          0.25,
          0.25,
          0.25,
          0.25,
          0.25,
          0.25,
          0.35009765625,
          0.320068359375,
          0.25,
          0.25,
          0.320068359375,
          0.25,
          0.25,
          0.25,
          0.25,
          0.31005859375,
          0.31005859375,
          0.25,
          0.320068359375,
          0.25,
          0.25,
          0.320068359375,
          0.320068359375,
          0.320068359375,
          0.320068359375,
          0.320068359375,
          0.320068359375,
          0.320068359375,
          0.320068359375,
          0.25,
          0.25,
          0.320068359375,
          0.25,
          0.25,
          0.5,
          0.320068359375,
          0.25,
          0.199951171875,
          0.25,
          0.219970703125,
          0.25,
          0.25,
          0.25,
          0.25,
          0.25,
          0.199951171875,
          0.25,
          0.25,
          0.25,
          0.25,
          0.25,
          0.25,
          0.25,
          0.25,
          0.25,
          0.25,
          0.25,
          0.25,
          0.25,
          0.25,
          0.25,
          0.260009765625,
          0.25,
          0.25,
          0.25,
          0.25,
          0.25,
          0.25,
          0.25,
          0.25,
          0.25,
          0.25,
          0.25,
          0.25,
          0.25,
          0.25,
          0.25,
          0.25,
          0.25,
          0.25,
          0.25,
          0.25,
          0.25,
          0.25,
          0.25,
          0.25,
          0.25,
          0.25,
          0.25,
          0.25,
          0.25,
          0.320068359375,
          0.25,
          0.52978515625,
          0.52978515625,
          0.25,
          0.25,
          0.25,
          0.25,
          0.25,
          0.320068359375,
          0.320068359375,
          0.320068359375,
          0.25,
          0.25,
          0.320068359375,
          0.320068359375,
          0.320068359375,
          0.320068359375,
          0.320068359375,
          0.25,
          0.25,
          0.199951171875,
          0.25,
          0.199951171875,
          0.320068359375,
          0.25,
          0.25,
          0.25,
          0.25,
          0.25,
          0.320068359375,
          0.320068359375,
          0.320068359375,
          0.25,
          0.320068359375,
          0.25,
          0.25,
          0.320068359375,
          0.320068359375,
          0.25,
          0.25,
          0.320068359375,
          0.320068359375,
          0.320068359375,
          0.25,
          0.25,
          0.25,
          0.25,
          0.25,
          0.25,
          0.25,
          0.25,
          0.25,
          0.25,
          0.25,
          0.25,
          0.25,
          0.25,
          0.199951171875,
          0.199951171875,
          0.320068359375,
          0.25,
          0.25,
          0.25,
          0.25,
          0.25,
          0.25,
          0.25,
          0.320068359375,
          0.320068359375,
          0.320068359375,
          0.320068359375,
          0.320068359375,
          0.25,
          0.25,
          0.25,
          0.25,
          0.25,
          0.25,
          0.25,
          0.25,
          0.25,
          0.25,
          0.25,
          0.320068359375,
          0.320068359375,
          0.320068359375,
          0.320068359375,
          0.25,
          0.25,
          0.25,
          0.320068359375,
          0.31005859375,
          0.320068359375,
          0.25,
          0.25,
          0.25,
          0.25,
          0.320068359375,
          0.25,
          0.25,
          0.52978515625,
          0.320068359375,
          0.25,
          0.25,
          0.320068359375,
          0.25,
          0.25,
          0.320068359375,
          0.25,
          0.25,
          0.25,
          0.320068359375,
          0.320068359375,
          0.25,
          0.25,
          0.25,
          0.27001953125,
          0.27001953125,
          0.27001953125,
          0.25,
          0.25,
          0.25,
          0.25,
          0.25,
          0.25,
          0.25,
          0.25,
          0.25,
          0.320068359375,
          0.320068359375,
          0.5498046875,
          0.5498046875,
          0.25,
          0.5,
          0.320068359375,
          0.25,
          0.25,
          0.25,
          0.25,
          0.320068359375,
          0.199951171875,
          0.320068359375,
          0.25,
          0.25,
          0.25,
          0.5,
          0.320068359375,
          0.25,
          0.320068359375,
          0.219970703125,
          0.25,
          0.25,
          0.25,
          0.25,
          0.320068359375,
          0.260009765625,
          0.25,
          0.25,
          0.25,
          0.25,
          0.25,
          0.25,
          0.25,
          0.260009765625,
          0.320068359375,
          0.25,
          0.25,
          0.25,
          0.320068359375,
          0.320068359375,
          0.320068359375,
          0.25,
          0.25,
          0.25,
          0.25,
          0.219970703125,
          0.320068359375,
          0.320068359375,
          0.320068359375,
          0.320068359375,
          0.320068359375,
          0.25,
          0.25,
          0.25,
          0.25,
          0.25,
          0.25,
          0.25,
          0.25,
          0.25,
          0.25,
          0.25,
          0.25,
          0.25,
          0.25,
          0.25,
          0.25,
          0.25,
          0.25,
          0.25,
          0.25,
          0.219970703125,
          0.280029296875,
          0.1800537109375,
          0.25,
          0.25,
          0.25,
          0.60009765625,
          0.2099609375,
          0.25,
          0.25,
          0.25,
          0.199951171875,
          0.25,
          0.320068359375,
          0.320068359375,
          0.25,
          0.25,
          0.25,
          0.25,
          0.25,
          0.320068359375,
          0.320068359375,
          0.25,
          0.35009765625,
          0.199951171875,
          0.320068359375,
          0.25,
          0.25,
          0.25,
          0.1800537109375,
          0.320068359375,
          0.199951171875,
          0.25,
          0.25,
          0.25,
          0.25,
          0.320068359375,
          0.320068359375,
          0.25,
          0.320068359375,
          0.320068359375,
          0.199951171875,
          0.199951171875,
          0.25,
          0.25,
          0.25,
          0.25,
          0.25,
          0.25,
          0.199951171875,
          0.25,
          0.25,
          0.25,
          0.280029296875,
          0.219970703125,
          0.219970703125,
          0.22998046875,
          0.22998046875,
          0.22998046875,
          0.22998046875,
          0.5,
          0.5,
          0.219970703125,
          0.219970703125,
          0.320068359375,
          0.5,
          0.5,
          0.25,
          0.320068359375,
          0.320068359375,
          0.199951171875,
          0.199951171875,
          0.25,
          0.219970703125,
          0.219970703125,
          0.219970703125,
          0.219970703125,
          0.219970703125,
          0.219970703125,
          0.219970703125,
          0.219970703125,
          0.219970703125,
          0.320068359375,
          0.25,
          0.22998046875,
          0.22998046875,
          0.22998046875,
          0.22998046875,
          0.25,
          0.25,
          0.25,
          0.5,
          0.5,
          0.25,
          0.219970703125,
          0.219970703125,
          0.5,
          0.5,
          0.25,
          0.25,
          0.25,
          0.25,
          0.25,
          0.25,
          0.25,
          0.25,
          0.25,
          0.25,
          0.25,
          0.25,
          0.25,
          0.25,
          0.199951171875,
          0.219970703125,
          0.199951171875,
          0.320068359375,
          0.320068359375,
          0.320068359375,
          0.320068359375,
          0.320068359375,
          0.25,
          0.25,
          0.25,
          0.25,
          0.320068359375,
          0.320068359375,
          0.320068359375,
          0.25,
          0.320068359375,
          0.199951171875,
          0.25,
          0.25,
          0.25,
          0.25,
          0.52978515625,
          0.25,
          0.25,
          0.263916015625,
          0.259033203125,
          0.25,
          0.25,
          0.320068359375,
          0.25,
          0.25,
          0.320068359375,
          0.25,
          0.25,
          0.320068359375,
          0.25,
          0.320068359375,
          0.320068359375,
          0.25,
          0.25,
          0.25,
          0.25,
          0.320068359375,
          0.320068359375,
          0.300048828125,
          0.320068359375,
          0.25,
          0.25,
          0.320068359375,
          0.25,
          0.25,
          0.25,
          0.25,
          0.25,
          0.25,
          0.25,
          0.330078125,
          0.25,
          0.25,
          0.25,
          0.25,
          0.25,
          0.52978515625,
          0.25,
          0.25,
          0.25,
          0.25,
          0.25,
          0.25,
          0.25,
          0.199951171875,
          0.199951171875,
          0.199951171875,
          0.199951171875,
          0.199951171875,
          0.199951171875,
          0.199951171875,
          0.199951171875,
          0.199951171875,
          0.199951171875,
          0.300048828125,
          0.300048828125,
          0.320068359375,
          0.25,
          0.25,
          0.300048828125,
          0.320068359375,
          0.199951171875,
          0.25,
          0.25,
          0.25,
          0.239990234375,
          0.25,
          0.25,
          0.25,
          0.25,
          0.25,
          0.280029296875,
          0.25,
          0.25,
          0.320068359375,
          0.320068359375,
          0.320068359375,
          0.31005859375,
          0.31005859375,
          0.25,
          0.25,
          0.25,
          0.5,
          0.5,
          0.25,
          0.25,
          0.199951171875,
          0.25,
          0.25,
          0.300048828125,
          0.280029296875,
          0.280029296875,
          0.280029296875,
          0.280029296875,
          0.280029296875,
          0.300048828125,
          0.300048828125,
          0.300048828125,
          0.300048828125,
          0.300048828125,
          0.300048828125,
          0.22998046875,
          0.25,
          0.280029296875,
          0.280029296875,
          0.300048828125,
          0.300048828125,
          0.300048828125,
          0.300048828125,
          0.300048828125,
          0.199951171875,
          0.199951171875,
          0.199951171875,
          0.199951171875,
          0.5,
          0.5,
          0.5,
          0.5,
          0.5,
          0.5,
          0.5,
          0.25,
          0.25,
          0.22998046875,
          0.22998046875,
          0.199951171875,
          0.260009765625,
          0.25,
          0.25,
          0.31005859375,
          0.219970703125,
          0.25,
          0.25,
          0.25,
          0.25,
          0.199951171875,
          0.199951171875,
          0.199951171875,
          0.25,
          0.25,
          0.25,
          0.25,
          0.25,
          0.25,
          0.25,
          0.25,
          0.25,
          0.25,
          0.25,
          0.25,
          0.25,
          0.25,
          0.25,
          0.25,
          0.5,
          0.5,
          0.25,
          0.25,
          0.25,
          0.25,
          3.1796875,
          3.1796875,
          3.1796875,
          3.1796875,
          3.1796875,
          0.5,
          0.5,
          0.5,
          0.5,
          0.5,
          0.5,
          0.5,
          0.5,
          0.5,
          0.25,
          0.25,
          0.5,
          0.5,
          0.5,
          0.5,
          0.5,
          0.5,
          0.5,
          0.320068359375,
          0.320068359375,
          0.320068359375,
          0.320068359375,
          0.320068359375,
          0.320068359375,
          0.25,
          0.75,
          0.199951171875,
          0.25,
          0.320068359375,
          0.25,
          0.25,
          0.320068359375,
          0.320068359375,
          0.25,
          0.25,
          0.25,
          0.219970703125,
          0.219970703125,
          0.25,
          0.219970703125,
          0.219970703125,
          0.25,
          0.25,
          0.25,
          0.25,
          0.25,
          0.25,
          0.25,
          0.25,
          0.25,
          0.25,
          0.25,
          0.25,
          0.25,
          0.25,
          0.25,
          0.25,
          0.25,
          0.25,
          0.25,
          0.22998046875,
          0.25,
          0.25,
          0.25,
          0.25,
          0.25,
          0.199951171875,
          0.25,
          0.25,
          0.25,
          0.300048828125,
          0.300048828125,
          0.25,
          0.25,
          0.25,
          0.199951171875,
          0.199951171875,
          0.25,
          0.25,
          0.25,
          0.25,
          0.25,
          0.25,
          0.25,
          0.25,
          0.25,
          0.25,
          0.25,
          0.25,
          0.25,
          0.25,
          0.25,
          0.25,
          0.25,
          0.219970703125,
          0.199951171875,
          0.219970703125,
          0.219970703125,
          0.219970703125,
          0.219970703125,
          0.219970703125,
          0.219970703125,
          0.320068359375,
          0.320068359375,
          0.25,
          0.25,
          0.25,
          0.25,
          0.25,
          0.25,
          0.25,
          0.25,
          0.320068359375,
          0.25,
          0.239990234375,
          0.320068359375,
          0.25,
          0.320068359375,
          0.320068359375,
          0.25,
          0.5,
          0.5,
          0.25,
          0.25,
          0.25,
          0.25,
          0.25,
          0.25,
          0.25,
          0.25,
          0.22998046875,
          0.199951171875,
          0.219970703125,
          0.25,
          0.25,
          0.25,
          0.25,
          0.25,
          0.25,
          0.199951171875,
          0.25,
          0.300048828125,
          0.25,
          0.25,
          0.31005859375,
          0.31005859375,
          0.25,
          0.25,
          0.25,
          0.320068359375,
          0.320068359375,
          0.25,
          0.25,
          0.25,
          0.25,
          0.25,
          0.25,
          0.25,
          0.25,
          0.320068359375,
          0.320068359375,
          0.320068359375,
          0.320068359375,
          0.52978515625,
          0.25,
          0.25,
          0.25,
          0.25,
          0.25,
          0.25,
          0.25,
          0.25,
          0.25,
          0.52978515625,
          0.320068359375,
          0.25,
          0.25,
          0.25,
          0.199951171875,
          0.199951171875,
          0.52978515625,
          0.25,
          0.300048828125,
          0.25,
          0.25,
          0.25,
          0.25,
          0.25,
          0.25,
          0.25,
          0.25,
          0.25,
          0.25,
          0.25,
          0.75,
          0.25,
          0.25,
          0.25,
          0.320068359375,
          0.25,
          0.25,
          0.25,
          0.25,
          0.25,
          0.25,
          0.25,
          0.25,
          0.25,
          0.25,
          0.320068359375
         ],
         "y0": " ",
         "yaxis": "y"
        }
       ],
       "layout": {
        "boxmode": "group",
        "legend": {
         "tracegroupgap": 0
        },
        "template": {
         "data": {
          "bar": [
           {
            "error_x": {
             "color": "#2a3f5f"
            },
            "error_y": {
             "color": "#2a3f5f"
            },
            "marker": {
             "line": {
              "color": "#E5ECF6",
              "width": 0.5
             },
             "pattern": {
              "fillmode": "overlay",
              "size": 10,
              "solidity": 0.2
             }
            },
            "type": "bar"
           }
          ],
          "barpolar": [
           {
            "marker": {
             "line": {
              "color": "#E5ECF6",
              "width": 0.5
             },
             "pattern": {
              "fillmode": "overlay",
              "size": 10,
              "solidity": 0.2
             }
            },
            "type": "barpolar"
           }
          ],
          "carpet": [
           {
            "aaxis": {
             "endlinecolor": "#2a3f5f",
             "gridcolor": "white",
             "linecolor": "white",
             "minorgridcolor": "white",
             "startlinecolor": "#2a3f5f"
            },
            "baxis": {
             "endlinecolor": "#2a3f5f",
             "gridcolor": "white",
             "linecolor": "white",
             "minorgridcolor": "white",
             "startlinecolor": "#2a3f5f"
            },
            "type": "carpet"
           }
          ],
          "choropleth": [
           {
            "colorbar": {
             "outlinewidth": 0,
             "ticks": ""
            },
            "type": "choropleth"
           }
          ],
          "contour": [
           {
            "colorbar": {
             "outlinewidth": 0,
             "ticks": ""
            },
            "colorscale": [
             [
              0,
              "#0d0887"
             ],
             [
              0.1111111111111111,
              "#46039f"
             ],
             [
              0.2222222222222222,
              "#7201a8"
             ],
             [
              0.3333333333333333,
              "#9c179e"
             ],
             [
              0.4444444444444444,
              "#bd3786"
             ],
             [
              0.5555555555555556,
              "#d8576b"
             ],
             [
              0.6666666666666666,
              "#ed7953"
             ],
             [
              0.7777777777777778,
              "#fb9f3a"
             ],
             [
              0.8888888888888888,
              "#fdca26"
             ],
             [
              1,
              "#f0f921"
             ]
            ],
            "type": "contour"
           }
          ],
          "contourcarpet": [
           {
            "colorbar": {
             "outlinewidth": 0,
             "ticks": ""
            },
            "type": "contourcarpet"
           }
          ],
          "heatmap": [
           {
            "colorbar": {
             "outlinewidth": 0,
             "ticks": ""
            },
            "colorscale": [
             [
              0,
              "#0d0887"
             ],
             [
              0.1111111111111111,
              "#46039f"
             ],
             [
              0.2222222222222222,
              "#7201a8"
             ],
             [
              0.3333333333333333,
              "#9c179e"
             ],
             [
              0.4444444444444444,
              "#bd3786"
             ],
             [
              0.5555555555555556,
              "#d8576b"
             ],
             [
              0.6666666666666666,
              "#ed7953"
             ],
             [
              0.7777777777777778,
              "#fb9f3a"
             ],
             [
              0.8888888888888888,
              "#fdca26"
             ],
             [
              1,
              "#f0f921"
             ]
            ],
            "type": "heatmap"
           }
          ],
          "histogram": [
           {
            "marker": {
             "pattern": {
              "fillmode": "overlay",
              "size": 10,
              "solidity": 0.2
             }
            },
            "type": "histogram"
           }
          ],
          "histogram2d": [
           {
            "colorbar": {
             "outlinewidth": 0,
             "ticks": ""
            },
            "colorscale": [
             [
              0,
              "#0d0887"
             ],
             [
              0.1111111111111111,
              "#46039f"
             ],
             [
              0.2222222222222222,
              "#7201a8"
             ],
             [
              0.3333333333333333,
              "#9c179e"
             ],
             [
              0.4444444444444444,
              "#bd3786"
             ],
             [
              0.5555555555555556,
              "#d8576b"
             ],
             [
              0.6666666666666666,
              "#ed7953"
             ],
             [
              0.7777777777777778,
              "#fb9f3a"
             ],
             [
              0.8888888888888888,
              "#fdca26"
             ],
             [
              1,
              "#f0f921"
             ]
            ],
            "type": "histogram2d"
           }
          ],
          "histogram2dcontour": [
           {
            "colorbar": {
             "outlinewidth": 0,
             "ticks": ""
            },
            "colorscale": [
             [
              0,
              "#0d0887"
             ],
             [
              0.1111111111111111,
              "#46039f"
             ],
             [
              0.2222222222222222,
              "#7201a8"
             ],
             [
              0.3333333333333333,
              "#9c179e"
             ],
             [
              0.4444444444444444,
              "#bd3786"
             ],
             [
              0.5555555555555556,
              "#d8576b"
             ],
             [
              0.6666666666666666,
              "#ed7953"
             ],
             [
              0.7777777777777778,
              "#fb9f3a"
             ],
             [
              0.8888888888888888,
              "#fdca26"
             ],
             [
              1,
              "#f0f921"
             ]
            ],
            "type": "histogram2dcontour"
           }
          ],
          "mesh3d": [
           {
            "colorbar": {
             "outlinewidth": 0,
             "ticks": ""
            },
            "type": "mesh3d"
           }
          ],
          "parcoords": [
           {
            "line": {
             "colorbar": {
              "outlinewidth": 0,
              "ticks": ""
             }
            },
            "type": "parcoords"
           }
          ],
          "pie": [
           {
            "automargin": true,
            "type": "pie"
           }
          ],
          "scatter": [
           {
            "fillpattern": {
             "fillmode": "overlay",
             "size": 10,
             "solidity": 0.2
            },
            "type": "scatter"
           }
          ],
          "scatter3d": [
           {
            "line": {
             "colorbar": {
              "outlinewidth": 0,
              "ticks": ""
             }
            },
            "marker": {
             "colorbar": {
              "outlinewidth": 0,
              "ticks": ""
             }
            },
            "type": "scatter3d"
           }
          ],
          "scattercarpet": [
           {
            "marker": {
             "colorbar": {
              "outlinewidth": 0,
              "ticks": ""
             }
            },
            "type": "scattercarpet"
           }
          ],
          "scattergeo": [
           {
            "marker": {
             "colorbar": {
              "outlinewidth": 0,
              "ticks": ""
             }
            },
            "type": "scattergeo"
           }
          ],
          "scattergl": [
           {
            "marker": {
             "colorbar": {
              "outlinewidth": 0,
              "ticks": ""
             }
            },
            "type": "scattergl"
           }
          ],
          "scattermap": [
           {
            "marker": {
             "colorbar": {
              "outlinewidth": 0,
              "ticks": ""
             }
            },
            "type": "scattermap"
           }
          ],
          "scattermapbox": [
           {
            "marker": {
             "colorbar": {
              "outlinewidth": 0,
              "ticks": ""
             }
            },
            "type": "scattermapbox"
           }
          ],
          "scatterpolar": [
           {
            "marker": {
             "colorbar": {
              "outlinewidth": 0,
              "ticks": ""
             }
            },
            "type": "scatterpolar"
           }
          ],
          "scatterpolargl": [
           {
            "marker": {
             "colorbar": {
              "outlinewidth": 0,
              "ticks": ""
             }
            },
            "type": "scatterpolargl"
           }
          ],
          "scatterternary": [
           {
            "marker": {
             "colorbar": {
              "outlinewidth": 0,
              "ticks": ""
             }
            },
            "type": "scatterternary"
           }
          ],
          "surface": [
           {
            "colorbar": {
             "outlinewidth": 0,
             "ticks": ""
            },
            "colorscale": [
             [
              0,
              "#0d0887"
             ],
             [
              0.1111111111111111,
              "#46039f"
             ],
             [
              0.2222222222222222,
              "#7201a8"
             ],
             [
              0.3333333333333333,
              "#9c179e"
             ],
             [
              0.4444444444444444,
              "#bd3786"
             ],
             [
              0.5555555555555556,
              "#d8576b"
             ],
             [
              0.6666666666666666,
              "#ed7953"
             ],
             [
              0.7777777777777778,
              "#fb9f3a"
             ],
             [
              0.8888888888888888,
              "#fdca26"
             ],
             [
              1,
              "#f0f921"
             ]
            ],
            "type": "surface"
           }
          ],
          "table": [
           {
            "cells": {
             "fill": {
              "color": "#EBF0F8"
             },
             "line": {
              "color": "white"
             }
            },
            "header": {
             "fill": {
              "color": "#C8D4E3"
             },
             "line": {
              "color": "white"
             }
            },
            "type": "table"
           }
          ]
         },
         "layout": {
          "annotationdefaults": {
           "arrowcolor": "#2a3f5f",
           "arrowhead": 0,
           "arrowwidth": 1
          },
          "autotypenumbers": "strict",
          "coloraxis": {
           "colorbar": {
            "outlinewidth": 0,
            "ticks": ""
           }
          },
          "colorscale": {
           "diverging": [
            [
             0,
             "#8e0152"
            ],
            [
             0.1,
             "#c51b7d"
            ],
            [
             0.2,
             "#de77ae"
            ],
            [
             0.3,
             "#f1b6da"
            ],
            [
             0.4,
             "#fde0ef"
            ],
            [
             0.5,
             "#f7f7f7"
            ],
            [
             0.6,
             "#e6f5d0"
            ],
            [
             0.7,
             "#b8e186"
            ],
            [
             0.8,
             "#7fbc41"
            ],
            [
             0.9,
             "#4d9221"
            ],
            [
             1,
             "#276419"
            ]
           ],
           "sequential": [
            [
             0,
             "#0d0887"
            ],
            [
             0.1111111111111111,
             "#46039f"
            ],
            [
             0.2222222222222222,
             "#7201a8"
            ],
            [
             0.3333333333333333,
             "#9c179e"
            ],
            [
             0.4444444444444444,
             "#bd3786"
            ],
            [
             0.5555555555555556,
             "#d8576b"
            ],
            [
             0.6666666666666666,
             "#ed7953"
            ],
            [
             0.7777777777777778,
             "#fb9f3a"
            ],
            [
             0.8888888888888888,
             "#fdca26"
            ],
            [
             1,
             "#f0f921"
            ]
           ],
           "sequentialminus": [
            [
             0,
             "#0d0887"
            ],
            [
             0.1111111111111111,
             "#46039f"
            ],
            [
             0.2222222222222222,
             "#7201a8"
            ],
            [
             0.3333333333333333,
             "#9c179e"
            ],
            [
             0.4444444444444444,
             "#bd3786"
            ],
            [
             0.5555555555555556,
             "#d8576b"
            ],
            [
             0.6666666666666666,
             "#ed7953"
            ],
            [
             0.7777777777777778,
             "#fb9f3a"
            ],
            [
             0.8888888888888888,
             "#fdca26"
            ],
            [
             1,
             "#f0f921"
            ]
           ]
          },
          "colorway": [
           "#636efa",
           "#EF553B",
           "#00cc96",
           "#ab63fa",
           "#FFA15A",
           "#19d3f3",
           "#FF6692",
           "#B6E880",
           "#FF97FF",
           "#FECB52"
          ],
          "font": {
           "color": "#2a3f5f"
          },
          "geo": {
           "bgcolor": "white",
           "lakecolor": "white",
           "landcolor": "#E5ECF6",
           "showlakes": true,
           "showland": true,
           "subunitcolor": "white"
          },
          "hoverlabel": {
           "align": "left"
          },
          "hovermode": "closest",
          "mapbox": {
           "style": "light"
          },
          "paper_bgcolor": "white",
          "plot_bgcolor": "#E5ECF6",
          "polar": {
           "angularaxis": {
            "gridcolor": "white",
            "linecolor": "white",
            "ticks": ""
           },
           "bgcolor": "#E5ECF6",
           "radialaxis": {
            "gridcolor": "white",
            "linecolor": "white",
            "ticks": ""
           }
          },
          "scene": {
           "xaxis": {
            "backgroundcolor": "#E5ECF6",
            "gridcolor": "white",
            "gridwidth": 2,
            "linecolor": "white",
            "showbackground": true,
            "ticks": "",
            "zerolinecolor": "white"
           },
           "yaxis": {
            "backgroundcolor": "#E5ECF6",
            "gridcolor": "white",
            "gridwidth": 2,
            "linecolor": "white",
            "showbackground": true,
            "ticks": "",
            "zerolinecolor": "white"
           },
           "zaxis": {
            "backgroundcolor": "#E5ECF6",
            "gridcolor": "white",
            "gridwidth": 2,
            "linecolor": "white",
            "showbackground": true,
            "ticks": "",
            "zerolinecolor": "white"
           }
          },
          "shapedefaults": {
           "line": {
            "color": "#2a3f5f"
           }
          },
          "ternary": {
           "aaxis": {
            "gridcolor": "white",
            "linecolor": "white",
            "ticks": ""
           },
           "baxis": {
            "gridcolor": "white",
            "linecolor": "white",
            "ticks": ""
           },
           "bgcolor": "#E5ECF6",
           "caxis": {
            "gridcolor": "white",
            "linecolor": "white",
            "ticks": ""
           }
          },
          "title": {
           "x": 0.05
          },
          "xaxis": {
           "automargin": true,
           "gridcolor": "white",
           "linecolor": "white",
           "ticks": "",
           "title": {
            "standoff": 15
           },
           "zerolinecolor": "white",
           "zerolinewidth": 2
          },
          "yaxis": {
           "automargin": true,
           "gridcolor": "white",
           "linecolor": "white",
           "ticks": "",
           "title": {
            "standoff": 15
           },
           "zerolinecolor": "white",
           "zerolinewidth": 2
          }
         }
        },
        "title": {
         "text": "Column diameter"
        },
        "xaxis": {
         "anchor": "y",
         "domain": [
          0,
          1
         ]
        },
        "yaxis": {
         "anchor": "x",
         "domain": [
          0,
          1
         ],
         "title": {
          "text": "Column diameter"
         }
        }
       }
      }
     },
     "metadata": {},
     "output_type": "display_data"
    },
    {
     "data": {
      "application/vnd.plotly.v1+json": {
       "config": {
        "plotlyServerURL": "https://plot.ly"
       },
       "data": [
        {
         "alignmentgroup": "True",
         "hovertemplate": "Phase thickness=%{y}<extra></extra>",
         "legendgroup": "",
         "marker": {
          "color": "#636efa"
         },
         "name": "",
         "notched": false,
         "offsetgroup": "",
         "orientation": "v",
         "showlegend": false,
         "type": "box",
         "x0": " ",
         "xaxis": "x",
         "y": [
          0.25,
          0.25,
          0.25,
          0.25,
          0.25,
          0.25,
          0.25,
          0.25,
          0.25,
          0.25,
          0.25,
          0.25,
          0.25,
          0.25,
          0.25,
          0.25,
          0.25,
          0.25,
          0.25,
          0.25,
          0.5,
          0.25,
          1.0498046875,
          0.25,
          0.25,
          0.25,
          0.25,
          0.300048828125,
          0.25,
          0.25,
          0.25,
          0.25,
          0.25,
          0.25,
          0.35009765625,
          0.25,
          0.25,
          0.25,
          0.25,
          0.25,
          0.25,
          0.25,
          0.5,
          0.5,
          0.25,
          0.25,
          0.25,
          0.25,
          0.25,
          0.25,
          0.25,
          0.25,
          0.25,
          0.25,
          0.25,
          0.25,
          0.25,
          0.25,
          0.25,
          0.25,
          0.25,
          0.25,
          0.25,
          0.25,
          0.25,
          0.25,
          0.25,
          0.25,
          0.25,
          0.25,
          0.25,
          0.25,
          0.25,
          0.25,
          0.25,
          0.25,
          0.25,
          0.25,
          0.25,
          0.25,
          0.199951171875,
          0.25,
          0.25,
          0.25,
          0.25,
          0.199951171875,
          0.5,
          0.5,
          0.25,
          0.25,
          0.25,
          0.25,
          0.25,
          0.25,
          0.25,
          0.25,
          0.25,
          0.25,
          0.25,
          0.25,
          0.25,
          0.25,
          0.25,
          0.25,
          0.25,
          0.25,
          0.25,
          0.25,
          0.25,
          0.25,
          0.5,
          0.25,
          0.25,
          0.25,
          0.25,
          0.25,
          0.25,
          0.25,
          0.25,
          0.25,
          0.25,
          0.0999755859375,
          0.0999755859375,
          0.0999755859375,
          0.25,
          0.35009765625,
          0.25,
          0.25,
          0.25,
          1,
          0.25,
          0.25,
          0.25,
          0.25,
          0.25,
          0.25,
          0.5,
          1,
          0.5,
          0.5,
          0.25,
          0.25,
          0.25,
          0.25,
          0.25,
          0.25,
          0.25,
          0.25,
          0.25,
          0.25,
          0.25,
          0.25,
          0.25,
          0.25,
          0.25,
          0.199951171875,
          0.5,
          0.5,
          0.25,
          0.25,
          0.25,
          0.25,
          0.25,
          0.25,
          0.25,
          0.25,
          0.25,
          0.25,
          0.25,
          0.25,
          0.25,
          0.25,
          0.25,
          0.25,
          0.25,
          0.25,
          0.25,
          0.25,
          0.25,
          0.25,
          0.25,
          0.5,
          0.25,
          0.25,
          0.25,
          0.25,
          0.25,
          0.25,
          0.25,
          0.25,
          0.25,
          0.25,
          0.25,
          0.25,
          0.25,
          0.25,
          0.25,
          0.25,
          0.25,
          0.25,
          0.25,
          0.25,
          0.25,
          0.25,
          0.25,
          0.25,
          0.25,
          0.25,
          0.25,
          0.5,
          0.25,
          0.25,
          1,
          1,
          0.25,
          0.25,
          0.25,
          0.25,
          0.25,
          0.25,
          0.25,
          0.25,
          0.25,
          0.39990234375,
          0.25,
          0.39990234375,
          0.39990234375,
          0.39990234375,
          0.25,
          0.25,
          0.25,
          0.25,
          0.25,
          0.25,
          0.25,
          0.25,
          0.25,
          0.25,
          0.25,
          0.25,
          1,
          0.25,
          0.25,
          0.25,
          0.25,
          0.25,
          0.5,
          0.1700439453125,
          0.1700439453125,
          0.25,
          0.25,
          0.25,
          0.25,
          0.25,
          0.25,
          0.25,
          0.25,
          0.25,
          0.25,
          0.25,
          0.25,
          0.25,
          0.25,
          0.25,
          0.25,
          0.25,
          0.5,
          0.25,
          0.25,
          0.25,
          0.25,
          0.25,
          0.25,
          0.25,
          0.25,
          0.25,
          0.25,
          0.25,
          0.25,
          0.25,
          0.25,
          0.25,
          0.25,
          0.25,
          0.25,
          0.25,
          0.25,
          0.25,
          0.25,
          0.39990234375,
          0.25,
          0.25,
          0.25,
          0.25,
          0.5,
          0.25,
          1,
          0.25,
          0.25,
          0.25,
          0.25,
          1,
          0.5,
          0.25,
          1,
          0.25,
          0.25,
          0.25,
          0.25,
          0.25,
          0.25,
          1,
          0.25,
          0.5,
          0.2149658203125,
          0.25,
          0.2149658203125,
          0.25,
          0.25,
          0.1500244140625,
          0.25,
          0.25,
          0.25,
          0.25,
          0.25,
          0.25,
          0.25,
          0.89990234375,
          0.89990234375,
          0.89990234375,
          0.25,
          0.25,
          0.25,
          0.25,
          0.25,
          0.25,
          0.25,
          0.25,
          0.25,
          0.25,
          0.25,
          0.25,
          0.25,
          0.25,
          0.25,
          0.25,
          0.25,
          0.25,
          0.25,
          0.25,
          0.25,
          0.25,
          0.300048828125,
          0.25,
          0.25,
          0.25,
          0.25,
          0.25,
          0.25,
          0.199951171875,
          0.25,
          0.25,
          0.25,
          0.25,
          0.25,
          0.25,
          0.25,
          0.25,
          0.25,
          0.25,
          0.25,
          0.25,
          0.25,
          0.25,
          0.25,
          0.25,
          0.25,
          0.25,
          0.25,
          0.25,
          0.25,
          0.25,
          0.25,
          0.25,
          0.25,
          0.25,
          0.25,
          0.25,
          0.25,
          0.25,
          0.25,
          0.25,
          0.25,
          0.25,
          0.25,
          0.25,
          0.25,
          0.25,
          0.25,
          0.25,
          0.25,
          0.25,
          0.25,
          0.25,
          0.25,
          0.25,
          0.25,
          0.25,
          0.25,
          0.25,
          0.25,
          0.25,
          1,
          0.25,
          0.199951171875,
          0.25,
          0.25,
          0.25,
          0.25,
          0.25,
          0.25,
          0.25,
          0.25,
          0.25,
          0.25,
          0.25,
          0.5,
          0.25,
          0.25,
          0.25,
          0.25,
          0.25,
          1,
          1,
          0.25,
          1,
          0.330078125,
          0.52001953125,
          0.25,
          0.25,
          0.25,
          0.199951171875,
          1,
          0.330078125,
          0.25,
          0.5,
          0.25,
          0.25,
          0.25,
          0.5,
          0.25,
          0.5,
          0.5,
          0.330078125,
          0.199951171875,
          0.25,
          0.25,
          0.5,
          0.25,
          0.25,
          0.5,
          0.0999755859375,
          0.25,
          0.25,
          0.25,
          0.25,
          0.25,
          0.25,
          0.25,
          0.25,
          0.25,
          0.25,
          0.25,
          0.25,
          0.25,
          0.25,
          0.25,
          0.25,
          0.25,
          0.25,
          1,
          0.25,
          0.330078125,
          0.330078125,
          0.25,
          0.25,
          0.25,
          0.25,
          0.25,
          0.25,
          0.25,
          0.25,
          0.25,
          0.25,
          0.25,
          1,
          0.25,
          0.25,
          0.25,
          0.25,
          0.5,
          0.5,
          0.25,
          0.25,
          0.25,
          0.25,
          0.25,
          0.25,
          0.25,
          0.25,
          0.25,
          0.25,
          0.25,
          0.25,
          0.25,
          0.25,
          1,
          0.25,
          0.25,
          0.25,
          0.25,
          0.25,
          0.25,
          0.25,
          0.0999755859375,
          0.75,
          0.1300048828125,
          0.5,
          0.25,
          0.25,
          0.25,
          0.25,
          0.25,
          0.25,
          0.25,
          0.25,
          0.449951171875,
          0.25,
          0.39990234375,
          0.25,
          0.25,
          0.25,
          0.25,
          0.25,
          0.25,
          0.25,
          5,
          0.25,
          1,
          0.25,
          1,
          0.25,
          0.25,
          1,
          0.25,
          0.25,
          1.2001953125,
          0.25,
          0.25,
          0.25,
          0.25,
          0.25,
          0.25,
          0.25,
          0.25,
          1,
          1,
          1.5,
          0.25,
          0.25,
          0.25,
          0.25,
          0.25,
          1,
          0.25,
          0.25,
          0.25,
          0.25,
          0.25,
          0.25,
          1,
          0.25,
          0.25,
          0.25,
          0.25,
          0.25,
          0.25,
          1.5,
          0.25,
          0.25,
          0.25,
          0.25,
          0.25,
          0.25,
          0.25,
          0.25,
          0.25,
          0.25,
          0.25,
          0.25,
          0.25,
          0.330078125,
          0.25,
          0.199951171875,
          0.199951171875,
          0.25,
          0.25,
          0.25,
          0.25,
          0.25,
          0.25,
          1.0498046875,
          1,
          0.25,
          0.25,
          0.25,
          0.25,
          0.25,
          0.25,
          0.25,
          0.25,
          0.25,
          0.25,
          0.25,
          0.25,
          0.25,
          0.25,
          0.25,
          0.52001953125,
          0.52001953125,
          0.25,
          0.25,
          0.25,
          0.25,
          0.25,
          0.199951171875,
          0.25,
          0.25,
          0.25,
          0.25,
          0.25,
          0.25,
          0.25,
          0.25,
          0.25,
          0.25,
          0.25,
          0.25,
          0.25,
          0.25,
          0.25,
          0.25,
          0.25,
          0.199951171875,
          0.25,
          0.25,
          0.260009765625,
          0.260009765625,
          0.260009765625,
          0.260009765625,
          0.260009765625,
          0.25,
          0.25,
          0.25,
          0.25,
          0.25,
          0.25,
          0.25,
          0.25,
          0.25,
          0.25,
          0.25,
          0.25,
          0.25,
          0.25,
          0.25,
          0.5,
          0.25,
          0.25,
          0.25,
          0.25,
          0.25,
          0.199951171875,
          0.25,
          0.5,
          0.5,
          0.5,
          0.5,
          0.5,
          0.5,
          0.5,
          0.5,
          0.5,
          0.5,
          0.5,
          0.5,
          0.25,
          0.25,
          0.25,
          0.25,
          1,
          0.25,
          0.25,
          0.25,
          0.25,
          0.25,
          0.25,
          0.25,
          0.25,
          0.25,
          0.25,
          0.25,
          0.25,
          0.25,
          0.25,
          0.25,
          0.25,
          0.25,
          0.25,
          0.25,
          0.25,
          0.25,
          0.25,
          0.25,
          0.25,
          0.25,
          0.25,
          0.25,
          0.25,
          0.25,
          0.25,
          0.25,
          0.25,
          0.25,
          1,
          0.1500244140625,
          0.1500244140625,
          0.1500244140625,
          0.1500244140625,
          0.1500244140625,
          0.25,
          0.25,
          0.25,
          0.25,
          1,
          0.25,
          0.25,
          1,
          1,
          0.25,
          0.25,
          0.25,
          0.2099609375,
          0.2099609375,
          0.25,
          0.25,
          0.25,
          0.25,
          0.25,
          0.25,
          0.25,
          0.25,
          0.25,
          0.25,
          0.25,
          0.25,
          0.25,
          0.25,
          0.25,
          0.25,
          0.25,
          0.25,
          0.25,
          0.25,
          0.25,
          0.25,
          0.25,
          0.25,
          0.25,
          0.25,
          0.25,
          0.25,
          0.25,
          0.25,
          0.25,
          0.25,
          0.25,
          0.25,
          0.25,
          0.25,
          0.25,
          0.25,
          0.25,
          0.25,
          0.25,
          0.25,
          0.25,
          0.25,
          0.25,
          0.25,
          0.25,
          0.25,
          0.25,
          0.25,
          0.25,
          0.25,
          0.25,
          0.25,
          0.25,
          0.25,
          0.330078125,
          0.330078125,
          0.330078125,
          0.330078125,
          0.330078125,
          0.330078125,
          0.330078125,
          0.330078125,
          0.25,
          0.25,
          0.25,
          0.25,
          0.25,
          0.25,
          0.25,
          0.25,
          0.25,
          0.25,
          0.25,
          0.25,
          0.25,
          0.25,
          0.25,
          0.25,
          0.25,
          0.5,
          0.25,
          0.25,
          0.25,
          0.25,
          0.25,
          0.25,
          0.25,
          0.25,
          0.25,
          0.25,
          0.25,
          0.25,
          0.25,
          0.25,
          0.25,
          0.25,
          0.25,
          0.25,
          0.25,
          0.25,
          0.25,
          0.25,
          0.25,
          0.25,
          0.25,
          0.25,
          0.25,
          0.25,
          0.25,
          1,
          0.5,
          0.5,
          0.25,
          0.25,
          0.25,
          1,
          0.25,
          0.25,
          0.25,
          0.25,
          0.25,
          0.25,
          0.5,
          1,
          0.25,
          0.25,
          0.25,
          0.25,
          0.25,
          0.25,
          0.25,
          0.25,
          0.25,
          1,
          0.25,
          0.25,
          0.25,
          0.25,
          0.199951171875,
          0.199951171875,
          1,
          0.25,
          0.25,
          0.25,
          0.25,
          0.25,
          0.25,
          0.25,
          0.25,
          0.25,
          0.25,
          0.25,
          0.25,
          0.5,
          0.25,
          0.25,
          0.25,
          0.25,
          0.5,
          0.25,
          0.25,
          0.25,
          0.25,
          0.25,
          0.25,
          0.25,
          0.25,
          0.25,
          0.25,
          0.5
         ],
         "y0": " ",
         "yaxis": "y"
        }
       ],
       "layout": {
        "boxmode": "group",
        "legend": {
         "tracegroupgap": 0
        },
        "template": {
         "data": {
          "bar": [
           {
            "error_x": {
             "color": "#2a3f5f"
            },
            "error_y": {
             "color": "#2a3f5f"
            },
            "marker": {
             "line": {
              "color": "#E5ECF6",
              "width": 0.5
             },
             "pattern": {
              "fillmode": "overlay",
              "size": 10,
              "solidity": 0.2
             }
            },
            "type": "bar"
           }
          ],
          "barpolar": [
           {
            "marker": {
             "line": {
              "color": "#E5ECF6",
              "width": 0.5
             },
             "pattern": {
              "fillmode": "overlay",
              "size": 10,
              "solidity": 0.2
             }
            },
            "type": "barpolar"
           }
          ],
          "carpet": [
           {
            "aaxis": {
             "endlinecolor": "#2a3f5f",
             "gridcolor": "white",
             "linecolor": "white",
             "minorgridcolor": "white",
             "startlinecolor": "#2a3f5f"
            },
            "baxis": {
             "endlinecolor": "#2a3f5f",
             "gridcolor": "white",
             "linecolor": "white",
             "minorgridcolor": "white",
             "startlinecolor": "#2a3f5f"
            },
            "type": "carpet"
           }
          ],
          "choropleth": [
           {
            "colorbar": {
             "outlinewidth": 0,
             "ticks": ""
            },
            "type": "choropleth"
           }
          ],
          "contour": [
           {
            "colorbar": {
             "outlinewidth": 0,
             "ticks": ""
            },
            "colorscale": [
             [
              0,
              "#0d0887"
             ],
             [
              0.1111111111111111,
              "#46039f"
             ],
             [
              0.2222222222222222,
              "#7201a8"
             ],
             [
              0.3333333333333333,
              "#9c179e"
             ],
             [
              0.4444444444444444,
              "#bd3786"
             ],
             [
              0.5555555555555556,
              "#d8576b"
             ],
             [
              0.6666666666666666,
              "#ed7953"
             ],
             [
              0.7777777777777778,
              "#fb9f3a"
             ],
             [
              0.8888888888888888,
              "#fdca26"
             ],
             [
              1,
              "#f0f921"
             ]
            ],
            "type": "contour"
           }
          ],
          "contourcarpet": [
           {
            "colorbar": {
             "outlinewidth": 0,
             "ticks": ""
            },
            "type": "contourcarpet"
           }
          ],
          "heatmap": [
           {
            "colorbar": {
             "outlinewidth": 0,
             "ticks": ""
            },
            "colorscale": [
             [
              0,
              "#0d0887"
             ],
             [
              0.1111111111111111,
              "#46039f"
             ],
             [
              0.2222222222222222,
              "#7201a8"
             ],
             [
              0.3333333333333333,
              "#9c179e"
             ],
             [
              0.4444444444444444,
              "#bd3786"
             ],
             [
              0.5555555555555556,
              "#d8576b"
             ],
             [
              0.6666666666666666,
              "#ed7953"
             ],
             [
              0.7777777777777778,
              "#fb9f3a"
             ],
             [
              0.8888888888888888,
              "#fdca26"
             ],
             [
              1,
              "#f0f921"
             ]
            ],
            "type": "heatmap"
           }
          ],
          "histogram": [
           {
            "marker": {
             "pattern": {
              "fillmode": "overlay",
              "size": 10,
              "solidity": 0.2
             }
            },
            "type": "histogram"
           }
          ],
          "histogram2d": [
           {
            "colorbar": {
             "outlinewidth": 0,
             "ticks": ""
            },
            "colorscale": [
             [
              0,
              "#0d0887"
             ],
             [
              0.1111111111111111,
              "#46039f"
             ],
             [
              0.2222222222222222,
              "#7201a8"
             ],
             [
              0.3333333333333333,
              "#9c179e"
             ],
             [
              0.4444444444444444,
              "#bd3786"
             ],
             [
              0.5555555555555556,
              "#d8576b"
             ],
             [
              0.6666666666666666,
              "#ed7953"
             ],
             [
              0.7777777777777778,
              "#fb9f3a"
             ],
             [
              0.8888888888888888,
              "#fdca26"
             ],
             [
              1,
              "#f0f921"
             ]
            ],
            "type": "histogram2d"
           }
          ],
          "histogram2dcontour": [
           {
            "colorbar": {
             "outlinewidth": 0,
             "ticks": ""
            },
            "colorscale": [
             [
              0,
              "#0d0887"
             ],
             [
              0.1111111111111111,
              "#46039f"
             ],
             [
              0.2222222222222222,
              "#7201a8"
             ],
             [
              0.3333333333333333,
              "#9c179e"
             ],
             [
              0.4444444444444444,
              "#bd3786"
             ],
             [
              0.5555555555555556,
              "#d8576b"
             ],
             [
              0.6666666666666666,
              "#ed7953"
             ],
             [
              0.7777777777777778,
              "#fb9f3a"
             ],
             [
              0.8888888888888888,
              "#fdca26"
             ],
             [
              1,
              "#f0f921"
             ]
            ],
            "type": "histogram2dcontour"
           }
          ],
          "mesh3d": [
           {
            "colorbar": {
             "outlinewidth": 0,
             "ticks": ""
            },
            "type": "mesh3d"
           }
          ],
          "parcoords": [
           {
            "line": {
             "colorbar": {
              "outlinewidth": 0,
              "ticks": ""
             }
            },
            "type": "parcoords"
           }
          ],
          "pie": [
           {
            "automargin": true,
            "type": "pie"
           }
          ],
          "scatter": [
           {
            "fillpattern": {
             "fillmode": "overlay",
             "size": 10,
             "solidity": 0.2
            },
            "type": "scatter"
           }
          ],
          "scatter3d": [
           {
            "line": {
             "colorbar": {
              "outlinewidth": 0,
              "ticks": ""
             }
            },
            "marker": {
             "colorbar": {
              "outlinewidth": 0,
              "ticks": ""
             }
            },
            "type": "scatter3d"
           }
          ],
          "scattercarpet": [
           {
            "marker": {
             "colorbar": {
              "outlinewidth": 0,
              "ticks": ""
             }
            },
            "type": "scattercarpet"
           }
          ],
          "scattergeo": [
           {
            "marker": {
             "colorbar": {
              "outlinewidth": 0,
              "ticks": ""
             }
            },
            "type": "scattergeo"
           }
          ],
          "scattergl": [
           {
            "marker": {
             "colorbar": {
              "outlinewidth": 0,
              "ticks": ""
             }
            },
            "type": "scattergl"
           }
          ],
          "scattermap": [
           {
            "marker": {
             "colorbar": {
              "outlinewidth": 0,
              "ticks": ""
             }
            },
            "type": "scattermap"
           }
          ],
          "scattermapbox": [
           {
            "marker": {
             "colorbar": {
              "outlinewidth": 0,
              "ticks": ""
             }
            },
            "type": "scattermapbox"
           }
          ],
          "scatterpolar": [
           {
            "marker": {
             "colorbar": {
              "outlinewidth": 0,
              "ticks": ""
             }
            },
            "type": "scatterpolar"
           }
          ],
          "scatterpolargl": [
           {
            "marker": {
             "colorbar": {
              "outlinewidth": 0,
              "ticks": ""
             }
            },
            "type": "scatterpolargl"
           }
          ],
          "scatterternary": [
           {
            "marker": {
             "colorbar": {
              "outlinewidth": 0,
              "ticks": ""
             }
            },
            "type": "scatterternary"
           }
          ],
          "surface": [
           {
            "colorbar": {
             "outlinewidth": 0,
             "ticks": ""
            },
            "colorscale": [
             [
              0,
              "#0d0887"
             ],
             [
              0.1111111111111111,
              "#46039f"
             ],
             [
              0.2222222222222222,
              "#7201a8"
             ],
             [
              0.3333333333333333,
              "#9c179e"
             ],
             [
              0.4444444444444444,
              "#bd3786"
             ],
             [
              0.5555555555555556,
              "#d8576b"
             ],
             [
              0.6666666666666666,
              "#ed7953"
             ],
             [
              0.7777777777777778,
              "#fb9f3a"
             ],
             [
              0.8888888888888888,
              "#fdca26"
             ],
             [
              1,
              "#f0f921"
             ]
            ],
            "type": "surface"
           }
          ],
          "table": [
           {
            "cells": {
             "fill": {
              "color": "#EBF0F8"
             },
             "line": {
              "color": "white"
             }
            },
            "header": {
             "fill": {
              "color": "#C8D4E3"
             },
             "line": {
              "color": "white"
             }
            },
            "type": "table"
           }
          ]
         },
         "layout": {
          "annotationdefaults": {
           "arrowcolor": "#2a3f5f",
           "arrowhead": 0,
           "arrowwidth": 1
          },
          "autotypenumbers": "strict",
          "coloraxis": {
           "colorbar": {
            "outlinewidth": 0,
            "ticks": ""
           }
          },
          "colorscale": {
           "diverging": [
            [
             0,
             "#8e0152"
            ],
            [
             0.1,
             "#c51b7d"
            ],
            [
             0.2,
             "#de77ae"
            ],
            [
             0.3,
             "#f1b6da"
            ],
            [
             0.4,
             "#fde0ef"
            ],
            [
             0.5,
             "#f7f7f7"
            ],
            [
             0.6,
             "#e6f5d0"
            ],
            [
             0.7,
             "#b8e186"
            ],
            [
             0.8,
             "#7fbc41"
            ],
            [
             0.9,
             "#4d9221"
            ],
            [
             1,
             "#276419"
            ]
           ],
           "sequential": [
            [
             0,
             "#0d0887"
            ],
            [
             0.1111111111111111,
             "#46039f"
            ],
            [
             0.2222222222222222,
             "#7201a8"
            ],
            [
             0.3333333333333333,
             "#9c179e"
            ],
            [
             0.4444444444444444,
             "#bd3786"
            ],
            [
             0.5555555555555556,
             "#d8576b"
            ],
            [
             0.6666666666666666,
             "#ed7953"
            ],
            [
             0.7777777777777778,
             "#fb9f3a"
            ],
            [
             0.8888888888888888,
             "#fdca26"
            ],
            [
             1,
             "#f0f921"
            ]
           ],
           "sequentialminus": [
            [
             0,
             "#0d0887"
            ],
            [
             0.1111111111111111,
             "#46039f"
            ],
            [
             0.2222222222222222,
             "#7201a8"
            ],
            [
             0.3333333333333333,
             "#9c179e"
            ],
            [
             0.4444444444444444,
             "#bd3786"
            ],
            [
             0.5555555555555556,
             "#d8576b"
            ],
            [
             0.6666666666666666,
             "#ed7953"
            ],
            [
             0.7777777777777778,
             "#fb9f3a"
            ],
            [
             0.8888888888888888,
             "#fdca26"
            ],
            [
             1,
             "#f0f921"
            ]
           ]
          },
          "colorway": [
           "#636efa",
           "#EF553B",
           "#00cc96",
           "#ab63fa",
           "#FFA15A",
           "#19d3f3",
           "#FF6692",
           "#B6E880",
           "#FF97FF",
           "#FECB52"
          ],
          "font": {
           "color": "#2a3f5f"
          },
          "geo": {
           "bgcolor": "white",
           "lakecolor": "white",
           "landcolor": "#E5ECF6",
           "showlakes": true,
           "showland": true,
           "subunitcolor": "white"
          },
          "hoverlabel": {
           "align": "left"
          },
          "hovermode": "closest",
          "mapbox": {
           "style": "light"
          },
          "paper_bgcolor": "white",
          "plot_bgcolor": "#E5ECF6",
          "polar": {
           "angularaxis": {
            "gridcolor": "white",
            "linecolor": "white",
            "ticks": ""
           },
           "bgcolor": "#E5ECF6",
           "radialaxis": {
            "gridcolor": "white",
            "linecolor": "white",
            "ticks": ""
           }
          },
          "scene": {
           "xaxis": {
            "backgroundcolor": "#E5ECF6",
            "gridcolor": "white",
            "gridwidth": 2,
            "linecolor": "white",
            "showbackground": true,
            "ticks": "",
            "zerolinecolor": "white"
           },
           "yaxis": {
            "backgroundcolor": "#E5ECF6",
            "gridcolor": "white",
            "gridwidth": 2,
            "linecolor": "white",
            "showbackground": true,
            "ticks": "",
            "zerolinecolor": "white"
           },
           "zaxis": {
            "backgroundcolor": "#E5ECF6",
            "gridcolor": "white",
            "gridwidth": 2,
            "linecolor": "white",
            "showbackground": true,
            "ticks": "",
            "zerolinecolor": "white"
           }
          },
          "shapedefaults": {
           "line": {
            "color": "#2a3f5f"
           }
          },
          "ternary": {
           "aaxis": {
            "gridcolor": "white",
            "linecolor": "white",
            "ticks": ""
           },
           "baxis": {
            "gridcolor": "white",
            "linecolor": "white",
            "ticks": ""
           },
           "bgcolor": "#E5ECF6",
           "caxis": {
            "gridcolor": "white",
            "linecolor": "white",
            "ticks": ""
           }
          },
          "title": {
           "x": 0.05
          },
          "xaxis": {
           "automargin": true,
           "gridcolor": "white",
           "linecolor": "white",
           "ticks": "",
           "title": {
            "standoff": 15
           },
           "zerolinecolor": "white",
           "zerolinewidth": 2
          },
          "yaxis": {
           "automargin": true,
           "gridcolor": "white",
           "linecolor": "white",
           "ticks": "",
           "title": {
            "standoff": 15
           },
           "zerolinecolor": "white",
           "zerolinewidth": 2
          }
         }
        },
        "title": {
         "text": "Phase thickness"
        },
        "xaxis": {
         "anchor": "y",
         "domain": [
          0,
          1
         ]
        },
        "yaxis": {
         "anchor": "x",
         "domain": [
          0,
          1
         ],
         "title": {
          "text": "Phase thickness"
         }
        }
       }
      }
     },
     "metadata": {},
     "output_type": "display_data"
    }
   ],
   "source": [
    "numeric_columns = list(df.select_dtypes(include=['number']).columns)\n",
    "\n",
    "if numeric_columns:\n",
    "    # Строим boxplot для каждого числового признака\n",
    "    for i, col in enumerate(numeric_columns): \n",
    "        # Рассчитываем выбросы\n",
    "        data = df[col].dropna()\n",
    "        Q1 = data.quantile(0.25)\n",
    "        Q3 = data.quantile(0.75)\n",
    "        IQR = Q3 - Q1\n",
    "        lower_bound = Q1 - 1.5 * IQR\n",
    "        upper_bound = Q3 + 1.5 * IQR\n",
    "        \n",
    "        outlier_count = len(data[(data < lower_bound) | (data > upper_bound)])\n",
    "        outlier_percentage = (outlier_count / len(data)) * 100\n",
    "        \n",
    "        # Boxplot\n",
    "        fig = px.box(df, y=col, title=col)\n",
    "        fig.show()\n",
    "    "
   ]
  },
  {
   "cell_type": "markdown",
   "id": "4d4cb9e2",
   "metadata": {},
   "source": [
    "Из графиков видно, что множество выбросов присутствует в параметрах Phase thickness, Column diameter, I"
   ]
  },
  {
   "cell_type": "code",
   "execution_count": 18,
   "id": "74ac6f2e",
   "metadata": {},
   "outputs": [
    {
     "name": "stdout",
     "output_type": "stream",
     "text": [
      "<class 'pandas.core.frame.DataFrame'>\n",
      "Index: 926 entries, 0 to 1280\n",
      "Data columns (total 16 columns):\n",
      " #   Column                Non-Null Count  Dtype   \n",
      "---  ------                --------------  -----   \n",
      " 0   Compound ID           926 non-null    object  \n",
      " 1   InChI                 926 non-null    object  \n",
      " 2   Retention index type  926 non-null    category\n",
      " 3   Active phase          926 non-null    object  \n",
      " 4   Temperature regime    926 non-null    category\n",
      " 5   I                     926 non-null    float32 \n",
      " 6   Temperature           926 non-null    float32 \n",
      " 7   Tstart                926 non-null    float32 \n",
      " 8   Tend                  926 non-null    float32 \n",
      " 9   Heat rate             926 non-null    float32 \n",
      " 10  Column type           926 non-null    category\n",
      " 11  Column length         926 non-null    float16 \n",
      " 12  Column diameter       926 non-null    float16 \n",
      " 13  Phase thickness       926 non-null    float16 \n",
      " 14  Is column polar       926 non-null    bool    \n",
      " 15  has_substrate         926 non-null    bool    \n",
      "dtypes: bool(2), category(3), float16(3), float32(5), object(3)\n",
      "memory usage: 57.4+ KB\n"
     ]
    }
   ],
   "source": [
    "iqr_outlier_search(df, df.select_dtypes(include=['number']))\n",
    "df.info()"
   ]
  },
  {
   "cell_type": "markdown",
   "id": "f22e4a21",
   "metadata": {},
   "source": [
    "### 7. Проверка взаимосвязей и согласованности\n",
    "Строим матрицу корреляций"
   ]
  },
  {
   "cell_type": "code",
   "execution_count": 19,
   "id": "3e4999b8",
   "metadata": {},
   "outputs": [
    {
     "data": {
      "image/png": "[encoded data removed]",
      "text/plain": [
       "<Figure size 1200x900 with 2 Axes>"
      ]
     },
     "metadata": {},
     "output_type": "display_data"
    }
   ],
   "source": [
    "corr_matrix = df.select_dtypes(include=['float16', 'float32']).corr(method='pearson')\n",
    "\n",
    "plt.figure(figsize=(12, 9))\n",
    "sns.heatmap(corr_matrix,\n",
    "            annot=True,   # Показываем значения в клетках\n",
    "            cmap='coolwarm', # Цветовая схема\n",
    "            fmt='.2f',    # Точность\n",
    "            center=0,     # Центр хитмапы в нуле\n",
    "            linewidths=0.5,\n",
    "            square=True)  # Подстраховка, чтобы клетки не поехали\n",
    "plt.title('Матрица корреляций', fontsize=16)\n",
    "plt.show()"
   ]
  },
  {
   "cell_type": "markdown",
   "id": "86eae2ab",
   "metadata": {},
   "source": [
    "Данные между собой не сильно коррелируют, исключая корреляцию между столбцом Temperature и Tend"
   ]
  },
  {
   "cell_type": "markdown",
   "id": "a0972d22",
   "metadata": {},
   "source": [
    "### 8. Расчёт метрик качества данных\n",
    "Датасет будет оценен по двум метрикам:\n",
    "- Completeness\n",
    "- Duplication Rate"
   ]
  },
  {
   "cell_type": "code",
   "execution_count": 20,
   "id": "65266202",
   "metadata": {},
   "outputs": [
    {
     "data": {
      "text/plain": [
       "np.float64(1.0)"
      ]
     },
     "execution_count": 20,
     "metadata": {},
     "output_type": "execute_result"
    }
   ],
   "source": [
    "# Расчитываем заполненность\n",
    "total = df.size\n",
    "nulls = df.isnull().sum().sum()\n",
    "completeness = (total - nulls) / total\n",
    "completeness"
   ]
  },
  {
   "cell_type": "code",
   "execution_count": 21,
   "id": "230c3041",
   "metadata": {},
   "outputs": [
    {
     "data": {
      "text/plain": [
       "0.07775377969762419"
      ]
     },
     "execution_count": 21,
     "metadata": {},
     "output_type": "execute_result"
    }
   ],
   "source": [
    "# Расчитываем долю дубликатов\n",
    "without_dupls = df.drop_duplicates().size\n",
    "duplication_rate = (total - without_dupls) / total\n",
    "duplication_rate"
   ]
  },
  {
   "cell_type": "markdown",
   "id": "44c8b320",
   "metadata": {},
   "source": [
    "Видно, что duplication_rate больше чем 0.01. А из-за небольшой выборки, мы можем спокойно удалить этот дубликат"
   ]
  },
  {
   "cell_type": "code",
   "execution_count": 22,
   "id": "716d2115",
   "metadata": {},
   "outputs": [],
   "source": [
    "df.drop_duplicates(inplace=True)"
   ]
  },
  {
   "cell_type": "code",
   "execution_count": 23,
   "id": "eca37c9f",
   "metadata": {},
   "outputs": [
    {
     "name": "stdout",
     "output_type": "stream",
     "text": [
      "<class 'pandas.core.frame.DataFrame'>\n",
      "Index: 854 entries, 0 to 1280\n",
      "Data columns (total 16 columns):\n",
      " #   Column                Non-Null Count  Dtype   \n",
      "---  ------                --------------  -----   \n",
      " 0   Compound ID           854 non-null    object  \n",
      " 1   InChI                 854 non-null    object  \n",
      " 2   Retention index type  854 non-null    category\n",
      " 3   Active phase          854 non-null    object  \n",
      " 4   Temperature regime    854 non-null    category\n",
      " 5   I                     854 non-null    float32 \n",
      " 6   Temperature           854 non-null    float32 \n",
      " 7   Tstart                854 non-null    float32 \n",
      " 8   Tend                  854 non-null    float32 \n",
      " 9   Heat rate             854 non-null    float32 \n",
      " 10  Column type           854 non-null    category\n",
      " 11  Column length         854 non-null    float16 \n",
      " 12  Column diameter       854 non-null    float16 \n",
      " 13  Phase thickness       854 non-null    float16 \n",
      " 14  Is column polar       854 non-null    bool    \n",
      " 15  has_substrate         854 non-null    bool    \n",
      "dtypes: bool(2), category(3), float16(3), float32(5), object(3)\n",
      "memory usage: 53.0+ KB\n"
     ]
    }
   ],
   "source": [
    "df.info()"
   ]
  }
 ],
 "metadata": {
  "kernelspec": {
   "display_name": "Python 3",
   "language": "python",
   "name": "python3"
  },
  "language_info": {
   "codemirror_mode": {
    "name": "ipython",
    "version": 3
   },
   "file_extension": ".py",
   "mimetype": "text/x-python",
   "name": "python",
   "nbconvert_exporter": "python",
   "pygments_lexer": "ipython3",
   "version": "3.12.12"
  }
 },
 "nbformat": 4,
 "nbformat_minor": 5
}
