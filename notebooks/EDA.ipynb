{
 "cells": [
  {
   "cell_type": "markdown",
   "id": "e3601c46",
   "metadata": {},
   "source": [
    "### 1. Библиотеки"
   ]
  },
  {
   "cell_type": "code",
   "execution_count": 59,
   "id": "24ffc405",
   "metadata": {},
   "outputs": [],
   "source": [
    "import pandas as pd\n",
    "import matplotlib.pyplot as plt\n",
    "import seaborn as sns"
   ]
  },
  {
   "cell_type": "markdown",
   "id": "99679577",
   "metadata": {},
   "source": [
    "### 2. Загрузка датасета + его осмотр"
   ]
  },
  {
   "cell_type": "code",
   "execution_count": 60,
   "id": "69523fb0",
   "metadata": {},
   "outputs": [
    {
     "name": "stderr",
     "output_type": "stream",
     "text": [
      "c:\\DEV\\miniconda3\\envs\\dde_env\\Lib\\site-packages\\pandas\\io\\formats\\format.py:1458: RuntimeWarning: overflow encountered in cast\n",
      "  has_large_values = (abs_vals > 1e6).any()\n",
      "c:\\DEV\\miniconda3\\envs\\dde_env\\Lib\\site-packages\\pandas\\io\\formats\\format.py:1458: RuntimeWarning: overflow encountered in cast\n",
      "  has_large_values = (abs_vals > 1e6).any()\n"
     ]
    },
    {
     "data": {
      "text/html": [
       "<div>\n",
       "<style scoped>\n",
       "    .dataframe tbody tr th:only-of-type {\n",
       "        vertical-align: middle;\n",
       "    }\n",
       "\n",
       "    .dataframe tbody tr th {\n",
       "        vertical-align: top;\n",
       "    }\n",
       "\n",
       "    .dataframe thead th {\n",
       "        text-align: right;\n",
       "    }\n",
       "</style>\n",
       "<table border=\"1\" class=\"dataframe\">\n",
       "  <thead>\n",
       "    <tr style=\"text-align: right;\">\n",
       "      <th></th>\n",
       "      <th>Compound ID</th>\n",
       "      <th>Compound name</th>\n",
       "      <th>InChI</th>\n",
       "      <th>Retention index type</th>\n",
       "      <th>Active phase</th>\n",
       "      <th>Carrier gas</th>\n",
       "      <th>Temperature regime</th>\n",
       "      <th>I</th>\n",
       "      <th>Temperature</th>\n",
       "      <th>Tstart</th>\n",
       "      <th>...</th>\n",
       "      <th>Final hold</th>\n",
       "      <th>Program</th>\n",
       "      <th>Column type</th>\n",
       "      <th>Column length</th>\n",
       "      <th>Column diameter</th>\n",
       "      <th>Phase thickness</th>\n",
       "      <th>Substrate</th>\n",
       "      <th>Reference</th>\n",
       "      <th>Comment</th>\n",
       "      <th>Is column polar</th>\n",
       "    </tr>\n",
       "  </thead>\n",
       "  <tbody>\n",
       "    <tr>\n",
       "      <th>0</th>\n",
       "      <td>C100005</td>\n",
       "      <td>Benzene, 1-chloro-4-nitro-</td>\n",
       "      <td>InChI=1S/C6H4ClNO2/c7-5-1-3-6(4-2-5)8(9)10/h1-4H</td>\n",
       "      <td>Lee's RI</td>\n",
       "      <td>HP5-MS</td>\n",
       "      <td>Helium</td>\n",
       "      <td>temperature ramp</td>\n",
       "      <td>212.0</td>\n",
       "      <td>NaN</td>\n",
       "      <td>50.0</td>\n",
       "      <td>...</td>\n",
       "      <td>10.0</td>\n",
       "      <td>None</td>\n",
       "      <td>Capillary</td>\n",
       "      <td>30.0</td>\n",
       "      <td>0.250000</td>\n",
       "      <td>0.25</td>\n",
       "      <td>None</td>\n",
       "      <td>Vrana, B.</td>\n",
       "      <td>None</td>\n",
       "      <td>False</td>\n",
       "    </tr>\n",
       "    <tr>\n",
       "      <th>1</th>\n",
       "      <td>C100005</td>\n",
       "      <td>Benzene, 1-chloro-4-nitro-</td>\n",
       "      <td>InChI=1S/C6H4ClNO2/c7-5-1-3-6(4-2-5)8(9)10/h1-4H</td>\n",
       "      <td>Normal alkane RI</td>\n",
       "      <td>OV-1</td>\n",
       "      <td>Hydrogen</td>\n",
       "      <td>custom temperature program</td>\n",
       "      <td>1193.0</td>\n",
       "      <td>NaN</td>\n",
       "      <td>NaN</td>\n",
       "      <td>...</td>\n",
       "      <td>NaN</td>\n",
       "      <td>not specified</td>\n",
       "      <td>Capillary</td>\n",
       "      <td>50.0</td>\n",
       "      <td>0.320068</td>\n",
       "      <td>NaN</td>\n",
       "      <td>None</td>\n",
       "      <td>Waggott, A.</td>\n",
       "      <td>None</td>\n",
       "      <td>False</td>\n",
       "    </tr>\n",
       "    <tr>\n",
       "      <th>2</th>\n",
       "      <td>C100005</td>\n",
       "      <td>Benzene, 1-chloro-4-nitro-</td>\n",
       "      <td>InChI=1S/C6H4ClNO2/c7-5-1-3-6(4-2-5)8(9)10/h1-4H</td>\n",
       "      <td>Normal alkane RI</td>\n",
       "      <td>SPB-1</td>\n",
       "      <td>NaN</td>\n",
       "      <td>custom temperature program</td>\n",
       "      <td>1187.0</td>\n",
       "      <td>NaN</td>\n",
       "      <td>NaN</td>\n",
       "      <td>...</td>\n",
       "      <td>NaN</td>\n",
       "      <td>not specified</td>\n",
       "      <td>Capillary</td>\n",
       "      <td>30.0</td>\n",
       "      <td>0.320068</td>\n",
       "      <td>NaN</td>\n",
       "      <td>None</td>\n",
       "      <td>Vezzani, S.</td>\n",
       "      <td>None</td>\n",
       "      <td>False</td>\n",
       "    </tr>\n",
       "    <tr>\n",
       "      <th>3</th>\n",
       "      <td>C100005</td>\n",
       "      <td>Benzene, 1-chloro-4-nitro-</td>\n",
       "      <td>InChI=1S/C6H4ClNO2/c7-5-1-3-6(4-2-5)8(9)10/h1-4H</td>\n",
       "      <td>Normal alkane RI</td>\n",
       "      <td>Ultra-1</td>\n",
       "      <td>Helium</td>\n",
       "      <td>temperature ramp</td>\n",
       "      <td>1189.0</td>\n",
       "      <td>NaN</td>\n",
       "      <td>80.0</td>\n",
       "      <td>...</td>\n",
       "      <td>NaN</td>\n",
       "      <td>None</td>\n",
       "      <td>Capillary</td>\n",
       "      <td>25.0</td>\n",
       "      <td>0.320068</td>\n",
       "      <td>0.25</td>\n",
       "      <td>None</td>\n",
       "      <td>Okumura, T., retention indices of environmenta...</td>\n",
       "      <td>MSDC-RI</td>\n",
       "      <td>False</td>\n",
       "    </tr>\n",
       "    <tr>\n",
       "      <th>4</th>\n",
       "      <td>C100005</td>\n",
       "      <td>Benzene, 1-chloro-4-nitro-</td>\n",
       "      <td>InChI=1S/C6H4ClNO2/c7-5-1-3-6(4-2-5)8(9)10/h1-4H</td>\n",
       "      <td>Normal alkane RI</td>\n",
       "      <td>Carbowax 400, Carbowax 20M, Carbowax 1540, Car...</td>\n",
       "      <td>Hydrogen</td>\n",
       "      <td>custom temperature program</td>\n",
       "      <td>1887.0</td>\n",
       "      <td>NaN</td>\n",
       "      <td>NaN</td>\n",
       "      <td>...</td>\n",
       "      <td>NaN</td>\n",
       "      <td>not specified</td>\n",
       "      <td>Capillary</td>\n",
       "      <td>50.0</td>\n",
       "      <td>0.320068</td>\n",
       "      <td>NaN</td>\n",
       "      <td>None</td>\n",
       "      <td>Waggott, A.</td>\n",
       "      <td>None</td>\n",
       "      <td>True</td>\n",
       "    </tr>\n",
       "  </tbody>\n",
       "</table>\n",
       "<p>5 rows × 23 columns</p>\n",
       "</div>"
      ],
      "text/plain": [
       "  Compound ID               Compound name  \\\n",
       "0     C100005  Benzene, 1-chloro-4-nitro-   \n",
       "1     C100005  Benzene, 1-chloro-4-nitro-   \n",
       "2     C100005  Benzene, 1-chloro-4-nitro-   \n",
       "3     C100005  Benzene, 1-chloro-4-nitro-   \n",
       "4     C100005  Benzene, 1-chloro-4-nitro-   \n",
       "\n",
       "                                              InChI Retention index type  \\\n",
       "0  InChI=1S/C6H4ClNO2/c7-5-1-3-6(4-2-5)8(9)10/h1-4H             Lee's RI   \n",
       "1  InChI=1S/C6H4ClNO2/c7-5-1-3-6(4-2-5)8(9)10/h1-4H     Normal alkane RI   \n",
       "2  InChI=1S/C6H4ClNO2/c7-5-1-3-6(4-2-5)8(9)10/h1-4H     Normal alkane RI   \n",
       "3  InChI=1S/C6H4ClNO2/c7-5-1-3-6(4-2-5)8(9)10/h1-4H     Normal alkane RI   \n",
       "4  InChI=1S/C6H4ClNO2/c7-5-1-3-6(4-2-5)8(9)10/h1-4H     Normal alkane RI   \n",
       "\n",
       "                                        Active phase Carrier gas  \\\n",
       "0                                             HP5-MS      Helium   \n",
       "1                                               OV-1    Hydrogen   \n",
       "2                                              SPB-1         NaN   \n",
       "3                                            Ultra-1      Helium   \n",
       "4  Carbowax 400, Carbowax 20M, Carbowax 1540, Car...    Hydrogen   \n",
       "\n",
       "           Temperature regime       I  Temperature  Tstart  ...  Final hold  \\\n",
       "0            temperature ramp   212.0          NaN    50.0  ...        10.0   \n",
       "1  custom temperature program  1193.0          NaN     NaN  ...         NaN   \n",
       "2  custom temperature program  1187.0          NaN     NaN  ...         NaN   \n",
       "3            temperature ramp  1189.0          NaN    80.0  ...         NaN   \n",
       "4  custom temperature program  1887.0          NaN     NaN  ...         NaN   \n",
       "\n",
       "         Program  Column type  Column length Column diameter Phase thickness  \\\n",
       "0           None    Capillary           30.0        0.250000            0.25   \n",
       "1  not specified    Capillary           50.0        0.320068             NaN   \n",
       "2  not specified    Capillary           30.0        0.320068             NaN   \n",
       "3           None    Capillary           25.0        0.320068            0.25   \n",
       "4  not specified    Capillary           50.0        0.320068             NaN   \n",
       "\n",
       "   Substrate                                          Reference  Comment  \\\n",
       "0       None                                          Vrana, B.     None   \n",
       "1       None                                        Waggott, A.     None   \n",
       "2       None                                        Vezzani, S.     None   \n",
       "3       None  Okumura, T., retention indices of environmenta...  MSDC-RI   \n",
       "4       None                                        Waggott, A.     None   \n",
       "\n",
       "  Is column polar  \n",
       "0           False  \n",
       "1           False  \n",
       "2           False  \n",
       "3           False  \n",
       "4            True  \n",
       "\n",
       "[5 rows x 23 columns]"
      ]
     },
     "execution_count": 60,
     "metadata": {},
     "output_type": "execute_result"
    }
   ],
   "source": [
    "df = pd.read_parquet('../data/gas_chromatography.parquet')\n",
    "df.head()"
   ]
  },
  {
   "cell_type": "code",
   "execution_count": 61,
   "id": "4cbba4c8",
   "metadata": {},
   "outputs": [
    {
     "name": "stderr",
     "output_type": "stream",
     "text": [
      "c:\\DEV\\miniconda3\\envs\\dde_env\\Lib\\site-packages\\pandas\\io\\formats\\format.py:1458: RuntimeWarning: overflow encountered in cast\n",
      "  has_large_values = (abs_vals > 1e6).any()\n",
      "c:\\DEV\\miniconda3\\envs\\dde_env\\Lib\\site-packages\\pandas\\io\\formats\\format.py:1458: RuntimeWarning: overflow encountered in cast\n",
      "  has_large_values = (abs_vals > 1e6).any()\n"
     ]
    },
    {
     "data": {
      "text/html": [
       "<div>\n",
       "<style scoped>\n",
       "    .dataframe tbody tr th:only-of-type {\n",
       "        vertical-align: middle;\n",
       "    }\n",
       "\n",
       "    .dataframe tbody tr th {\n",
       "        vertical-align: top;\n",
       "    }\n",
       "\n",
       "    .dataframe thead th {\n",
       "        text-align: right;\n",
       "    }\n",
       "</style>\n",
       "<table border=\"1\" class=\"dataframe\">\n",
       "  <thead>\n",
       "    <tr style=\"text-align: right;\">\n",
       "      <th></th>\n",
       "      <th>Compound ID</th>\n",
       "      <th>Compound name</th>\n",
       "      <th>InChI</th>\n",
       "      <th>Retention index type</th>\n",
       "      <th>Active phase</th>\n",
       "      <th>Carrier gas</th>\n",
       "      <th>Temperature regime</th>\n",
       "      <th>I</th>\n",
       "      <th>Temperature</th>\n",
       "      <th>Tstart</th>\n",
       "      <th>...</th>\n",
       "      <th>Final hold</th>\n",
       "      <th>Program</th>\n",
       "      <th>Column type</th>\n",
       "      <th>Column length</th>\n",
       "      <th>Column diameter</th>\n",
       "      <th>Phase thickness</th>\n",
       "      <th>Substrate</th>\n",
       "      <th>Reference</th>\n",
       "      <th>Comment</th>\n",
       "      <th>Is column polar</th>\n",
       "    </tr>\n",
       "  </thead>\n",
       "  <tbody>\n",
       "    <tr>\n",
       "      <th>1276</th>\n",
       "      <td>C100414</td>\n",
       "      <td>Ethylbenzene</td>\n",
       "      <td>InChI=1S/C8H10/c1-2-8-6-4-3-5-7-8/h3-7H,2H2,1H3</td>\n",
       "      <td>Normal alkane RI</td>\n",
       "      <td>Supelko CO Wax</td>\n",
       "      <td>Helium</td>\n",
       "      <td>custom temperature program</td>\n",
       "      <td>1127.0</td>\n",
       "      <td>NaN</td>\n",
       "      <td>NaN</td>\n",
       "      <td>...</td>\n",
       "      <td>NaN</td>\n",
       "      <td>None</td>\n",
       "      <td>Capillary</td>\n",
       "      <td>60.0</td>\n",
       "      <td>0.320068</td>\n",
       "      <td>0.25</td>\n",
       "      <td>None</td>\n",
       "      <td>Vekiari, S.A.</td>\n",
       "      <td>None</td>\n",
       "      <td>True</td>\n",
       "    </tr>\n",
       "    <tr>\n",
       "      <th>1277</th>\n",
       "      <td>C100414</td>\n",
       "      <td>Ethylbenzene</td>\n",
       "      <td>InChI=1S/C8H10/c1-2-8-6-4-3-5-7-8/h3-7H,2H2,1H3</td>\n",
       "      <td>Normal alkane RI</td>\n",
       "      <td>Supelko CO Wax</td>\n",
       "      <td>Helium</td>\n",
       "      <td>custom temperature program</td>\n",
       "      <td>1122.0</td>\n",
       "      <td>NaN</td>\n",
       "      <td>NaN</td>\n",
       "      <td>...</td>\n",
       "      <td>NaN</td>\n",
       "      <td>40 0C (5 min)  4 0C/min -&gt; 75 0C  5 0C/min -&gt; ...</td>\n",
       "      <td>Capillary</td>\n",
       "      <td>60.0</td>\n",
       "      <td>0.320068</td>\n",
       "      <td>0.25</td>\n",
       "      <td>None</td>\n",
       "      <td>Vekiari, S.A.</td>\n",
       "      <td>None</td>\n",
       "      <td>True</td>\n",
       "    </tr>\n",
       "    <tr>\n",
       "      <th>1278</th>\n",
       "      <td>C100414</td>\n",
       "      <td>Ethylbenzene</td>\n",
       "      <td>InChI=1S/C8H10/c1-2-8-6-4-3-5-7-8/h3-7H,2H2,1H3</td>\n",
       "      <td>Normal alkane RI</td>\n",
       "      <td>Supelko CO Wax</td>\n",
       "      <td>Helium</td>\n",
       "      <td>custom temperature program</td>\n",
       "      <td>1119.0</td>\n",
       "      <td>NaN</td>\n",
       "      <td>NaN</td>\n",
       "      <td>...</td>\n",
       "      <td>NaN</td>\n",
       "      <td>not specified</td>\n",
       "      <td>Capillary</td>\n",
       "      <td>60.0</td>\n",
       "      <td>0.320068</td>\n",
       "      <td>0.25</td>\n",
       "      <td>None</td>\n",
       "      <td>Vekiari, S.A.</td>\n",
       "      <td>None</td>\n",
       "      <td>True</td>\n",
       "    </tr>\n",
       "    <tr>\n",
       "      <th>1279</th>\n",
       "      <td>C100414</td>\n",
       "      <td>Ethylbenzene</td>\n",
       "      <td>InChI=1S/C8H10/c1-2-8-6-4-3-5-7-8/h3-7H,2H2,1H3</td>\n",
       "      <td>Normal alkane RI</td>\n",
       "      <td>Superox 0.6</td>\n",
       "      <td>NaN</td>\n",
       "      <td>NaN</td>\n",
       "      <td>NaN</td>\n",
       "      <td>NaN</td>\n",
       "      <td>NaN</td>\n",
       "      <td>...</td>\n",
       "      <td>NaN</td>\n",
       "      <td>None</td>\n",
       "      <td>NaN</td>\n",
       "      <td>NaN</td>\n",
       "      <td>NaN</td>\n",
       "      <td>NaN</td>\n",
       "      <td>None</td>\n",
       "      <td>None</td>\n",
       "      <td>None</td>\n",
       "      <td>True</td>\n",
       "    </tr>\n",
       "    <tr>\n",
       "      <th>1280</th>\n",
       "      <td>C100414</td>\n",
       "      <td>Ethylbenzene</td>\n",
       "      <td>InChI=1S/C8H10/c1-2-8-6-4-3-5-7-8/h3-7H,2H2,1H3</td>\n",
       "      <td>Normal alkane RI</td>\n",
       "      <td>ZB-Wax</td>\n",
       "      <td>Helium</td>\n",
       "      <td>temperature ramp</td>\n",
       "      <td>1139.0</td>\n",
       "      <td>NaN</td>\n",
       "      <td>40.0</td>\n",
       "      <td>...</td>\n",
       "      <td>10.0</td>\n",
       "      <td>None</td>\n",
       "      <td>Capillary</td>\n",
       "      <td>60.0</td>\n",
       "      <td>0.320068</td>\n",
       "      <td>0.50</td>\n",
       "      <td>None</td>\n",
       "      <td>Wierda R.L.</td>\n",
       "      <td>None</td>\n",
       "      <td>True</td>\n",
       "    </tr>\n",
       "  </tbody>\n",
       "</table>\n",
       "<p>5 rows × 23 columns</p>\n",
       "</div>"
      ],
      "text/plain": [
       "     Compound ID Compound name  \\\n",
       "1276     C100414  Ethylbenzene   \n",
       "1277     C100414  Ethylbenzene   \n",
       "1278     C100414  Ethylbenzene   \n",
       "1279     C100414  Ethylbenzene   \n",
       "1280     C100414  Ethylbenzene   \n",
       "\n",
       "                                                InChI Retention index type  \\\n",
       "1276  InChI=1S/C8H10/c1-2-8-6-4-3-5-7-8/h3-7H,2H2,1H3     Normal alkane RI   \n",
       "1277  InChI=1S/C8H10/c1-2-8-6-4-3-5-7-8/h3-7H,2H2,1H3     Normal alkane RI   \n",
       "1278  InChI=1S/C8H10/c1-2-8-6-4-3-5-7-8/h3-7H,2H2,1H3     Normal alkane RI   \n",
       "1279  InChI=1S/C8H10/c1-2-8-6-4-3-5-7-8/h3-7H,2H2,1H3     Normal alkane RI   \n",
       "1280  InChI=1S/C8H10/c1-2-8-6-4-3-5-7-8/h3-7H,2H2,1H3     Normal alkane RI   \n",
       "\n",
       "        Active phase Carrier gas          Temperature regime       I  \\\n",
       "1276  Supelko CO Wax      Helium  custom temperature program  1127.0   \n",
       "1277  Supelko CO Wax      Helium  custom temperature program  1122.0   \n",
       "1278  Supelko CO Wax      Helium  custom temperature program  1119.0   \n",
       "1279     Superox 0.6         NaN                         NaN     NaN   \n",
       "1280          ZB-Wax      Helium            temperature ramp  1139.0   \n",
       "\n",
       "      Temperature  Tstart  ...  Final hold  \\\n",
       "1276          NaN     NaN  ...         NaN   \n",
       "1277          NaN     NaN  ...         NaN   \n",
       "1278          NaN     NaN  ...         NaN   \n",
       "1279          NaN     NaN  ...         NaN   \n",
       "1280          NaN    40.0  ...        10.0   \n",
       "\n",
       "                                                Program  Column type  \\\n",
       "1276                                               None    Capillary   \n",
       "1277  40 0C (5 min)  4 0C/min -> 75 0C  5 0C/min -> ...    Capillary   \n",
       "1278                                      not specified    Capillary   \n",
       "1279                                               None          NaN   \n",
       "1280                                               None    Capillary   \n",
       "\n",
       "      Column length Column diameter Phase thickness  Substrate      Reference  \\\n",
       "1276           60.0        0.320068            0.25       None  Vekiari, S.A.   \n",
       "1277           60.0        0.320068            0.25       None  Vekiari, S.A.   \n",
       "1278           60.0        0.320068            0.25       None  Vekiari, S.A.   \n",
       "1279            NaN             NaN             NaN       None           None   \n",
       "1280           60.0        0.320068            0.50       None    Wierda R.L.   \n",
       "\n",
       "      Comment Is column polar  \n",
       "1276     None            True  \n",
       "1277     None            True  \n",
       "1278     None            True  \n",
       "1279     None            True  \n",
       "1280     None            True  \n",
       "\n",
       "[5 rows x 23 columns]"
      ]
     },
     "execution_count": 61,
     "metadata": {},
     "output_type": "execute_result"
    }
   ],
   "source": [
    "df.tail()"
   ]
  },
  {
   "cell_type": "markdown",
   "id": "579b9898",
   "metadata": {},
   "source": [
    "### 3. Проверка типов данных\n",
    "Так как данные загружены после приведения типов. Проверку не проводим"
   ]
  },
  {
   "cell_type": "code",
   "execution_count": 62,
   "id": "fcd2aadc",
   "metadata": {},
   "outputs": [
    {
     "name": "stdout",
     "output_type": "stream",
     "text": [
      "<class 'pandas.core.frame.DataFrame'>\n",
      "RangeIndex: 1281 entries, 0 to 1280\n",
      "Data columns (total 23 columns):\n",
      " #   Column                Non-Null Count  Dtype   \n",
      "---  ------                --------------  -----   \n",
      " 0   Compound ID           1281 non-null   object  \n",
      " 1   Compound name         1281 non-null   object  \n",
      " 2   InChI                 1281 non-null   object  \n",
      " 3   Retention index type  1281 non-null   category\n",
      " 4   Active phase          1281 non-null   object  \n",
      " 5   Carrier gas           834 non-null    category\n",
      " 6   Temperature regime    1278 non-null   category\n",
      " 7   I                     1278 non-null   float32 \n",
      " 8   Temperature           396 non-null    float32 \n",
      " 9   Tstart                548 non-null    float16 \n",
      " 10  Tend                  531 non-null    float16 \n",
      " 11  Heat rate             547 non-null    float16 \n",
      " 12  Initial hold          305 non-null    float16 \n",
      " 13  Final hold            242 non-null    float16 \n",
      " 14  Program               326 non-null    object  \n",
      " 15  Column type           1270 non-null   category\n",
      " 16  Column length         1096 non-null   float16 \n",
      " 17  Column diameter       986 non-null    float16 \n",
      " 18  Phase thickness       658 non-null    float16 \n",
      " 19  Substrate             101 non-null    object  \n",
      " 20  Reference             1265 non-null   object  \n",
      " 21  Comment               137 non-null    object  \n",
      " 22  Is column polar       1281 non-null   bool    \n",
      "dtypes: bool(1), category(4), float16(8), float32(2), object(8)\n",
      "memory usage: 117.1+ KB\n"
     ]
    }
   ],
   "source": [
    "df.info()"
   ]
  },
  {
   "cell_type": "markdown",
   "id": "dcd8f000",
   "metadata": {},
   "source": [
    "### 4. Удаление нерелевантных значений\n",
    "Нерелевантными значениями являются:\n",
    "- Compound name. Название компаунда закодировано в Compound ID\n",
    "- Carrier gas. Нет необходимости знать название транспортирующего газа, так как других параметров этого газа в датасете нет\n",
    "- Initial Hold и Final Hold. Они дублируют Tstart и Tend по смыслу\n",
    "- Program. Нам нет необходимости знать программу изменения температуры. Она прослеживается через параметры температуры\n",
    "- Reference. Имена исполнителей эксперимента. Также не имеют смысла и являются чувствительной информацией\n",
    "- Comment. Комментариев не много. Они не особо важны при работе с датасетом"
   ]
  },
  {
   "cell_type": "code",
   "execution_count": 63,
   "id": "8fa8eb91",
   "metadata": {},
   "outputs": [
    {
     "name": "stdout",
     "output_type": "stream",
     "text": [
      "<class 'pandas.core.frame.DataFrame'>\n",
      "RangeIndex: 1281 entries, 0 to 1280\n",
      "Data columns (total 16 columns):\n",
      " #   Column                Non-Null Count  Dtype   \n",
      "---  ------                --------------  -----   \n",
      " 0   Compound ID           1281 non-null   object  \n",
      " 1   InChI                 1281 non-null   object  \n",
      " 2   Retention index type  1281 non-null   category\n",
      " 3   Active phase          1281 non-null   object  \n",
      " 4   Temperature regime    1278 non-null   category\n",
      " 5   I                     1278 non-null   float32 \n",
      " 6   Temperature           396 non-null    float32 \n",
      " 7   Tstart                548 non-null    float16 \n",
      " 8   Tend                  531 non-null    float16 \n",
      " 9   Heat rate             547 non-null    float16 \n",
      " 10  Column type           1270 non-null   category\n",
      " 11  Column length         1096 non-null   float16 \n",
      " 12  Column diameter       986 non-null    float16 \n",
      " 13  Phase thickness       658 non-null    float16 \n",
      " 14  Substrate             101 non-null    object  \n",
      " 15  Is column polar       1281 non-null   bool    \n",
      "dtypes: bool(1), category(3), float16(6), float32(2), object(4)\n",
      "memory usage: 70.6+ KB\n"
     ]
    }
   ],
   "source": [
    "# Удаляем признаки\n",
    "df.drop(['Compound name', 'Carrier gas', 'Initial hold', 'Final hold', 'Program', 'Reference', 'Comment'], axis=1, inplace=True)\n",
    "df.info()"
   ]
  },
  {
   "cell_type": "markdown",
   "id": "13e4c73b",
   "metadata": {},
   "source": [
    "### 5. Оценка целостности и полноты данных"
   ]
  },
  {
   "cell_type": "code",
   "execution_count": 64,
   "id": "3aef89b1",
   "metadata": {},
   "outputs": [
    {
     "data": {
      "text/plain": [
       "Compound ID                0\n",
       "InChI                      0\n",
       "Retention index type       0\n",
       "Active phase               0\n",
       "Temperature regime         3\n",
       "I                          3\n",
       "Temperature              885\n",
       "Tstart                   733\n",
       "Tend                     750\n",
       "Heat rate                734\n",
       "Column type               11\n",
       "Column length            185\n",
       "Column diameter          295\n",
       "Phase thickness          623\n",
       "Substrate               1180\n",
       "Is column polar            0\n",
       "dtype: int64"
      ]
     },
     "execution_count": 64,
     "metadata": {},
     "output_type": "execute_result"
    }
   ],
   "source": [
    "# Подсчёт проопущенных значений по столбцам\n",
    "df.isna().sum()"
   ]
  },
  {
   "cell_type": "code",
   "execution_count": 65,
   "id": "65faa3e8",
   "metadata": {},
   "outputs": [
    {
     "data": {
      "text/plain": [
       "Compound ID             0.000000\n",
       "InChI                   0.000000\n",
       "Retention index type    0.000000\n",
       "Active phase            0.000000\n",
       "Temperature regime      0.002342\n",
       "I                       0.002342\n",
       "Temperature             0.690867\n",
       "Tstart                  0.572209\n",
       "Tend                    0.585480\n",
       "Heat rate               0.572990\n",
       "Column type             0.008587\n",
       "Column length           0.144418\n",
       "Column diameter         0.230289\n",
       "Phase thickness         0.486339\n",
       "Substrate               0.921155\n",
       "Is column polar         0.000000\n",
       "dtype: float64"
      ]
     },
     "execution_count": 65,
     "metadata": {},
     "output_type": "execute_result"
    }
   ],
   "source": [
    "# Доля пропусков по столбцам\n",
    "df.isna().mean()"
   ]
  },
  {
   "cell_type": "markdown",
   "id": "015e8f64",
   "metadata": {},
   "source": [
    "Из результатов выполненных команд видно, что большинство столбцов имеет незаполненные данные. Особенно выделяется Substrate.  \n",
    "  \n",
    "Substrate: малая заполненность связана с тем, что не во всех экспериментах неподвижная фаза газового хроматографа жидкая, а значит, Substrate не всегда есть.  "
   ]
  },
  {
   "cell_type": "code",
   "execution_count": 66,
   "id": "74f7309c",
   "metadata": {},
   "outputs": [],
   "source": [
    "# Заменим столбец на булевую фичу\n",
    "# Какой именно субстрат использовался в колонке нам не сильно важно\n",
    "df['has_substrate'] = df['Substrate'].notna()\n",
    "df.drop('Substrate', axis=1, inplace=True)\n"
   ]
  },
  {
   "cell_type": "markdown",
   "id": "4df34d2f",
   "metadata": {},
   "source": [
    "Также, заметны и колонки Temperature regime, I и Column type. В них пропущено мало значений. Так как условия проведения эксперимента можгут сильно отличаться друг от друга, то строки с пропущенными значениями отбрасываются"
   ]
  },
  {
   "cell_type": "code",
   "execution_count": 67,
   "id": "f6116aab",
   "metadata": {},
   "outputs": [],
   "source": [
    "df.dropna(subset=['Temperature regime', 'I', 'Column type'], how='any', inplace=True)"
   ]
  },
  {
   "cell_type": "markdown",
   "id": "99ba215d",
   "metadata": {},
   "source": [
    "Параметры Column length, Column diameter и Phase thickness заполняются медианными значениями"
   ]
  },
  {
   "cell_type": "code",
   "execution_count": 68,
   "id": "76675687",
   "metadata": {},
   "outputs": [],
   "source": [
    "df['Column length'] = df['Column length'].fillna(value=df['Column length'].median())\n",
    "df['Column diameter'] = df['Column diameter'].fillna(value=df['Column diameter'].median())\n",
    "df['Phase thickness'] = df['Phase thickness'].fillna(value=df['Phase thickness'].median())"
   ]
  },
  {
   "cell_type": "markdown",
   "id": "abb4ef09",
   "metadata": {},
   "source": [
    "Параметры Tempereture, Tstart, Tend являются не обязательными для заполнения. Для заполнения некоторых пропусков мы введём правила. Если в столбце Temperature есть данные, а в Tstart и Tend нет - заполнить их значением из Temperature. Если наоборот - заполнить средним между Tstart и Tend"
   ]
  },
  {
   "cell_type": "code",
   "execution_count": 69,
   "id": "04f36da5",
   "metadata": {},
   "outputs": [],
   "source": [
    "df['Temperature'] = df['Temperature'].fillna(value=(df['Tstart'] + df['Tend']) / 2)\n",
    "df['Tstart'] = df['Tstart'].fillna(value=df['Temperature'])\n",
    "df['Tend'] = df['Tend'].fillna(value=df['Temperature'])"
   ]
  },
  {
   "cell_type": "markdown",
   "id": "f0c7c50f",
   "metadata": {},
   "source": [
    "Так как некоторые значения температур изменились, то необходимо значения колонки Heat rate"
   ]
  },
  {
   "cell_type": "code",
   "execution_count": 70,
   "id": "8c164aca",
   "metadata": {},
   "outputs": [],
   "source": [
    "df['Heat rate'] = df['Heat rate'].fillna(value=(df['Tend'] / df['Tstart']))"
   ]
  },
  {
   "cell_type": "markdown",
   "id": "572242e3",
   "metadata": {},
   "source": [
    "Проверим количество пропущенных значений после проделанной работы"
   ]
  },
  {
   "cell_type": "code",
   "execution_count": 71,
   "id": "d68a4f27",
   "metadata": {},
   "outputs": [
    {
     "data": {
      "text/plain": [
       "Compound ID             0.000000\n",
       "InChI                   0.000000\n",
       "Retention index type    0.000000\n",
       "Active phase            0.000000\n",
       "Temperature regime      0.000000\n",
       "I                       0.000000\n",
       "Temperature             0.270079\n",
       "Tstart                  0.256693\n",
       "Tend                    0.270079\n",
       "Heat rate               0.252756\n",
       "Column type             0.000000\n",
       "Column length           0.000000\n",
       "Column diameter         0.000000\n",
       "Phase thickness         0.000000\n",
       "Is column polar         0.000000\n",
       "has_substrate           0.000000\n",
       "dtype: float64"
      ]
     },
     "execution_count": 71,
     "metadata": {},
     "output_type": "execute_result"
    }
   ],
   "source": [
    "df.isna().mean()"
   ]
  },
  {
   "cell_type": "markdown",
   "id": "d8f7234e",
   "metadata": {},
   "source": [
    "Видно, что остались пропущенные значения, которые, в виду уникальности экспериментов, невозможно заполнить, будут отброшены"
   ]
  },
  {
   "cell_type": "code",
   "execution_count": 72,
   "id": "fe50e14c",
   "metadata": {},
   "outputs": [
    {
     "data": {
      "text/plain": [
       "Compound ID             0\n",
       "InChI                   0\n",
       "Retention index type    0\n",
       "Active phase            0\n",
       "Temperature regime      0\n",
       "I                       0\n",
       "Temperature             0\n",
       "Tstart                  0\n",
       "Tend                    0\n",
       "Heat rate               0\n",
       "Column type             0\n",
       "Column length           0\n",
       "Column diameter         0\n",
       "Phase thickness         0\n",
       "Is column polar         0\n",
       "has_substrate           0\n",
       "dtype: int64"
      ]
     },
     "execution_count": 72,
     "metadata": {},
     "output_type": "execute_result"
    }
   ],
   "source": [
    "df.dropna(subset=['Temperature', 'Tstart', 'Tend', 'Heat rate'], how='any', inplace=True)\n",
    "df.isna().sum()"
   ]
  },
  {
   "cell_type": "markdown",
   "id": "56100a86",
   "metadata": {},
   "source": [
    "### 6. Поиск выбросов и аномалий\n",
    "Для поиска выбросов и аномалий буду использовать межквартильный размах (IQR)"
   ]
  },
  {
   "cell_type": "code",
   "execution_count": 73,
   "id": "e869230b",
   "metadata": {},
   "outputs": [],
   "source": [
    "# Функция поиска выбросов IQR\n",
    "def iqr_outlier_search(df: pd.DataFrame, columns: list):\n",
    "    for col in columns:\n",
    "        # Так как, параметры Temperature, Tstart, Tend не всегда должны быть заполнены, делаем для них исключение\n",
    "        Q1 = df[col].quantile(0.25)\n",
    "        Q3 = df[col].quantile(0.75)\n",
    "        IQR = Q3 - Q1\n",
    "        df = df[(df[col] >= Q1 - 1.5 * IQR) & (df[col] <= Q3 + 1.5 * IQR)]"
   ]
  },
  {
   "cell_type": "code",
   "execution_count": 74,
   "id": "74ac6f2e",
   "metadata": {},
   "outputs": [
    {
     "name": "stdout",
     "output_type": "stream",
     "text": [
      "<class 'pandas.core.frame.DataFrame'>\n",
      "Index: 926 entries, 0 to 1280\n",
      "Data columns (total 16 columns):\n",
      " #   Column                Non-Null Count  Dtype   \n",
      "---  ------                --------------  -----   \n",
      " 0   Compound ID           926 non-null    object  \n",
      " 1   InChI                 926 non-null    object  \n",
      " 2   Retention index type  926 non-null    category\n",
      " 3   Active phase          926 non-null    object  \n",
      " 4   Temperature regime    926 non-null    category\n",
      " 5   I                     926 non-null    float32 \n",
      " 6   Temperature           926 non-null    float32 \n",
      " 7   Tstart                926 non-null    float32 \n",
      " 8   Tend                  926 non-null    float32 \n",
      " 9   Heat rate             926 non-null    float32 \n",
      " 10  Column type           926 non-null    category\n",
      " 11  Column length         926 non-null    float16 \n",
      " 12  Column diameter       926 non-null    float16 \n",
      " 13  Phase thickness       926 non-null    float16 \n",
      " 14  Is column polar       926 non-null    bool    \n",
      " 15  has_substrate         926 non-null    bool    \n",
      "dtypes: bool(2), category(3), float16(3), float32(5), object(3)\n",
      "memory usage: 57.4+ KB\n"
     ]
    }
   ],
   "source": [
    "iqr_outlier_search(df, df.select_dtypes(include=['number']))\n",
    "df.info()"
   ]
  },
  {
   "cell_type": "markdown",
   "id": "f22e4a21",
   "metadata": {},
   "source": [
    "### 7. Проверка взаимосвязей и согласованности\n",
    "Строим матрицу корреляций"
   ]
  },
  {
   "cell_type": "code",
   "execution_count": 75,
   "id": "3e4999b8",
   "metadata": {},
   "outputs": [
    {
     "data": {
      "image/png": "[encoded data removed]",
      "text/plain": [
       "<Figure size 1200x900 with 2 Axes>"
      ]
     },
     "metadata": {},
     "output_type": "display_data"
    }
   ],
   "source": [
    "corr_matrix = df.select_dtypes(include=['float16', 'float32']).corr(method='pearson')\n",
    "\n",
    "plt.figure(figsize=(12, 9))\n",
    "sns.heatmap(corr_matrix,\n",
    "            annot=True,   # Показываем значения в клетках\n",
    "            cmap='coolwarm', # Цветовая схема\n",
    "            fmt='.2f',    # Точность\n",
    "            center=0,     # Центр хитмапы в нуле\n",
    "            linewidths=0.5,\n",
    "            square=True)  # Подстраховка, чтобы клетки не поехали\n",
    "plt.title('Матрица корреляций', fontsize=16)\n",
    "plt.show()"
   ]
  },
  {
   "cell_type": "markdown",
   "id": "86eae2ab",
   "metadata": {},
   "source": [
    "Данные между собой не сильно коррелируют, исключая корреляцию между столбцом Temperature и Tend"
   ]
  },
  {
   "cell_type": "markdown",
   "id": "a0972d22",
   "metadata": {},
   "source": [
    "### 8. Расчёт метрик качества данных\n",
    "Датасет будет оценен по двум метрикам:\n",
    "- Completeness\n",
    "- Duplication Rate"
   ]
  },
  {
   "cell_type": "code",
   "execution_count": 78,
   "id": "65266202",
   "metadata": {},
   "outputs": [
    {
     "data": {
      "text/plain": [
       "np.float64(1.0)"
      ]
     },
     "execution_count": 78,
     "metadata": {},
     "output_type": "execute_result"
    }
   ],
   "source": [
    "# Расчитываем заполненность\n",
    "total = df.size\n",
    "nulls = df.isnull().sum().sum()\n",
    "completeness = (total - nulls) / total\n",
    "completeness"
   ]
  },
  {
   "cell_type": "code",
   "execution_count": 79,
   "id": "230c3041",
   "metadata": {},
   "outputs": [
    {
     "data": {
      "text/plain": [
       "0.07775377969762419"
      ]
     },
     "execution_count": 79,
     "metadata": {},
     "output_type": "execute_result"
    }
   ],
   "source": [
    "# Расчитываем долю дубликатов\n",
    "without_dupls = df.drop_duplicates().size\n",
    "duplication_rate = (total - without_dupls) / total\n",
    "duplication_rate"
   ]
  },
  {
   "cell_type": "markdown",
   "id": "44c8b320",
   "metadata": {},
   "source": [
    "Видно, что duplication_rate больше чем 0.01. А из-за небольшой выборки, мы можем спокойно удалить этот дубликат"
   ]
  },
  {
   "cell_type": "code",
   "execution_count": 84,
   "id": "716d2115",
   "metadata": {},
   "outputs": [],
   "source": [
    "df.drop_duplicates(inplace=True)"
   ]
  },
  {
   "cell_type": "code",
   "execution_count": 85,
   "id": "eca37c9f",
   "metadata": {},
   "outputs": [
    {
     "name": "stdout",
     "output_type": "stream",
     "text": [
      "<class 'pandas.core.frame.DataFrame'>\n",
      "Index: 854 entries, 0 to 1280\n",
      "Data columns (total 16 columns):\n",
      " #   Column                Non-Null Count  Dtype   \n",
      "---  ------                --------------  -----   \n",
      " 0   Compound ID           854 non-null    object  \n",
      " 1   InChI                 854 non-null    object  \n",
      " 2   Retention index type  854 non-null    category\n",
      " 3   Active phase          854 non-null    object  \n",
      " 4   Temperature regime    854 non-null    category\n",
      " 5   I                     854 non-null    float32 \n",
      " 6   Temperature           854 non-null    float32 \n",
      " 7   Tstart                854 non-null    float32 \n",
      " 8   Tend                  854 non-null    float32 \n",
      " 9   Heat rate             854 non-null    float32 \n",
      " 10  Column type           854 non-null    category\n",
      " 11  Column length         854 non-null    float16 \n",
      " 12  Column diameter       854 non-null    float16 \n",
      " 13  Phase thickness       854 non-null    float16 \n",
      " 14  Is column polar       854 non-null    bool    \n",
      " 15  has_substrate         854 non-null    bool    \n",
      "dtypes: bool(2), category(3), float16(3), float32(5), object(3)\n",
      "memory usage: 53.0+ KB\n"
     ]
    }
   ],
   "source": [
    "df.info()"
   ]
  }
 ],
 "metadata": {
  "kernelspec": {
   "display_name": "dde_env",
   "language": "python",
   "name": "python3"
  },
  "language_info": {
   "codemirror_mode": {
    "name": "ipython",
    "version": 3
   },
   "file_extension": ".py",
   "mimetype": "text/x-python",
   "name": "python",
   "nbconvert_exporter": "python",
   "pygments_lexer": "ipython3",
   "version": "3.12.11"
  }
 },
 "nbformat": 4,
 "nbformat_minor": 5
}
